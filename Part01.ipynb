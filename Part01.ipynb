{
  "cells": [
    {
      "cell_type": "markdown",
      "metadata": {
        "id": "k_ANGcfuUjIJ"
      },
      "source": [
        "### Project Title : - Using Lung ultrasound images for building a reliable Point-of-care Covid-19 testing system"
      ]
    },
    {
      "cell_type": "markdown",
      "metadata": {
        "id": "50THmWGRhasf"
      },
      "source": [
        "####Multi Classifier : For classifying lung ultrasound images into one of the possible categories - Covid, Normal and Pneumonia"
      ]
    },
    {
      "cell_type": "code",
      "execution_count": null,
      "metadata": {
        "colab": {
          "base_uri": "https://localhost:8080/"
        },
        "id": "0BoCjP_rUlRG",
        "outputId": "4c03f866-3e92-4d89-98da-722d78cc0d49"
      },
      "outputs": [
        {
          "output_type": "stream",
          "name": "stdout",
          "text": [
            "Drive already mounted at /content/drive/; to attempt to forcibly remount, call drive.mount(\"/content/drive/\", force_remount=True).\n"
          ]
        }
      ],
      "source": [
        "from google.colab import drive\n",
        "drive.mount(\"/content/drive/\")"
      ]
    },
    {
      "cell_type": "code",
      "execution_count": null,
      "metadata": {
        "colab": {
          "base_uri": "https://localhost:8080/"
        },
        "id": "KUORJmZjUwCo",
        "outputId": "b19a2550-32b2-47ba-e7e7-067e19ecc0c5"
      },
      "outputs": [
        {
          "output_type": "stream",
          "name": "stdout",
          "text": [
            "/content/drive/MyDrive\n"
          ]
        }
      ],
      "source": [
        "cd drive/MyDrive/"
      ]
    },
    {
      "cell_type": "markdown",
      "metadata": {
        "id": "AqlZ4LLQYCue"
      },
      "source": [
        "####Placing images into respective folder of their class from 'Non covid' to Pneumonia, Other and Normal"
      ]
    },
    {
      "cell_type": "code",
      "execution_count": null,
      "metadata": {
        "id": "_-2yUtOzU0XZ"
      },
      "outputs": [],
      "source": [
        "import shutil\n",
        "import os\n",
        "path = \"/content/drive/MyDrive/data/image/original/non_covid\"\n",
        "\n",
        "for file in os.listdir(path):\n",
        "    if 'normal' in file:\n",
        "        s = os.path.join(path,file)\n",
        "        d = \"/content/drive/MyDrive/data/image/original/normal\"\n",
        "        new_path = shutil.move(s,d)\n",
        "    elif 'pneumonia' in file:\n",
        "        s = os.path.join(path,file)\n",
        "        d = \"/content/drive/MyDrive/data/image/original/pneumonia\"\n",
        "        new_path = shutil.move(s,d)\n",
        "    elif 'other' in file:\n",
        "       s = os.path.join(path,file)\n",
        "       d = \"/content/drive/MyDrive/data/image/original/other\"\n",
        "       new_path = shutil.move(s,d)"
      ]
    },
    {
      "cell_type": "markdown",
      "metadata": {
        "id": "vWADXJcoYf4B"
      },
      "source": [
        "####Checking number of images in each class"
      ]
    },
    {
      "cell_type": "code",
      "execution_count": null,
      "metadata": {
        "colab": {
          "base_uri": "https://localhost:8080/"
        },
        "id": "zj9Lfec4YcXp",
        "outputId": "11191e25-f637-4bb7-fc86-a20d7d99968d"
      },
      "outputs": [
        {
          "name": "stdout",
          "output_type": "stream",
          "text": [
            "Class Covid :  3995\n",
            "Class Normal :  2201\n",
            "Class Pneumonia :  4269\n",
            "Class Other :  7931\n"
          ]
        }
      ],
      "source": [
        "import os\n",
        "\n",
        "files = os.listdir(\"/content/drive/MyDrive/data/image/original/covid\")\n",
        "file_count = len(files)\n",
        "print(\"Class Covid : \",file_count)\n",
        "\n",
        "files = os.listdir(\"/content/drive/MyDrive/data/image/original/normal\")\n",
        "file_count = len(files)\n",
        "print(\"Class Normal : \",file_count)\n",
        "\n",
        "files = os.listdir(\"/content/drive/MyDrive/data/image/original/pneumonia\")\n",
        "file_count = len(files)\n",
        "print(\"Class Pneumonia : \",file_count)\n",
        "\n",
        "files = os.listdir(\"/content/drive/MyDrive/data/image/original/other\")\n",
        "file_count = len(files)\n",
        "print(\"Class Other : \",file_count)\n",
        "\n"
      ]
    },
    {
      "cell_type": "markdown",
      "metadata": {
        "id": "WMrZNJKsY9pO"
      },
      "source": [
        "####Splitting dataset into Training, Testing and Validation"
      ]
    },
    {
      "cell_type": "code",
      "execution_count": null,
      "metadata": {
        "colab": {
          "base_uri": "https://localhost:8080/"
        },
        "id": "tFrwhaYCf5um",
        "outputId": "c658f769-0317-463e-ac6b-4bb44d73a7a4"
      },
      "outputs": [
        {
          "output_type": "stream",
          "name": "stdout",
          "text": [
            "Looking in indexes: https://pypi.org/simple, https://us-python.pkg.dev/colab-wheels/public/simple/\n",
            "Collecting split-folders\n",
            "  Downloading split_folders-0.5.1-py3-none-any.whl (8.4 kB)\n",
            "Installing collected packages: split-folders\n",
            "Successfully installed split-folders-0.5.1\n"
          ]
        }
      ],
      "source": [
        "pip install split-folders"
      ]
    },
    {
      "cell_type": "markdown",
      "source": [
        "##### Training dataset will be used for training the model, validation data will be used for adjusting the hyperparameters. The test dataset will be the unseen set of images, that'd be used for testing model's performance on the unseen dataset. 70% of the entire dataset is used as training, 10% as validation and the rest as testing."
      ],
      "metadata": {
        "id": "MhPl0IkWzSgq"
      }
    },
    {
      "cell_type": "code",
      "execution_count": null,
      "metadata": {
        "colab": {
          "base_uri": "https://localhost:8080/"
        },
        "id": "tnm9BvvogG5D",
        "outputId": "062ba939-075b-47e2-93dd-b446239b1292"
      },
      "outputs": [
        {
          "name": "stderr",
          "output_type": "stream",
          "text": [
            "Copying files: 10465 files [02:29, 70.09 files/s]\n"
          ]
        }
      ],
      "source": [
        "import splitfolders\n",
        "\n",
        "#Splitting the entire dataset into training, testing and validation folders\n",
        "\n",
        "splitfolders.ratio('/content/drive/MyDrive/data/image/original',output ='splitted_data', ratio = (.7,0.1,0.2))"
      ]
    },
    {
      "cell_type": "markdown",
      "metadata": {
        "id": "dpmSHBpmhMsZ"
      },
      "source": [
        "####Dataset Verification"
      ]
    },
    {
      "cell_type": "markdown",
      "source": [
        "##### The following piece of code checks the number of images in each class for all the three types of dataset."
      ],
      "metadata": {
        "id": "-3lGvF9wza0i"
      }
    },
    {
      "cell_type": "code",
      "execution_count": null,
      "metadata": {
        "colab": {
          "base_uri": "https://localhost:8080/"
        },
        "id": "RSS7943thLyl",
        "outputId": "6f31e0e6-e894-4353-fcf3-d135934cc772"
      },
      "outputs": [
        {
          "name": "stdout",
          "output_type": "stream",
          "text": [
            "Training dataset\n",
            "Class Covid :  2796\n",
            "Class Normal :  1540\n",
            "Class Pneumonia :  2988\n",
            "---------------------\n",
            "Testing dataset\n",
            "Class Covid :  800\n",
            "Class Normal :  441\n",
            "Class Pneumonia :  855\n",
            "---------------------\n",
            "Validation dataset\n",
            "Class Covid :  399\n",
            "Class Normal :  220\n",
            "Class Pneumonia :  426\n"
          ]
        }
      ],
      "source": [
        "import os\n",
        "print(\"Training dataset\")\n",
        "files = os.listdir(\"/content/drive/MyDrive/splitted_data/train/covid\")\n",
        "file_count = len(files)\n",
        "print(\"Class Covid : \",file_count)\n",
        "\n",
        "files = os.listdir(\"/content/drive/MyDrive/splitted_data/train/normal\")\n",
        "file_count = len(files)\n",
        "print(\"Class Normal : \",file_count)\n",
        "\n",
        "files = os.listdir(\"/content/drive/MyDrive/splitted_data/train/pneumonia\")\n",
        "file_count = len(files)\n",
        "print(\"Class Pneumonia : \",file_count)\n",
        "\n",
        "print(\"---------------------\")\n",
        "print(\"Testing dataset\")\n",
        "files = os.listdir(\"/content/drive/MyDrive/splitted_data/test/covid\")\n",
        "file_count = len(files)\n",
        "print(\"Class Covid : \",file_count)\n",
        "\n",
        "files = os.listdir(\"/content/drive/MyDrive/splitted_data/test/normal\")\n",
        "file_count = len(files)\n",
        "print(\"Class Normal : \",file_count)\n",
        "\n",
        "files = os.listdir(\"/content/drive/MyDrive/splitted_data/test/pneumonia\")\n",
        "file_count = len(files)\n",
        "print(\"Class Pneumonia : \",file_count)\n",
        "\n",
        "print(\"---------------------\")\n",
        "print(\"Validation dataset\")\n",
        "files = os.listdir(\"/content/drive/MyDrive/splitted_data/val/covid\")\n",
        "file_count = len(files)\n",
        "print(\"Class Covid : \",file_count)\n",
        "\n",
        "files = os.listdir(\"/content/drive/MyDrive/splitted_data/val/normal\")\n",
        "file_count = len(files)\n",
        "print(\"Class Normal : \",file_count)\n",
        "\n",
        "files = os.listdir(\"/content/drive/MyDrive/splitted_data/val/pneumonia\")\n",
        "file_count = len(files)\n",
        "print(\"Class Pneumonia : \",file_count)"
      ]
    },
    {
      "cell_type": "markdown",
      "metadata": {
        "id": "MaEerwT0iLn2"
      },
      "source": [
        "####Dataset Loading and Pre-processing"
      ]
    },
    {
      "cell_type": "markdown",
      "source": [
        "##### It is important to pre-process the images before they are fed into the model. The image pre-processing has been done using Image Data Generator, as the dataset is huge and it'd be feasible to input data in batches. the batch size chosen is 512. The images are rescaled, so that the pixel values lie between 0-1 for all the images. The images have been resized to 197 X 198 pixels."
      ],
      "metadata": {
        "id": "fwXfesEHzhFM"
      }
    },
    {
      "cell_type": "code",
      "execution_count": null,
      "metadata": {
        "colab": {
          "base_uri": "https://localhost:8080/"
        },
        "id": "t4jHRUpEgG5c",
        "outputId": "77f6194b-5f17-4da5-f34c-d2e567f97782"
      },
      "outputs": [
        {
          "name": "stdout",
          "output_type": "stream",
          "text": [
            "Found 7324 images belonging to 3 classes.\n",
            "Found 2096 images belonging to 3 classes.\n",
            "Found 1045 images belonging to 3 classes.\n",
            "Batch shape=(512, 197, 198, 3), min=0.000, max=1.000\n"
          ]
        }
      ],
      "source": [
        "#Importing the necessary libraries\n",
        "\n",
        "import pathlib\n",
        "from pathlib import Path\n",
        "import tensorflow as tf\n",
        "from tensorflow.keras.preprocessing.image import ImageDataGenerator\n",
        "\n",
        "#Creating path for dataset folders\n",
        "p = Path().cwd()\n",
        "q = p/'splitted_data'\n",
        "\n",
        "#Images would be fed into the model as a batch of this size\n",
        "batch_size = 512\n",
        "\n",
        "#Rescaling the pixel values\n",
        "train_datagen = ImageDataGenerator(rescale=1./255)\n",
        "\n",
        "test_datagen = ImageDataGenerator(rescale=1./255)\n",
        "\n",
        "val_datagen = ImageDataGenerator(rescale=1./255)\n",
        "\n",
        "\n",
        "#Creating data generators for all the three datasets\n",
        "\n",
        "train_generator = train_datagen.flow_from_directory(q/'train',target_size=(197, 198), batch_size= batch_size,class_mode ='categorical')\n",
        "\n",
        "test_generator = test_datagen.flow_from_directory(q/'test',target_size= (197, 198), batch_size= batch_size,class_mode ='categorical')\n",
        "\n",
        "val_generator = val_datagen.flow_from_directory(q/'val',target_size=(197, 198), batch_size= batch_size,class_mode ='categorical')')\n",
        "\n",
        "# confirm the iterator works\n",
        "\n",
        "batchX, batchy = train_generator.next()\n",
        "print('Batch shape=%s, min=%.3f, max=%.3f' % (batchX.shape, batchX.min(), batchX.max()))\n"
      ]
    },
    {
      "cell_type": "markdown",
      "metadata": {
        "id": "D8wv2lFr9QGv"
      },
      "source": [
        "####Creating and Training Multi-classifier - VGG16"
      ]
    },
    {
      "cell_type": "code",
      "execution_count": null,
      "metadata": {
        "colab": {
          "base_uri": "https://localhost:8080/"
        },
        "id": "-TbQBkf7zR1J",
        "outputId": "8082ba79-68ed-4734-fab6-2989222f985c"
      },
      "outputs": [
        {
          "name": "stdout",
          "output_type": "stream",
          "text": [
            "Downloading data from https://storage.googleapis.com/tensorflow/keras-applications/vgg16/vgg16_weights_tf_dim_ordering_tf_kernels_notop.h5\n",
            "58892288/58889256 [==============================] - 0s 0us/step\n",
            "58900480/58889256 [==============================] - 0s 0us/step\n"
          ]
        }
      ],
      "source": [
        "pretrained= tf.keras.applications.VGG16(include_top=False,\n",
        "                   input_shape=(197,198,3), weights='imagenet')\n",
        "\n",
        "pretrained.trainable=False\n"
      ]
    },
    {
      "cell_type": "code",
      "execution_count": null,
      "metadata": {
        "colab": {
          "base_uri": "https://localhost:8080/"
        },
        "id": "IK5EJV4lzR14",
        "outputId": "ce6015a4-b124-48cc-c7a7-d18665a04b57"
      },
      "outputs": [
        {
          "name": "stdout",
          "output_type": "stream",
          "text": [
            "Model: \"model_2\"\n",
            "_________________________________________________________________\n",
            " Layer (type)                Output Shape              Param #   \n",
            "=================================================================\n",
            " input_4 (InputLayer)        [(None, 197, 198, 3)]     0         \n",
            "                                                                 \n",
            " sequential_4 (Sequential)   (None, 197, 198, 3)       0         \n",
            "                                                                 \n",
            " vgg16 (Functional)          (None, 6, 6, 512)         14714688  \n",
            "                                                                 \n",
            " flatten_7 (Flatten)         (None, 18432)             0         \n",
            "                                                                 \n",
            " dense_14 (Dense)            (None, 64)                1179712   \n",
            "                                                                 \n",
            " dropout_2 (Dropout)         (None, 64)                0         \n",
            "                                                                 \n",
            " dense_15 (Dense)            (None, 3)                 195       \n",
            "                                                                 \n",
            "=================================================================\n",
            "Total params: 15,894,595\n",
            "Trainable params: 1,179,907\n",
            "Non-trainable params: 14,714,688\n",
            "_________________________________________________________________\n"
          ]
        }
      ],
      "source": [
        "data_augmentation = tf.keras.Sequential([tf.keras.layers.RandomFlip(\"horizontal\"),\n",
        "                                      tf.keras.layers.RandomRotation(0.1),\n",
        "                                      tf.keras.layers.RandomZoom(0.2)])\n",
        "\n",
        "inputs = tf.keras.Input(shape=(197,198,3))\n",
        "x = data_augmentation(inputs)\n",
        "x = pretrained(x)\n",
        "x = tf.keras.layers.Flatten()(x)\n",
        "x = tf.keras.layers.Dense(64)(x)\n",
        "x = tf.keras.layers.Dropout(0.5)(x)\n",
        "outputs = tf.keras.layers.Dense(3, activation=\"softmax\")(x)\n",
        "\n",
        "multi_vgg16 = tf.keras.Model(inputs, outputs)\n",
        "\n",
        "multi_vgg16.summary()\n"
      ]
    },
    {
      "cell_type": "code",
      "execution_count": null,
      "metadata": {
        "id": "0Whf7WeazR3t"
      },
      "outputs": [],
      "source": [
        "multi_vgg16.compile(loss=\"categorical_crossentropy\",optimizer=\"rmsprop\", metrics=[\"accuracy\"])"
      ]
    },
    {
      "cell_type": "code",
      "execution_count": null,
      "metadata": {
        "colab": {
          "base_uri": "https://localhost:8080/"
        },
        "id": "qijNsQIEzR5x",
        "outputId": "8e10bddf-407c-494a-a0b8-0bdc6337f820"
      },
      "outputs": [
        {
          "name": "stdout",
          "output_type": "stream",
          "text": [
            "Epoch 1/3\n",
            "15/15 [==============================] - 85s 6s/step - loss: 9.8471 - accuracy: 0.4558 - val_loss: 2.5683 - val_accuracy: 0.6947\n",
            "Epoch 2/3\n",
            "15/15 [==============================] - 80s 5s/step - loss: 1.6024 - accuracy: 0.7388 - val_loss: 1.6130 - val_accuracy: 0.7598\n",
            "Epoch 3/3\n",
            "15/15 [==============================] - 79s 5s/step - loss: 2.0921 - accuracy: 0.7388 - val_loss: 2.4545 - val_accuracy: 0.7158\n"
          ]
        },
        {
          "data": {
            "text/plain": [
              "<keras.callbacks.History at 0x7f3593d50790>"
            ]
          },
          "execution_count": 25,
          "metadata": {},
          "output_type": "execute_result"
        }
      ],
      "source": [
        "multi_vgg16.fit( train_generator,steps_per_epoch = len(train_generator),epochs= 3 , validation_data= val_generator,\n",
        "             validation_steps = len(val_generator))"
      ]
    },
    {
      "cell_type": "markdown",
      "metadata": {
        "id": "ktf2Hlpd9rgR"
      },
      "source": [
        "####Testing the multi-classifier on testing data"
      ]
    },
    {
      "cell_type": "code",
      "execution_count": null,
      "metadata": {
        "colab": {
          "base_uri": "https://localhost:8080/"
        },
        "id": "eY6blgT3zSBF",
        "outputId": "96044058-0bc3-4872-ce1b-212468028c98"
      },
      "outputs": [
        {
          "name": "stdout",
          "output_type": "stream",
          "text": [
            "5/5 [==============================] - 453s 112s/step - loss: 2.5546 - accuracy: 0.7123\n",
            "Test accuracy  :  0.7123091816902161\n"
          ]
        }
      ],
      "source": [
        "final_loss, final_acc = multi_vgg16.evaluate(test_generator)\n",
        "print(\"Test accuracy  : \",final_acc)"
      ]
    },
    {
      "cell_type": "markdown",
      "metadata": {
        "id": "aM92jZuH-Get"
      },
      "source": [
        "####Removing duplicate images from the dataset"
      ]
    },
    {
      "cell_type": "markdown",
      "source": [
        "##### This code removed duplicate images from each class : Covid, Normal, Pneumonia, Other"
      ],
      "metadata": {
        "id": "DWXGYXCl1OoX"
      }
    },
    {
      "cell_type": "code",
      "execution_count": null,
      "metadata": {
        "colab": {
          "base_uri": "https://localhost:8080/",
          "height": 375
        },
        "id": "c3EczVC6J4I6",
        "outputId": "c1e55217-bd89-46a8-eec1-b15f34c752ee"
      },
      "outputs": [
        {
          "name": "stdout",
          "output_type": "stream",
          "text": [
            "Looking in indexes: https://pypi.org/simple, https://us-python.pkg.dev/colab-wheels/public/simple/\n",
            "Collecting scipy==1.2\n",
            "  Downloading scipy-1.2.0-cp37-cp37m-manylinux1_x86_64.whl (26.6 MB)\n",
            "\u001b[K     |████████████████████████████████| 26.6 MB 1.5 MB/s \n",
            "\u001b[?25hRequirement already satisfied: numpy>=1.8.2 in /usr/local/lib/python3.7/dist-packages (from scipy==1.2) (1.21.6)\n",
            "Installing collected packages: scipy\n",
            "  Attempting uninstall: scipy\n",
            "    Found existing installation: scipy 1.4.1\n",
            "    Uninstalling scipy-1.4.1:\n",
            "      Successfully uninstalled scipy-1.4.1\n",
            "\u001b[31mERROR: pip's dependency resolver does not currently take into account all the packages that are installed. This behaviour is the source of the following dependency conflicts.\n",
            "jax 0.3.8 requires scipy>=1.2.1, but you have scipy 1.2.0 which is incompatible.\n",
            "albumentations 0.1.12 requires imgaug<0.2.7,>=0.2.5, but you have imgaug 0.2.9 which is incompatible.\u001b[0m\n",
            "Successfully installed scipy-1.2.0\n"
          ]
        },
        {
          "data": {
            "application/vnd.colab-display-data+json": {
              "pip_warning": {
                "packages": [
                  "scipy"
                ]
              }
            }
          },
          "metadata": {},
          "output_type": "display_data"
        }
      ],
      "source": [
        "!pip install scipy==1.2\n",
        "\n"
      ]
    },
    {
      "cell_type": "code",
      "execution_count": null,
      "metadata": {
        "id": "d2CHhIzoJymW"
      },
      "outputs": [],
      "source": [
        "import hashlib\n",
        "from scipy.misc import imread, imresize, imshow\n",
        "import matplotlib.pyplot as plt\n",
        "import matplotlib.gridspec as gridspec\n",
        "%matplotlib inline\n",
        "import time\n",
        "import numpy as np\n",
        "import os"
      ]
    },
    {
      "cell_type": "markdown",
      "metadata": {
        "id": "o5h2mQ-wUPnZ"
      },
      "source": [
        "#####Class : Covid"
      ]
    },
    {
      "cell_type": "code",
      "execution_count": null,
      "metadata": {
        "id": "-nN-CaS6MKfH"
      },
      "outputs": [],
      "source": [
        "\n",
        "#Initialize empty list named as duplicates.\n",
        "#Initialize empty dictionary names as hash_keys.\n",
        "\n",
        "duplicates=[]\n",
        "hash_keys=dict()\n",
        "path ='/content/drive/MyDrive/covid'\n",
        "\n",
        "# Open every files and read it and create hash value of each file in folder.\n",
        "#We are using “md5\" algorithm for generating Hash value . “hexdigest()” function is used for creating hash values of each file.\n",
        "# If the file_hash is not in our hash_keys then give the index to file_hash. Else append the duplicate values into list named as duplicates.\n",
        "\n",
        "for index, filename in enumerate(os.listdir(path)):\n",
        "    x = os.path.join(path,filename)\n",
        "    if os.path.isfile(x):\n",
        "        with open(x, 'rb') as f:\n",
        "            filehash = hashlib.md5(f.read()).hexdigest()\n",
        "        if filehash not in hash_keys:\n",
        "            hash_keys[filehash]=index\n",
        "        else:\n",
        "            duplicates.append((index,hash_keys[filehash]))"
      ]
    },
    {
      "cell_type": "code",
      "execution_count": null,
      "metadata": {
        "colab": {
          "base_uri": "https://localhost:8080/"
        },
        "id": "POGDjdJkMia4",
        "outputId": "c8f6770d-3873-42f2-8bb1-031ac1276f06"
      },
      "outputs": [
        {
          "data": {
            "text/plain": [
              "[(2459, 2458),\n",
              " (2460, 2458),\n",
              " (2461, 2458),\n",
              " (2462, 2458),\n",
              " (2463, 2458),\n",
              " (2464, 2458)]"
            ]
          },
          "execution_count": 49,
          "metadata": {},
          "output_type": "execute_result"
        }
      ],
      "source": [
        "duplicates"
      ]
    },
    {
      "cell_type": "code",
      "execution_count": null,
      "metadata": {
        "id": "H35bo7uXRJII"
      },
      "outputs": [],
      "source": [
        "#Removing the images from the respective indices identified as duplicate\n",
        "for index in duplicates:\n",
        "  for i in index:\n",
        "    x = files_list[i]\n",
        "    path = '/content/drive/MyDrive/normal'\n",
        "    y = os.path.join(path,x)\n",
        "    os.remove(y)"
      ]
    },
    {
      "cell_type": "markdown",
      "metadata": {
        "id": "0Y2TVPhiUTTU"
      },
      "source": [
        "#####Class : Normal"
      ]
    },
    {
      "cell_type": "code",
      "execution_count": null,
      "metadata": {
        "id": "notV3k5xD9nD"
      },
      "outputs": [],
      "source": [
        "duplicates=[]\n",
        "hash_keys=dict()\n",
        "path ='/content/drive/MyDrive/normal'\n",
        "\n",
        "for index, filename in enumerate(os.listdir(path)):\n",
        "    x = os.path.join(path,filename)\n",
        "    if os.path.isfile(x):\n",
        "        with open(x, 'rb') as f:\n",
        "            filehash = hashlib.md5(f.read()).hexdigest()\n",
        "        if filehash not in hash_keys:\n",
        "            hash_keys[filehash]=index\n",
        "        else:\n",
        "            duplicates.append((index,hash_keys[filehash]))"
      ]
    },
    {
      "cell_type": "code",
      "execution_count": null,
      "metadata": {
        "colab": {
          "base_uri": "https://localhost:8080/"
        },
        "id": "BbFStSWfUgfu",
        "outputId": "c5318998-e8a1-439f-d48e-3df539f047d1"
      },
      "outputs": [
        {
          "data": {
            "text/plain": [
              "[(176, 175),\n",
              " (180, 179),\n",
              " (184, 183),\n",
              " (188, 187),\n",
              " (192, 191),\n",
              " (196, 195),\n",
              " (200, 199),\n",
              " (204, 203),\n",
              " (208, 207),\n",
              " (212, 211),\n",
              " (216, 215),\n",
              " (220, 219),\n",
              " (224, 223),\n",
              " (228, 227),\n",
              " (232, 231),\n",
              " (236, 235),\n",
              " (240, 239),\n",
              " (244, 243),\n",
              " (248, 247),\n",
              " (252, 251),\n",
              " (256, 255),\n",
              " (260, 259),\n",
              " (264, 263),\n",
              " (268, 267),\n",
              " (272, 271),\n",
              " (276, 275),\n",
              " (280, 279),\n",
              " (284, 283),\n",
              " (288, 287),\n",
              " (292, 291),\n",
              " (296, 295),\n",
              " (300, 299),\n",
              " (304, 303),\n",
              " (308, 307),\n",
              " (312, 311),\n",
              " (316, 315),\n",
              " (320, 319),\n",
              " (324, 323),\n",
              " (328, 327),\n",
              " (332, 331),\n",
              " (336, 335),\n",
              " (340, 339),\n",
              " (344, 343),\n",
              " (348, 347),\n",
              " (352, 351),\n",
              " (356, 355),\n",
              " (360, 359),\n",
              " (364, 363),\n",
              " (368, 367)]"
            ]
          },
          "execution_count": 112,
          "metadata": {},
          "output_type": "execute_result"
        }
      ],
      "source": [
        "duplicates"
      ]
    },
    {
      "cell_type": "code",
      "execution_count": null,
      "metadata": {
        "id": "i4fa88uHF3mo"
      },
      "outputs": [],
      "source": [
        "for index in duplicates:\n",
        "  for i in index:\n",
        "    x = files_list[i]\n",
        "    path = '/content/drive/MyDrive/normal'\n",
        "    y = os.path.join(path,x)\n",
        "    os.remove(y)"
      ]
    },
    {
      "cell_type": "code",
      "execution_count": null,
      "metadata": {
        "colab": {
          "base_uri": "https://localhost:8080/"
        },
        "id": "SUt4mXV8WvB_",
        "outputId": "520b6a8c-95cf-4b6c-883c-9ea775c17b68"
      },
      "outputs": [
        {
          "name": "stdout",
          "output_type": "stream",
          "text": [
            "2103\n"
          ]
        }
      ],
      "source": [
        "path = '/content/drive/MyDrive/normal'\n",
        "files_list = os.listdir(path)\n",
        "print (len(files_list))"
      ]
    },
    {
      "cell_type": "markdown",
      "metadata": {
        "id": "YntO81cVXQRb"
      },
      "source": [
        "#####Class : Pneumonia"
      ]
    },
    {
      "cell_type": "code",
      "execution_count": null,
      "metadata": {
        "id": "FeveGy3iXUVW"
      },
      "outputs": [],
      "source": [
        "duplicates=[]\n",
        "hash_keys=dict()\n",
        "path ='/content/drive/MyDrive/xx/pneumonia'\n",
        "\n",
        "for index, filename in enumerate(os.listdir(path)):\n",
        "    x = os.path.join(path,filename)\n",
        "    if os.path.isfile(x):\n",
        "        with open(x, 'rb') as f:\n",
        "            filehash = hashlib.md5(f.read()).hexdigest()\n",
        "        if filehash not in hash_keys:\n",
        "            hash_keys[filehash]=index\n",
        "        else:\n",
        "            duplicates.append((index,hash_keys[filehash]))"
      ]
    },
    {
      "cell_type": "code",
      "execution_count": null,
      "metadata": {
        "colab": {
          "base_uri": "https://localhost:8080/"
        },
        "id": "KI0kl4WJXoLh",
        "outputId": "77198720-84c7-445d-baee-37bcfe4ebb20"
      },
      "outputs": [
        {
          "data": {
            "text/plain": [
              "[(2864, 2863), (2867, 2863)]"
            ]
          },
          "execution_count": 140,
          "metadata": {},
          "output_type": "execute_result"
        }
      ],
      "source": [
        "duplicates"
      ]
    },
    {
      "cell_type": "code",
      "execution_count": null,
      "metadata": {
        "colab": {
          "base_uri": "https://localhost:8080/",
          "height": 204
        },
        "id": "_kl2e0rOXqPk",
        "outputId": "da9a7504-7614-4c45-c8cc-cece28a93b32"
      },
      "outputs": [
        {
          "ename": "FileNotFoundError",
          "evalue": "ignored",
          "output_type": "error",
          "traceback": [
            "\u001b[0;31m---------------------------------------------------------------------------\u001b[0m",
            "\u001b[0;31mFileNotFoundError\u001b[0m                         Traceback (most recent call last)",
            "\u001b[0;32m<ipython-input-142-3c850b533eb0>\u001b[0m in \u001b[0;36m<module>\u001b[0;34m()\u001b[0m\n\u001b[1;32m      4\u001b[0m       \u001b[0mpath\u001b[0m \u001b[0;34m=\u001b[0m \u001b[0;34m'/content/drive/MyDrive/xx/pneumonia'\u001b[0m\u001b[0;34m\u001b[0m\u001b[0;34m\u001b[0m\u001b[0m\n\u001b[1;32m      5\u001b[0m       \u001b[0my\u001b[0m \u001b[0;34m=\u001b[0m \u001b[0mos\u001b[0m\u001b[0;34m.\u001b[0m\u001b[0mpath\u001b[0m\u001b[0;34m.\u001b[0m\u001b[0mjoin\u001b[0m\u001b[0;34m(\u001b[0m\u001b[0mpath\u001b[0m\u001b[0;34m,\u001b[0m\u001b[0mx\u001b[0m\u001b[0;34m)\u001b[0m\u001b[0;34m\u001b[0m\u001b[0;34m\u001b[0m\u001b[0m\n\u001b[0;32m----> 6\u001b[0;31m       \u001b[0mos\u001b[0m\u001b[0;34m.\u001b[0m\u001b[0mremove\u001b[0m\u001b[0;34m(\u001b[0m\u001b[0my\u001b[0m\u001b[0;34m)\u001b[0m\u001b[0;34m\u001b[0m\u001b[0;34m\u001b[0m\u001b[0m\n\u001b[0m",
            "\u001b[0;31mFileNotFoundError\u001b[0m: [Errno 2] No such file or directory: '/content/drive/MyDrive/xx/pneumonia/25_grepmed_pneumonia_convex_frame392.jpg'"
          ]
        }
      ],
      "source": [
        "for index in duplicates:\n",
        "  for i in index:\n",
        "      x = files_list[i]\n",
        "      path = '/content/drive/MyDrive/xx/pneumonia'\n",
        "      y = os.path.join(path,x)\n",
        "      os.remove(y)"
      ]
    },
    {
      "cell_type": "code",
      "execution_count": null,
      "metadata": {
        "colab": {
          "base_uri": "https://localhost:8080/"
        },
        "id": "E0pmZ00TYIs6",
        "outputId": "dec4354a-9a31-4abd-9bc5-3961c5dc834e"
      },
      "outputs": [
        {
          "name": "stdout",
          "output_type": "stream",
          "text": [
            "4226\n"
          ]
        }
      ],
      "source": [
        "path = '/content/drive/MyDrive/xx/pneumonia'\n",
        "files_list = os.listdir(path)\n",
        "print (len(files_list))"
      ]
    },
    {
      "cell_type": "markdown",
      "metadata": {
        "id": "_Azt-7CpZnVO"
      },
      "source": [
        "####Creating and training a Mult-classifier after removing the duplicate images"
      ]
    },
    {
      "cell_type": "markdown",
      "metadata": {
        "id": "dYHexjf_aIUV"
      },
      "source": [
        "####Splitting the dataset"
      ]
    },
    {
      "cell_type": "markdown",
      "source": [
        "##### Now that the duplicate images have been removed, we'd have to split up the dataset again."
      ],
      "metadata": {
        "id": "rYfPPPywzxsS"
      }
    },
    {
      "cell_type": "code",
      "execution_count": null,
      "metadata": {
        "colab": {
          "base_uri": "https://localhost:8080/"
        },
        "id": "iiu2imjwZmV_",
        "outputId": "c122220f-3391-49f5-f381-03da3b2b809f"
      },
      "outputs": [
        {
          "name": "stderr",
          "output_type": "stream",
          "text": [
            "Copying files: 10312 files [01:34, 108.61 files/s]\n"
          ]
        }
      ],
      "source": [
        "import splitfolders\n",
        "\n",
        "#Splitting the entire dataset into training, testing and validation folders\n",
        "\n",
        "splitfolders.ratio('/content/drive/MyDrive/My_Dataset',output ='splitted', ratio = (.7,0.1,0.2))"
      ]
    },
    {
      "cell_type": "markdown",
      "metadata": {
        "id": "iv-6iu57aLNU"
      },
      "source": [
        "####Dataset Verification"
      ]
    },
    {
      "cell_type": "code",
      "execution_count": null,
      "metadata": {
        "colab": {
          "base_uri": "https://localhost:8080/"
        },
        "id": "6v9jmnJEaDJq",
        "outputId": "6cb2219c-ca54-49e4-f72e-55582b5107cd"
      },
      "outputs": [
        {
          "name": "stdout",
          "output_type": "stream",
          "text": [
            "Training dataset\n",
            "Class Covid :  2792\n",
            "Class Normal :  1467\n",
            "Class Pneumonia :  2958\n",
            "---------------------\n",
            "Testing dataset\n",
            "Class Covid :  799\n",
            "Class Normal :  421\n",
            "Class Pneumonia :  846\n",
            "---------------------\n",
            "Validation dataset\n",
            "Class Covid :  398\n",
            "Class Normal :  209\n",
            "Class Pneumonia :  422\n"
          ]
        }
      ],
      "source": [
        "import os\n",
        "print(\"Training dataset\")\n",
        "files = os.listdir(\"/content/drive/MyDrive/splitted/train/covid\")\n",
        "file_count = len(files)\n",
        "print(\"Class Covid : \",file_count)\n",
        "\n",
        "files = os.listdir(\"/content/drive/MyDrive/splitted/train/normal\")\n",
        "file_count = len(files)\n",
        "print(\"Class Normal : \",file_count)\n",
        "\n",
        "files = os.listdir(\"/content/drive/MyDrive/splitted/train/pneumonia\")\n",
        "file_count = len(files)\n",
        "print(\"Class Pneumonia : \",file_count)\n",
        "\n",
        "print(\"---------------------\")\n",
        "print(\"Testing dataset\")\n",
        "files = os.listdir(\"/content/drive/MyDrive/splitted/test/covid\")\n",
        "file_count = len(files)\n",
        "print(\"Class Covid : \",file_count)\n",
        "\n",
        "files = os.listdir(\"/content/drive/MyDrive/splitted/test/normal\")\n",
        "file_count = len(files)\n",
        "print(\"Class Normal : \",file_count)\n",
        "\n",
        "files = os.listdir(\"/content/drive/MyDrive/splitted/test/pneumonia\")\n",
        "file_count = len(files)\n",
        "print(\"Class Pneumonia : \",file_count)\n",
        "\n",
        "print(\"---------------------\")\n",
        "print(\"Validation dataset\")\n",
        "files = os.listdir(\"/content/drive/MyDrive/splitted/val/covid\")\n",
        "file_count = len(files)\n",
        "print(\"Class Covid : \",file_count)\n",
        "\n",
        "files = os.listdir(\"/content/drive/MyDrive/splitted/val/normal\")\n",
        "file_count = len(files)\n",
        "print(\"Class Normal : \",file_count)\n",
        "\n",
        "files = os.listdir(\"/content/drive/MyDrive/splitted/val/pneumonia\")\n",
        "file_count = len(files)\n",
        "print(\"Class Pneumonia : \",file_count)"
      ]
    },
    {
      "cell_type": "markdown",
      "metadata": {
        "id": "XtiR7lTAakYQ"
      },
      "source": [
        "#### Dataset Loading and Pre-processing"
      ]
    },
    {
      "cell_type": "code",
      "execution_count": null,
      "metadata": {
        "colab": {
          "base_uri": "https://localhost:8080/"
        },
        "id": "kw-C7-jNanoA",
        "outputId": "d54f0202-d866-4525-9502-c7c62468ac62"
      },
      "outputs": [
        {
          "name": "stdout",
          "output_type": "stream",
          "text": [
            "Found 7217 images belonging to 3 classes.\n",
            "Found 2066 images belonging to 3 classes.\n",
            "Found 1029 images belonging to 3 classes.\n",
            "Batch shape=(128, 197, 198, 3), min=0.000, max=1.000\n"
          ]
        }
      ],
      "source": [
        "#Importing the necessary libraries\n",
        "\n",
        "import pathlib\n",
        "from pathlib import Path\n",
        "import tensorflow as tf\n",
        "from tensorflow.keras.preprocessing.image import ImageDataGenerator\n",
        "\n",
        "#Creating path for dataset folders\n",
        "p = Path().cwd()\n",
        "q = p/'splitted'\n",
        "\n",
        "#Images would be fed into the model as a batch of this size\n",
        "batch_size = 128\n",
        "\n",
        "#Rescaling the pixel values\n",
        "train_datagen = ImageDataGenerator(rescale=1./255)\n",
        "\n",
        "test_datagen = ImageDataGenerator(rescale=1./255)\n",
        "\n",
        "val_datagen = ImageDataGenerator(rescale=1./255)\n",
        "\n",
        "\n",
        "#Creating data generators for all the three datasets\n",
        "\n",
        "train_generator = train_datagen.flow_from_directory(q/'train',target_size=(197, 198), batch_size= batch_size,class_mode ='categorical')\n",
        "\n",
        "test_generator = test_datagen.flow_from_directory(q/'test',target_size= (197, 198), batch_size= batch_size,class_mode ='categorical')\n",
        "\n",
        "val_generator = val_datagen.flow_from_directory(q/'val',target_size=(197, 198), batch_size= batch_size,class_mode ='categorical')\n",
        "\n",
        "# confirm the iterator works\n",
        "\n",
        "batchX, batchy = train_generator.next()\n",
        "print('Batch shape=%s, min=%.3f, max=%.3f' % (batchX.shape, batchX.min(), batchX.max()))\n"
      ]
    },
    {
      "cell_type": "markdown",
      "metadata": {
        "id": "rfeaqXrEa-j1"
      },
      "source": [
        "####Multi-classifier - VGG16"
      ]
    },
    {
      "cell_type": "code",
      "execution_count": null,
      "metadata": {
        "id": "XVYNrt5Caxs8"
      },
      "outputs": [],
      "source": [
        "pretrained= tf.keras.applications.VGG16(include_top=False,\n",
        "                   input_shape=(197,198,3), weights='imagenet')\n"
      ]
    },
    {
      "cell_type": "code",
      "execution_count": null,
      "metadata": {
        "colab": {
          "base_uri": "https://localhost:8080/"
        },
        "id": "huoekpTMbBgG",
        "outputId": "4c9fa1f4-895f-4a4b-9efb-064ce7248106"
      },
      "outputs": [
        {
          "name": "stdout",
          "output_type": "stream",
          "text": [
            "Model: \"model_1\"\n",
            "_________________________________________________________________\n",
            " Layer (type)                Output Shape              Param #   \n",
            "=================================================================\n",
            " input_4 (InputLayer)        [(None, 197, 198, 3)]     0         \n",
            "                                                                 \n",
            " sequential_1 (Sequential)   (None, 197, 198, 3)       0         \n",
            "                                                                 \n",
            " vgg16 (Functional)          (None, 6, 6, 512)         14714688  \n",
            "                                                                 \n",
            " flatten_1 (Flatten)         (None, 18432)             0         \n",
            "                                                                 \n",
            " dense_2 (Dense)             (None, 512)               9437696   \n",
            "                                                                 \n",
            " dropout_1 (Dropout)         (None, 512)               0         \n",
            "                                                                 \n",
            " dense_3 (Dense)             (None, 3)                 1539      \n",
            "                                                                 \n",
            "=================================================================\n",
            "Total params: 24,153,923\n",
            "Trainable params: 24,153,923\n",
            "Non-trainable params: 0\n",
            "_________________________________________________________________\n"
          ]
        }
      ],
      "source": [
        "data_augmentation = tf.keras.Sequential([tf.keras.layers.RandomFlip(\"horizontal\"),\n",
        "                                      tf.keras.layers.RandomRotation(0.1),\n",
        "                                      tf.keras.layers.RandomZoom(0.2)])\n",
        "\n",
        "inputs = tf.keras.Input(shape=(197,198,3))\n",
        "x = data_augmentation(inputs)\n",
        "x = pretrained(x)\n",
        "x = tf.keras.layers.Flatten()(x)\n",
        "x = tf.keras.layers.Dense(512)(x)\n",
        "x = tf.keras.layers.Dropout(0.5)(x)\n",
        "outputs = tf.keras.layers.Dense(3, activation=\"softmax\")(x)\n",
        "\n",
        "multi_vgg16 = tf.keras.Model(inputs, outputs)\n",
        "\n",
        "multi_vgg16.summary()\n"
      ]
    },
    {
      "cell_type": "code",
      "execution_count": null,
      "metadata": {
        "id": "wAJUC9BNbHua"
      },
      "outputs": [],
      "source": [
        "multi_vgg16.compile(loss=\"categorical_crossentropy\",optimizer=\"Adam\", metrics=[\"accuracy\"])\n"
      ]
    },
    {
      "cell_type": "code",
      "execution_count": null,
      "metadata": {
        "colab": {
          "base_uri": "https://localhost:8080/"
        },
        "id": "LV0RftIRbQbj",
        "outputId": "c2c76d70-fcc4-481f-830a-630fcf1d00b5"
      },
      "outputs": [
        {
          "name": "stdout",
          "output_type": "stream",
          "text": [
            "Epoch 1/8\n",
            "57/57 [==============================] - 590s 10s/step - loss: 4.4677 - accuracy: 0.4168 - val_loss: 1.0226 - val_accuracy: 0.5277\n",
            "Epoch 2/8\n",
            "57/57 [==============================] - 96s 2s/step - loss: 0.9729 - accuracy: 0.5355 - val_loss: 0.8174 - val_accuracy: 0.6229\n",
            "Epoch 3/8\n",
            "57/57 [==============================] - 95s 2s/step - loss: 0.8017 - accuracy: 0.6496 - val_loss: 0.7294 - val_accuracy: 0.6569\n",
            "Epoch 4/8\n",
            "57/57 [==============================] - 95s 2s/step - loss: 0.7187 - accuracy: 0.6936 - val_loss: 0.6817 - val_accuracy: 0.7104\n",
            "Epoch 5/8\n",
            "57/57 [==============================] - 93s 2s/step - loss: 0.6244 - accuracy: 0.7316 - val_loss: 0.4272 - val_accuracy: 0.8542\n",
            "Epoch 6/8\n",
            "57/57 [==============================] - 94s 2s/step - loss: 0.5666 - accuracy: 0.7626 - val_loss: 0.4811 - val_accuracy: 0.8367\n",
            "Epoch 7/8\n",
            "57/57 [==============================] - 94s 2s/step - loss: 0.5288 - accuracy: 0.7851 - val_loss: 0.3397 - val_accuracy: 0.8746\n",
            "Epoch 8/8\n",
            "57/57 [==============================] - 94s 2s/step - loss: 0.4033 - accuracy: 0.8404 - val_loss: 0.3021 - val_accuracy: 0.8863\n"
          ]
        }
      ],
      "source": [
        "network = multi_vgg16.fit( train_generator,steps_per_epoch = len(train_generator),epochs= 8 , validation_data= val_generator,\n",
        "             validation_steps = len(val_generator))"
      ]
    },
    {
      "cell_type": "markdown",
      "metadata": {
        "id": "mdP8k_A-bZfD"
      },
      "source": [
        "####Testing model performance on testing data"
      ]
    },
    {
      "cell_type": "code",
      "execution_count": null,
      "metadata": {
        "colab": {
          "base_uri": "https://localhost:8080/"
        },
        "id": "HMAXOL7Ybee0",
        "outputId": "3c9e7a7f-94a9-4d8a-c10e-db3e7c7263c9"
      },
      "outputs": [
        {
          "name": "stdout",
          "output_type": "stream",
          "text": [
            "17/17 [==============================] - 352s 22s/step - loss: 0.3563 - accuracy: 0.8693\n",
            "Test accuracy  :  0.8693127036094666\n"
          ]
        }
      ],
      "source": [
        "final_loss, final_acc = multi_vgg16.evaluate(test_generator)\n",
        "print(\"Test accuracy  : \",final_acc)"
      ]
    },
    {
      "cell_type": "markdown",
      "metadata": {
        "id": "2MJMFW-Ghwnm"
      },
      "source": [
        "####Comparison of model's performance on training and validation data"
      ]
    },
    {
      "cell_type": "markdown",
      "source": [
        "##### It is imperative to compare model's accuracy and loss improvement on training and validation dataset to make sure it's not overfitting."
      ],
      "metadata": {
        "id": "hWMC0mKUz-Nr"
      }
    },
    {
      "cell_type": "code",
      "execution_count": null,
      "metadata": {
        "colab": {
          "base_uri": "https://localhost:8080/",
          "height": 573
        },
        "id": "4ig_ecbPgYsf",
        "outputId": "749c34aa-c85c-4356-9aaf-348b481422bd"
      },
      "outputs": [
        {
          "data": {
            "image/png": "[encoded data removed]",
            "text/plain": [
              "<Figure size 432x288 with 1 Axes>"
            ]
          },
          "metadata": {},
          "output_type": "display_data"
        },
        {
          "data": {
            "image/png": "[encoded data removed]",
            "text/plain": [
              "<Figure size 432x288 with 1 Axes>"
            ]
          },
          "metadata": {},
          "output_type": "display_data"
        }
      ],
      "source": [
        "import numpy as np\n",
        "import matplotlib.pyplot as plt\n",
        "\n",
        "#Comparison of training and validation loss per epoch\n",
        "\n",
        "history_dict = network.history # the dictionary that has the information on loss and accuracy per epoch\n",
        "\n",
        "loss_values = history_dict['loss']   # training loss\n",
        "val_loss_values = history_dict['val_loss'] # validation loss\n",
        "\n",
        "epochs = range(1, len(loss_values)+1)  #creates list of integers to match the number of epochs of training\n",
        "\n",
        "# code to plot the results\n",
        "plt.plot(epochs, loss_values, 'b', label=\"Training Loss\")\n",
        "plt.plot(epochs, val_loss_values, 'r', label=\"Validation Loss\")\n",
        "plt.title(\"Training and Validation Loss\")\n",
        "plt.xlabel(\"Epochs\")\n",
        "plt.xticks(epochs)\n",
        "plt.ylabel(\"Loss\")\n",
        "plt.legend()\n",
        "plt.show()\n",
        "\n",
        "\n",
        "#Comparison of training and validation accuracy per epoch\n",
        "\n",
        "# As above, but this time we want to visualize the training and validation accuracy\n",
        "\n",
        "acc_values = history_dict['accuracy']\n",
        "val_acc_values = history_dict['val_accuracy']\n",
        "\n",
        "plt.plot(epochs, acc_values, 'b', label=\"Training Accuracy\")\n",
        "plt.plot(epochs, val_acc_values, 'r', label=\"Validation Accuracy\")\n",
        "plt.title(\"Training and Validation Accuracy\")\n",
        "plt.xlabel(\"Epochs\")\n",
        "plt.xticks(epochs)\n",
        "plt.ylabel(\"Accuracy\")\n",
        "plt.legend()\n",
        "plt.show()"
      ]
    },
    {
      "cell_type": "markdown",
      "source": [
        "####Random Oversampling"
      ],
      "metadata": {
        "id": "g8sQhcRQEa_P"
      }
    },
    {
      "cell_type": "markdown",
      "source": [
        "##### Since, the Covid class does not have images comparable to other classes. We have tried oversampling this class to deal with class imbalance. "
      ],
      "metadata": {
        "id": "sIsP_AIv0J-p"
      }
    },
    {
      "cell_type": "code",
      "source": [
        "import splitfolders\n",
        "\n",
        "#Splitting the entire dataset into training, testing and validation folders\n",
        "\n",
        "#While splitting, we have specified to use 700 and 1000 images in each class in the validation and testing data respectively\n",
        "\n",
        "#The rest of the images goes into the training dataset and images are oversampled in COVID class so that it can have as many images as in other classes.\n",
        "\n",
        "splitfolders.fixed('/content/drive/MyDrive/My_Dataset',output ='val_test', seed = 123, fixed = (700,1000),oversample = True)"
      ],
      "metadata": {
        "colab": {
          "base_uri": "https://localhost:8080/"
        },
        "id": "1I0Z8lsdIpls",
        "outputId": "5a142994-cfda-40c1-b784-e2f8f91c17d9"
      },
      "execution_count": null,
      "outputs": [
        {
          "output_type": "stream",
          "name": "stderr",
          "text": [
            "Copying files: 9962 files [05:24, 30.67 files/s] \n",
            "Oversampling: 3 classes [00:20,  7.00s/ classes]\n"
          ]
        }
      ]
    },
    {
      "cell_type": "code",
      "source": [
        "import os\n",
        "print(\"Training dataset\")\n",
        "files = os.listdir(\"/content/drive/MyDrive/val_test/train/covid\")\n",
        "file_count = len(files)\n",
        "print(\"Class Covid : \",file_count)\n",
        "\n",
        "files = os.listdir(\"/content/drive/MyDrive/val_test/train/normal\")\n",
        "file_count = len(files)\n",
        "print(\"Class Normal : \",file_count)\n",
        "\n",
        "files = os.listdir(\"/content/drive/MyDrive/val_test/train/pneumonia\")\n",
        "file_count = len(files)\n",
        "print(\"Class Pneumonia : \",file_count)\n",
        "\n",
        "print(\"---------------------\")\n",
        "print(\"Testing dataset\")\n",
        "files = os.listdir(\"/content/drive/MyDrive/val_test/test/covid\")\n",
        "file_count = len(files)\n",
        "print(\"Class Covid : \",file_count)\n",
        "\n",
        "files = os.listdir(\"/content/drive/MyDrive/val_test/test/normal\")\n",
        "file_count = len(files)\n",
        "print(\"Class Normal : \",file_count)\n",
        "\n",
        "files = os.listdir(\"/content/drive/MyDrive/val_test/test/pneumonia\")\n",
        "file_count = len(files)\n",
        "print(\"Class Pneumonia : \",file_count)\n",
        "\n",
        "print(\"---------------------\")\n",
        "print(\"Validation dataset\")\n",
        "files = os.listdir(\"/content/drive/MyDrive/val_test/val/covid\")\n",
        "file_count = len(files)\n",
        "print(\"Class Covid : \",file_count)\n",
        "\n",
        "files = os.listdir(\"/content/drive/MyDrive/val_test/val/normal\")\n",
        "file_count = len(files)\n",
        "print(\"Class Normal : \",file_count)\n",
        "\n",
        "files = os.listdir(\"/content/drive/MyDrive/val_test/val/pneumonia\")\n",
        "file_count = len(files)\n",
        "print(\"Class Pneumonia : \",file_count)"
      ],
      "metadata": {
        "colab": {
          "base_uri": "https://localhost:8080/"
        },
        "id": "28BePWwyIpnm",
        "outputId": "1421f447-b3b0-4760-f51a-ff80b5b06c2a"
      },
      "execution_count": null,
      "outputs": [
        {
          "output_type": "stream",
          "name": "stdout",
          "text": [
            "Training dataset\n",
            "Class Covid :  2376\n",
            "Class Normal :  2376\n",
            "Class Pneumonia :  2376\n",
            "---------------------\n",
            "Testing dataset\n",
            "Class Covid :  1000\n",
            "Class Normal :  1000\n",
            "Class Pneumonia :  1000\n",
            "---------------------\n",
            "Validation dataset\n",
            "Class Covid :  700\n",
            "Class Normal :  700\n",
            "Class Pneumonia :  700\n"
          ]
        }
      ]
    },
    {
      "cell_type": "markdown",
      "source": [
        "##### ResNet50 and VGG-19 have been used for the multi-classification task after oversampling."
      ],
      "metadata": {
        "id": "7A27d3jI0_Cn"
      }
    },
    {
      "cell_type": "markdown",
      "metadata": {
        "id": "31qMxz5tn9RV"
      },
      "source": [
        "####Multi-classifier ResNet50"
      ]
    },
    {
      "cell_type": "code",
      "execution_count": null,
      "metadata": {
        "colab": {
          "base_uri": "https://localhost:8080/"
        },
        "id": "IKdCSb6xVpC1",
        "outputId": "2e28cbc9-3b76-4983-fe31-73376dab27dc"
      },
      "outputs": [
        {
          "output_type": "stream",
          "name": "stdout",
          "text": [
            "Found 7128 images belonging to 3 classes.\n",
            "Found 3000 images belonging to 3 classes.\n",
            "Found 2100 images belonging to 3 classes.\n",
            "Batch shape=(128, 197, 198, 3), min=0.000, max=1.000\n"
          ]
        }
      ],
      "source": [
        "#Importing the necessary libraries\n",
        "\n",
        "import pathlib\n",
        "from pathlib import Path\n",
        "import tensorflow as tf\n",
        "from tensorflow.keras.preprocessing.image import ImageDataGenerator\n",
        "\n",
        "#Creating path for dataset folders\n",
        "p = Path().cwd()\n",
        "q = p/'val_test'\n",
        "\n",
        "#Images would be fed into the model as a batch of this size\n",
        "batch_size = 128\n",
        "\n",
        "#Rescaling the pixel values\n",
        "train_datagen = ImageDataGenerator(rescale=1./255)\n",
        "\n",
        "test_datagen = ImageDataGenerator(rescale=1./255)\n",
        "\n",
        "val_datagen = ImageDataGenerator(rescale=1./255)\n",
        "\n",
        "\n",
        "#Creating data generators for all the three datasets\n",
        "\n",
        "train_generator = train_datagen.flow_from_directory(q/'train',target_size=(197, 198), batch_size= batch_size,class_mode ='categorical')\n",
        "\n",
        "test_generator = test_datagen.flow_from_directory(q/'test',target_size= (197, 198), batch_size= batch_size,class_mode ='categorical')\n",
        "\n",
        "val_generator = val_datagen.flow_from_directory(q/'val',target_size=(197, 198), batch_size= batch_size,class_mode ='categorical')\n",
        "\n",
        "# confirm the iterator works\n",
        "\n",
        "batchX, batchy = train_generator.next()\n",
        "print('Batch shape=%s, min=%.3f, max=%.3f' % (batchX.shape, batchX.min(), batchX.max()))\n"
      ]
    },
    {
      "cell_type": "code",
      "execution_count": null,
      "metadata": {
        "id": "UR9rDWakoBIA",
        "colab": {
          "base_uri": "https://localhost:8080/"
        },
        "outputId": "c02c63f5-1f7d-4e99-e00e-1d53b108065b"
      },
      "outputs": [
        {
          "output_type": "stream",
          "name": "stdout",
          "text": [
            "Downloading data from https://storage.googleapis.com/tensorflow/keras-applications/resnet/resnet50_weights_tf_dim_ordering_tf_kernels_notop.h5\n",
            "94773248/94765736 [==============================] - 2s 0us/step\n",
            "94781440/94765736 [==============================] - 2s 0us/step\n"
          ]
        }
      ],
      "source": [
        "pretrained= tf.keras.applications.ResNet50(include_top=False,\n",
        "                   input_shape=(197,198,3), weights='imagenet')\n"
      ]
    },
    {
      "cell_type": "code",
      "execution_count": null,
      "metadata": {
        "colab": {
          "base_uri": "https://localhost:8080/"
        },
        "id": "wWf4Ah5soFie",
        "outputId": "a906fe90-0d10-4e3e-b5af-e6a423ccc529"
      },
      "outputs": [
        {
          "output_type": "stream",
          "name": "stdout",
          "text": [
            "Model: \"model_2\"\n",
            "_________________________________________________________________\n",
            " Layer (type)                Output Shape              Param #   \n",
            "=================================================================\n",
            " input_5 (InputLayer)        [(None, 198, 197, 3)]     0         \n",
            "                                                                 \n",
            " sequential (Sequential)     (None, 198, 197, 3)       0         \n",
            "                                                                 \n",
            " flatten_2 (Flatten)         (None, 117018)            0         \n",
            "                                                                 \n",
            " dense_4 (Dense)             (None, 256)               29956864  \n",
            "                                                                 \n",
            " dense_5 (Dense)             (None, 3)                 771       \n",
            "                                                                 \n",
            "=================================================================\n",
            "Total params: 29,957,635\n",
            "Trainable params: 29,957,635\n",
            "Non-trainable params: 0\n",
            "_________________________________________________________________\n"
          ]
        }
      ],
      "source": [
        "\n",
        "\n",
        "data_augmentation = tf.keras.Sequential([ tf.keras.layers.RandomFlip(\"horizontal\"),\n",
        "                                      tf.keras.layers.RandomZoom(0.2)])\n",
        "\n",
        "inputs = tf.keras.Input(shape=(198,197,3))\n",
        "x = data_augmentation(inputs)\n",
        "x = tf.keras.layers.Flatten()(x)\n",
        "x = tf.keras.layers.Dense(256)(x)\n",
        "outputs = tf.keras.layers.Dense(3, activation=\"softmax\")(x)\n",
        "\n",
        "resnet = tf.keras.Model(inputs, outputs)\n",
        "\n",
        "resnet.summary()\n"
      ]
    },
    {
      "cell_type": "code",
      "execution_count": null,
      "metadata": {
        "id": "3NZ0s3Q_oFjh"
      },
      "outputs": [],
      "source": [
        "resnet.compile(loss=\"categorical_crossentropy\",optimizer=\"rmsprop\", metrics=[\"accuracy\"])\n"
      ]
    },
    {
      "cell_type": "code",
      "execution_count": null,
      "metadata": {
        "colab": {
          "base_uri": "https://localhost:8080/"
        },
        "id": "jbz7DzKCoTay",
        "outputId": "65130746-78e2-42a1-b347-16a277a8c81c"
      },
      "outputs": [
        {
          "output_type": "stream",
          "name": "stdout",
          "text": [
            "Epoch 1/4\n",
            "56/56 [==============================] - 82s 1s/step - loss: 47.8571 - accuracy: 0.5836 - val_loss: 11.8363 - val_accuracy: 0.7714\n",
            "Epoch 2/4\n",
            "56/56 [==============================] - 79s 1s/step - loss: 18.7917 - accuracy: 0.6786 - val_loss: 25.4301 - val_accuracy: 0.6086\n",
            "Epoch 3/4\n",
            "56/56 [==============================] - 80s 1s/step - loss: 12.3082 - accuracy: 0.7197 - val_loss: 3.1379 - val_accuracy: 0.8900\n",
            "Epoch 4/4\n",
            "56/56 [==============================] - 78s 1s/step - loss: 7.2302 - accuracy: 0.7419 - val_loss: 4.8297 - val_accuracy: 0.7514\n"
          ]
        }
      ],
      "source": [
        "network_1 = resnet.fit( train_generator,steps_per_epoch = len(train_generator),epochs= 4 , validation_data= val_generator,\n",
        "             validation_steps = len(val_generator))"
      ]
    },
    {
      "cell_type": "code",
      "execution_count": null,
      "metadata": {
        "colab": {
          "base_uri": "https://localhost:8080/"
        },
        "id": "zVF9G1beoLoe",
        "outputId": "7f44829f-9c47-4d3e-9789-f37bf341f05b"
      },
      "outputs": [
        {
          "output_type": "stream",
          "name": "stdout",
          "text": [
            "24/24 [==============================] - 28s 1s/step - loss: 5.4469 - accuracy: 0.7373\n",
            "Test accuracy  :  0.737333357334137\n"
          ]
        }
      ],
      "source": [
        "final_loss, final_acc = resnet.evaluate(test_generator)\n",
        "print(\"Test accuracy  : \",final_acc)"
      ]
    },
    {
      "cell_type": "markdown",
      "source": [
        "####Multi-classifier VGG-19"
      ],
      "metadata": {
        "id": "g93z-ifjY-fR"
      }
    },
    {
      "cell_type": "code",
      "source": [
        "pretrained= tf.keras.applications.VGG19(include_top=False,\n",
        "                   input_shape=(197,198,3), weights='imagenet')\n"
      ],
      "metadata": {
        "id": "vMN2a3TOWtzL"
      },
      "execution_count": null,
      "outputs": []
    },
    {
      "cell_type": "code",
      "source": [
        "\n",
        "\n",
        "data_augmentation = tf.keras.Sequential([ tf.keras.layers.RandomFlip(\"horizontal\"),\n",
        "                                      tf.keras.layers.RandomZoom(0.2)])\n",
        "\n",
        "inputs = tf.keras.Input(shape=(198,197,3))\n",
        "x = data_augmentation(inputs)\n",
        "x = tf.keras.layers.Flatten()(x)\n",
        "x = tf.keras.layers.Dense(256)(x)\n",
        "outputs = tf.keras.layers.Dense(3, activation=\"softmax\")(x)\n",
        "\n",
        "VGG19 = tf.keras.Model(inputs, outputs)\n",
        "\n",
        "VGG19.summary()\n"
      ],
      "metadata": {
        "colab": {
          "base_uri": "https://localhost:8080/"
        },
        "id": "kNEJX_e5WugF",
        "outputId": "991a1dba-9c15-4efd-e107-df1ced41b32e"
      },
      "execution_count": null,
      "outputs": [
        {
          "output_type": "stream",
          "name": "stdout",
          "text": [
            "Model: \"model_4\"\n",
            "_________________________________________________________________\n",
            " Layer (type)                Output Shape              Param #   \n",
            "=================================================================\n",
            " input_8 (InputLayer)        [(None, 198, 197, 3)]     0         \n",
            "                                                                 \n",
            " sequential_2 (Sequential)   (None, 198, 197, 3)       0         \n",
            "                                                                 \n",
            " flatten_4 (Flatten)         (None, 117018)            0         \n",
            "                                                                 \n",
            " dense_8 (Dense)             (None, 256)               29956864  \n",
            "                                                                 \n",
            " dense_9 (Dense)             (None, 3)                 771       \n",
            "                                                                 \n",
            "=================================================================\n",
            "Total params: 29,957,635\n",
            "Trainable params: 29,957,635\n",
            "Non-trainable params: 0\n",
            "_________________________________________________________________\n"
          ]
        }
      ]
    },
    {
      "cell_type": "code",
      "source": [
        "VGG19.compile(loss=\"categorical_crossentropy\",optimizer=\"rmsprop\", metrics=[\"accuracy\"])\n"
      ],
      "metadata": {
        "id": "jVz6BbjbW3M9"
      },
      "execution_count": null,
      "outputs": []
    },
    {
      "cell_type": "code",
      "source": [
        "network_1 = VGG19.fit( train_generator,steps_per_epoch = len(train_generator),epochs= 5 , validation_data= val_generator,\n",
        "             validation_steps = len(val_generator))"
      ],
      "metadata": {
        "colab": {
          "base_uri": "https://localhost:8080/"
        },
        "id": "4WJ282YLXAO0",
        "outputId": "7485eefb-5521-4bf9-c1a3-9c206debcb2f"
      },
      "execution_count": null,
      "outputs": [
        {
          "output_type": "stream",
          "name": "stdout",
          "text": [
            "Epoch 1/5\n",
            "56/56 [==============================] - 83s 1s/step - loss: 44.3020 - accuracy: 0.6068 - val_loss: 19.9427 - val_accuracy: 0.6662\n",
            "Epoch 2/5\n",
            "56/56 [==============================] - 81s 1s/step - loss: 18.5577 - accuracy: 0.6904 - val_loss: 14.7161 - val_accuracy: 0.6671\n",
            "Epoch 3/5\n",
            "56/56 [==============================] - 79s 1s/step - loss: 10.6646 - accuracy: 0.7291 - val_loss: 1.7710 - val_accuracy: 0.8976\n",
            "Epoch 4/5\n",
            "56/56 [==============================] - 80s 1s/step - loss: 5.9663 - accuracy: 0.7479 - val_loss: 7.8241 - val_accuracy: 0.5929\n",
            "Epoch 5/5\n",
            "56/56 [==============================] - 78s 1s/step - loss: 2.8923 - accuracy: 0.7764 - val_loss: 0.9016 - val_accuracy: 0.8248\n"
          ]
        }
      ]
    },
    {
      "cell_type": "code",
      "source": [
        "final_loss, final_acc = VGG19.evaluate(test_generator)\n",
        "print(\"Test accuracy  : \",final_acc)"
      ],
      "metadata": {
        "colab": {
          "base_uri": "https://localhost:8080/"
        },
        "id": "Mn0zEWK1XGdB",
        "outputId": "04b4d0cb-c5df-4997-f91d-66c689b543dd"
      },
      "execution_count": null,
      "outputs": [
        {
          "output_type": "stream",
          "name": "stdout",
          "text": [
            "24/24 [==============================] - 28s 1s/step - loss: 1.1005 - accuracy: 0.8040\n",
            "Test accuracy  :  0.8040000200271606\n"
          ]
        }
      ]
    },
    {
      "cell_type": "code",
      "source": [
        "import numpy as np\n",
        "import matplotlib.pyplot as plt\n",
        "\n",
        "#Comparison of training and validation loss per epoch\n",
        "\n",
        "history_dict = network_1.history # the dictionary that has the information on loss and accuracy per epoch\n",
        "\n",
        "loss_values = history_dict['loss']   # training loss\n",
        "val_loss_values = history_dict['val_loss'] # validation loss\n",
        "\n",
        "epochs = range(1, len(loss_values)+1)  #creates list of integers to match the number of epochs of training\n",
        "\n",
        "# code to plot the results\n",
        "plt.plot(epochs, loss_values, 'b', label=\"Training Loss\")\n",
        "plt.plot(epochs, val_loss_values, 'r', label=\"Validation Loss\")\n",
        "plt.title(\"Training and Validation Loss\")\n",
        "plt.xlabel(\"Epochs\")\n",
        "plt.xticks(epochs)\n",
        "plt.ylabel(\"Loss\")\n",
        "plt.legend()\n",
        "plt.show()\n",
        "\n",
        "\n",
        "#Comparison of training and validation accuracy per epoch\n",
        "\n",
        "# As above, but this time we want to visualize the training and validation accuracy\n",
        "\n",
        "acc_values = history_dict['accuracy']\n",
        "val_acc_values = history_dict['val_accuracy']\n",
        "\n",
        "plt.plot(epochs, acc_values, 'b', label=\"Training Accuracy\")\n",
        "plt.plot(epochs, val_acc_values, 'r', label=\"Validation Accuracy\")\n",
        "plt.title(\"Training and Validation Accuracy\")\n",
        "plt.xlabel(\"Epochs\")\n",
        "plt.xticks(epochs)\n",
        "plt.ylabel(\"Accuracy\")\n",
        "plt.legend()\n",
        "plt.show()"
      ],
      "metadata": {
        "colab": {
          "base_uri": "https://localhost:8080/",
          "height": 573
        },
        "id": "VKC88mF8ZPkq",
        "outputId": "8170cadb-14e3-4303-c781-24bf2cca86b6"
      },
      "execution_count": null,
      "outputs": [
        {
          "output_type": "display_data",
          "data": {
            "text/plain": [
              "<Figure size 432x288 with 1 Axes>"
            ],
            "image/png": "[encoded data removed]"
          },
          "metadata": {
            "needs_background": "light"
          }
        },
        {
          "output_type": "display_data",
          "data": {
            "text/plain": [
              "<Figure size 432x288 with 1 Axes>"
            ],
            "image/png": "[encoded data removed]"
          },
          "metadata": {
            "needs_background": "light"
          }
        }
      ]
    }
  ],
  "metadata": {
    "accelerator": "GPU",
    "colab": {
      "collapsed_sections": [],
      "name": "Part01.ipynb",
      "provenance": []
    },
    "kernelspec": {
      "display_name": "Python 3",
      "name": "python3"
    },
    "language_info": {
      "name": "python"
    }
  },
  "nbformat": 4,
  "nbformat_minor": 0
}