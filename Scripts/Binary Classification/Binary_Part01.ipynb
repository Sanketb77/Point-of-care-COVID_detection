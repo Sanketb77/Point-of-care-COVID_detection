{
  "nbformat": 4,
  "nbformat_minor": 0,
  "metadata": {
    "colab": {
      "name": "Binary_Part01.ipynb",
      "provenance": [],
      "collapsed_sections": [],
      "machine_shape": "hm"
    },
    "kernelspec": {
      "name": "python3",
      "display_name": "Python 3"
    },
    "language_info": {
      "name": "python"
    },
    "accelerator": "GPU",
    "gpuClass": "standard"
  },
  "cells": [
    {
      "cell_type": "markdown",
      "source": [
        "### Project Title : - Using Lung ultrasound images for building a reliable Point-of-care Covid-19 testing system"
      ],
      "metadata": {
        "id": "JxiF7Vnsh65q"
      }
    },
    {
      "cell_type": "markdown",
      "source": [
        "#### Binary Classifier : For classifying lung ultrasound images into one of the two categories : Covid and Non Covid"
      ],
      "metadata": {
        "id": "Hh78iiRyiDKk"
      }
    },
    {
      "cell_type": "code",
      "execution_count": 1,
      "metadata": {
        "id": "gOF1utzcIxQG",
        "colab": {
          "base_uri": "https://localhost:8080/"
        },
        "outputId": "a3890c3b-3529-4295-d8e1-ac920c99bd1f"
      },
      "outputs": [
        {
          "output_type": "stream",
          "name": "stdout",
          "text": [
            "Mounted at /content/drive/\n"
          ]
        }
      ],
      "source": [
        "#Mounting the google drive as the data is available there\n",
        "\n",
        "from google.colab import drive\n",
        "drive.mount(\"/content/drive/\")"
      ]
    },
    {
      "cell_type": "markdown",
      "source": [
        "#### Splitting the dataset into training, testing and validation"
      ],
      "metadata": {
        "id": "ljySKPYMiT54"
      }
    },
    {
      "cell_type": "markdown",
      "source": [
        "##### Training dataset will be used for training the model, validation data will be used for adjusting the hyperparameters. The test dataset will be the unseen set of images, that'd be used for testing model's performance on the unseen dataset. 70% of the entire dataset is used as training, 10% as validation and the rest as testing."
      ],
      "metadata": {
        "id": "F7UDWn8spe2F"
      }
    },
    {
      "cell_type": "code",
      "source": [
        "pip install split-folders"
      ],
      "metadata": {
        "id": "ght1MEZgiZCy"
      },
      "execution_count": null,
      "outputs": []
    },
    {
      "cell_type": "code",
      "source": [
        "#splitfolders makes it easier for splitting data in form of folders\n",
        "\n",
        "import splitfolders\n",
        "\n",
        "#Splitting the entire dataset into training, testing and validation folders\n",
        "\n",
        "splitfolders.ratio('/content/drive/MyDrive/My_Dataset',output ='binary_two', ratio = (.7,0.1,0.2))"
      ],
      "metadata": {
        "id": "gU36_01ciZOS"
      },
      "execution_count": null,
      "outputs": []
    },
    {
      "cell_type": "markdown",
      "source": [
        "#### Dataset Verification"
      ],
      "metadata": {
        "id": "o2mdfC-0iiFo"
      }
    },
    {
      "cell_type": "markdown",
      "source": [
        "##### The following piece of code checks the number of images in each class for all the three types of dataset."
      ],
      "metadata": {
        "id": "N9TjwXbxqGWH"
      }
    },
    {
      "cell_type": "code",
      "source": [
        "import os\n",
        "print(\"Training dataset\")\n",
        "files = os.listdir(\"/content/drive/MyDrive/binary_two/train/covid\")\n",
        "file_count = len(files)\n",
        "print(\"Class Covid : \",file_count)\n",
        "\n",
        "files = os.listdir(\"/content/drive/MyDrive/binary_two/train/non_covid\")\n",
        "file_count = len(files)\n",
        "print(\"Class Non Covid: \",file_count)\n",
        "\n",
        "\n",
        "\n",
        "print(\"---------------------\")\n",
        "print(\"Testing dataset\")\n",
        "files = os.listdir(\"/content/drive/MyDrive/binary_two/test/covid\")\n",
        "file_count = len(files)\n",
        "print(\"Class Covid : \",file_count)\n",
        "\n",
        "files = os.listdir(\"/content/drive/MyDrive/binary_two/test/non_covid\")\n",
        "file_count = len(files)\n",
        "print(\"Class Non Covid: \",file_count)\n",
        "\n",
        "\n",
        "print(\"---------------------\")\n",
        "print(\"Validation dataset\")\n",
        "files = os.listdir(\"/content/drive/MyDrive/binary_two/val/covid\")\n",
        "file_count = len(files)\n",
        "print(\"Class Covid : \",file_count)\n",
        "\n",
        "files = os.listdir(\"/content/drive/MyDrive/binary_two/val/non_covid\")\n",
        "file_count = len(files)\n",
        "print(\"Class Non Covid: \",file_count)\n",
        "\n"
      ],
      "metadata": {
        "colab": {
          "base_uri": "https://localhost:8080/"
        },
        "id": "PjxBVZZecwAA",
        "outputId": "05fc6869-0f0c-4d44-9cc1-89c24cc24ecc"
      },
      "execution_count": null,
      "outputs": [
        {
          "output_type": "stream",
          "name": "stdout",
          "text": [
            "Training dataset\n",
            "Class Covid :  2831\n",
            "Class Non Covid:  6860\n",
            "---------------------\n",
            "Testing dataset\n",
            "Class Covid :  810\n",
            "Class Non Covid:  1961\n",
            "---------------------\n",
            "Validation dataset\n",
            "Class Covid :  404\n",
            "Class Non Covid:  980\n"
          ]
        }
      ]
    },
    {
      "cell_type": "markdown",
      "source": [
        "#### Dataset Loading and Pre-processing"
      ],
      "metadata": {
        "id": "7LRK1Qf9izCl"
      }
    },
    {
      "cell_type": "markdown",
      "source": [
        "##### It is important to pre-process the images before they are fed into the model. The image pre-processing has been done using Image Data Generator, as the dataset is huge and it'd be feasible to input data in batches. the batch size chosen is 512. The images are rescaled, so that the pixel values lie between 0-1 for all the images. The images have been resized to 197 X 198 pixels."
      ],
      "metadata": {
        "id": "xUdCyPI8qQwX"
      }
    },
    {
      "cell_type": "code",
      "source": [
        "#Importing the necessary libraries\n",
        "\n",
        "import pathlib\n",
        "from pathlib import Path\n",
        "import tensorflow as tf\n",
        "from tensorflow.keras.preprocessing.image import ImageDataGenerator\n",
        "\n",
        "\n",
        "#Creating path for dataset folders\n",
        "p = Path().cwd()\n",
        "q = p/'binary_two'\n",
        "\n",
        "#Images would be fed into the model as a batch of this size\n",
        "batch_size = 512\n",
        "\n",
        "#Rescaling the pixel values\n",
        "train_datagen = ImageDataGenerator(rescale=1./255)\n",
        "\n",
        "test_datagen = ImageDataGenerator(rescale=1./255)\n",
        "\n",
        "val_datagen = ImageDataGenerator(rescale=1./255)\n",
        "\n",
        "\n",
        "#Creating data generators for all the three datasets\n",
        "train_generator = train_datagen.flow_from_directory(q/'train',target_size=(197,198), batch_size= batch_size,class_mode ='categorical',shuffle = False)\n",
        "\n",
        "test_generator = test_datagen.flow_from_directory(q/'test',target_size= (197,198), batch_size= batch_size,class_mode ='categorical',shuffle = False)\n",
        "\n",
        "val_generator = val_datagen.flow_from_directory(q/'val',target_size=(197,198), batch_size= batch_size,class_mode ='categorical',shuffle = False)\n",
        "\n",
        "        # confirm the iterator works\n",
        "\n",
        "batchX, batchy = train_generator.next()\n",
        "print('Batch shape=%s, min=%.3f, max=%.3f' % (batchX.shape, batchX.min(), batchX.max()))\n"
      ],
      "metadata": {
        "id": "om9HkQ9SoFLx",
        "colab": {
          "base_uri": "https://localhost:8080/"
        },
        "outputId": "5954a860-a326-4f6f-902a-df378dc0ebf1"
      },
      "execution_count": null,
      "outputs": [
        {
          "output_type": "stream",
          "name": "stdout",
          "text": [
            "Found 9691 images belonging to 2 classes.\n",
            "Found 2771 images belonging to 2 classes.\n",
            "Found 1384 images belonging to 2 classes.\n",
            "Batch shape=(512, 197, 198, 3), min=0.000, max=1.000\n"
          ]
        }
      ]
    },
    {
      "cell_type": "markdown",
      "source": [
        "**Creating and Training the baseline model**"
      ],
      "metadata": {
        "id": "ZwO6HlS-i3bH"
      }
    },
    {
      "cell_type": "markdown",
      "source": [
        "##### VGG-16 has been chosen as the baseline model. Given the large amount of data, it's easier to use a pre-trained network for the classification. "
      ],
      "metadata": {
        "id": "75mlC0uorPW3"
      }
    },
    {
      "cell_type": "code",
      "source": [
        "# include_top = 'False' as we only want the feature extractor part and not the classifier part. The input shape has been given as per our image dataset.\n",
        "\n",
        "pretrained= tf.keras.applications.VGG16(include_top=False,\n",
        "                   input_shape=(197,198,3), weights='imagenet')\n",
        "\n",
        "#We want the model to retain the parameters (weights and biases) it has learned from the image dataset, hence we are freezing the feature extractor layers.\n",
        "pretrained.trainable=False\n"
      ],
      "metadata": {
        "colab": {
          "base_uri": "https://localhost:8080/"
        },
        "id": "rzObxQyFold3",
        "outputId": "21de5840-3f27-40a8-868f-0a94b6967913"
      },
      "execution_count": null,
      "outputs": [
        {
          "output_type": "stream",
          "name": "stdout",
          "text": [
            "Downloading data from https://storage.googleapis.com/tensorflow/keras-applications/vgg16/vgg16_weights_tf_dim_ordering_tf_kernels_notop.h5\n",
            "58892288/58889256 [==============================] - 0s 0us/step\n",
            "58900480/58889256 [==============================] - 0s 0us/step\n"
          ]
        }
      ]
    },
    {
      "cell_type": "code",
      "source": [
        "#Functional API has been used for adding classifier layers to the pre-trained part.\n",
        "\n",
        "inputs = tf.keras.Input(shape=(197,198,3))\n",
        "x = pretrained(inputs)\n",
        "x = tf.keras.layers.Flatten()(x)\n",
        "x = tf.keras.layers.Dense(1024)(x)\n",
        "x = tf.keras.layers.Dense(512)(x)\n",
        "outputs = tf.keras.layers.Dense(2, activation=\"softmax\")(x)\n",
        "\n",
        "multi_vgg16 = tf.keras.Model(inputs, outputs)\n",
        "\n",
        "multi_vgg16.summary()\n"
      ],
      "metadata": {
        "colab": {
          "base_uri": "https://localhost:8080/"
        },
        "id": "_mycyvduoog7",
        "outputId": "96a985aa-4008-4e1f-dcac-4e5051132eb8"
      },
      "execution_count": null,
      "outputs": [
        {
          "output_type": "stream",
          "name": "stdout",
          "text": [
            "Model: \"model\"\n",
            "_________________________________________________________________\n",
            " Layer (type)                Output Shape              Param #   \n",
            "=================================================================\n",
            " input_2 (InputLayer)        [(None, 197, 198, 3)]     0         \n",
            "                                                                 \n",
            " vgg16 (Functional)          (None, 6, 6, 512)         14714688  \n",
            "                                                                 \n",
            " flatten (Flatten)           (None, 18432)             0         \n",
            "                                                                 \n",
            " dense (Dense)               (None, 1024)              18875392  \n",
            "                                                                 \n",
            " dense_1 (Dense)             (None, 512)               524800    \n",
            "                                                                 \n",
            " dense_2 (Dense)             (None, 2)                 1026      \n",
            "                                                                 \n",
            "=================================================================\n",
            "Total params: 34,115,906\n",
            "Trainable params: 19,401,218\n",
            "Non-trainable params: 14,714,688\n",
            "_________________________________________________________________\n"
          ]
        }
      ]
    },
    {
      "cell_type": "code",
      "source": [
        "#The above model has been compiled before using it.\n",
        "\n",
        "multi_vgg16.compile(loss=\"categorical_crossentropy\",optimizer= 'rmsprop' , metrics=[\"accuracy\"])"
      ],
      "metadata": {
        "id": "h87Y9mUmozGC"
      },
      "execution_count": null,
      "outputs": []
    },
    {
      "cell_type": "code",
      "source": [
        "#The model has been fit to the train data\n",
        "\n",
        "baseline_model = multi_vgg16.fit( train_generator,steps_per_epoch = len(train_generator),epochs= 5 , validation_data= val_generator,\n",
        "             validation_steps = len(val_generator))"
      ],
      "metadata": {
        "colab": {
          "base_uri": "https://localhost:8080/"
        },
        "id": "JhLVfBk6oz8n",
        "outputId": "bcf7ef10-7ac0-4d37-fb22-34a9c00c544a"
      },
      "execution_count": null,
      "outputs": [
        {
          "output_type": "stream",
          "name": "stdout",
          "text": [
            "Epoch 1/5\n",
            "19/19 [==============================] - 4965s 258s/step - loss: 123.7740 - accuracy: 0.5699 - val_loss: 4.8110 - val_accuracy: 0.5101\n",
            "Epoch 2/5\n",
            "19/19 [==============================] - 80s 4s/step - loss: 14.5476 - accuracy: 0.5193 - val_loss: 7.1834 - val_accuracy: 0.3309\n",
            "Epoch 3/5\n",
            "19/19 [==============================] - 80s 4s/step - loss: 3.4794 - accuracy: 0.8221 - val_loss: 0.5935 - val_accuracy: 0.8150\n",
            "Epoch 4/5\n",
            "19/19 [==============================] - 80s 4s/step - loss: 32.2937 - accuracy: 0.6502 - val_loss: 1.4682 - val_accuracy: 0.8822\n",
            "Epoch 5/5\n",
            "19/19 [==============================] - 80s 4s/step - loss: 0.9334 - accuracy: 0.8969 - val_loss: 0.2555 - val_accuracy: 0.9342\n"
          ]
        }
      ]
    },
    {
      "cell_type": "markdown",
      "source": [
        "#### Checking model's classification performance on the test data"
      ],
      "metadata": {
        "id": "cd3U4KPSjATm"
      }
    },
    {
      "cell_type": "markdown",
      "source": [
        "##### The model's actual performance that matters, is the one it gives on the unseen dataset. The following code gets prediction class for each image in the test dataset and compare them with the true class of the image for getting a true picture of model's performance."
      ],
      "metadata": {
        "id": "GqX7teHasRvx"
      }
    },
    {
      "cell_type": "code",
      "source": [
        "from sklearn.metrics import average_precision_score\n",
        "from sklearn.metrics import accuracy_score\n",
        "from sklearn.metrics import recall_score\n",
        "from sklearn.metrics import f1_score\n",
        "import numpy as np\n",
        "\n",
        "#Making predictions on the test data\n",
        "\n",
        "predict = multi_vgg16.predict(\n",
        "    test_generator, steps=None, callbacks=None, max_queue_size=10, workers=1,\n",
        "    use_multiprocessing=False, verbose=0\n",
        ")\n",
        "\n",
        "#Getting actual prediction class from the predictions made\n",
        "\n",
        "vgg_pred_classes_ft = np.argmax(predict, axis=1)\n",
        "\n",
        "#The true classes\n",
        "true_classes = test_generator.classes\n",
        "\n",
        "#Calculating performance metrics\n",
        "\n",
        "print(\"Precision score is \", average_precision_score(true_classes, vgg_pred_classes_ft))\n",
        "print(\"Accuracy score is \", accuracy_score(true_classes, vgg_pred_classes_ft))\n",
        "print(\"Recall is \",recall_score(true_classes, vgg_pred_classes_ft))\n",
        "print(\"F1 score is \",f1_score(true_classes, vgg_pred_classes_ft))"
      ],
      "metadata": {
        "id": "GGQQsCeJo6_e",
        "colab": {
          "base_uri": "https://localhost:8080/"
        },
        "outputId": "3bfac028-d687-4279-eb1d-1551979fbf76"
      },
      "execution_count": null,
      "outputs": [
        {
          "output_type": "stream",
          "name": "stdout",
          "text": [
            "Precision score is  0.6673778889168532\n",
            "Accuracy score is  0.5520491803278689\n",
            "Recall is  0.6719512195121952\n",
            "F1 score is  0.6684865028814073\n"
          ]
        }
      ]
    },
    {
      "cell_type": "markdown",
      "source": [
        "##### Confusion matrix - The confusion matrix makes it easier to look at the predictions made by the model. The following code plots the same for the test dataset."
      ],
      "metadata": {
        "id": "ruU5aLfkjFyJ"
      }
    },
    {
      "cell_type": "code",
      "source": [
        "import seaborn as sns\n",
        "from sklearn.metrics import confusion_matrix\n",
        "import matplotlib.pyplot as plt\n",
        "\n",
        "\n",
        "# Get the names of the ten classes\n",
        "class_names = test_generator.class_indices.keys()\n",
        "\n",
        "true_classes = test_generator.classes\n",
        "\n",
        "class_names = test_generator.class_indices.keys()\n",
        "\n",
        "def plot_heatmap(y_true, y_pred, class_names, ax, title):\n",
        "    cm = confusion_matrix(y_true, y_pred)\n",
        "    sns.heatmap(\n",
        "        cm, \n",
        "        annot=True, \n",
        "        square=True, \n",
        "        xticklabels=class_names, \n",
        "        yticklabels=class_names,\n",
        "        fmt='d', \n",
        "        cmap=plt.cm.Blues,\n",
        "        cbar=False,\n",
        "        ax=ax\n",
        "    )\n",
        "    ax.set_title(title, fontsize=16)\n",
        "    ax.set_xticklabels(ax.get_xticklabels(), rotation=45, ha=\"right\")\n",
        "    ax.set_ylabel('True Label', fontsize=12)\n",
        "    ax.set_xlabel('Predicted Label', fontsize=12)\n",
        "\n",
        "fig, (ax1) = plt.subplots(1, 1, figsize=(20, 10))\n",
        "\n",
        "plot_heatmap(true_classes, vgg_pred_classes_ft, class_names, ax1, title=\"Baseline model\")    \n",
        "\n",
        "fig.suptitle(\"Confusion Matrix\", fontsize=24)\n",
        "fig.tight_layout()\n",
        "fig.subplots_adjust(top=1.25)\n",
        "plt.show()"
      ],
      "metadata": {
        "id": "8JXp_r39pEJZ",
        "colab": {
          "base_uri": "https://localhost:8080/",
          "height": 938
        },
        "outputId": "146d4d76-f288-44a7-d3f7-d9d60701f146"
      },
      "execution_count": null,
      "outputs": [
        {
          "output_type": "display_data",
          "data": {
            "text/plain": [
              "<Figure size 1440x720 with 1 Axes>"
            ],
            "image/png": "[encoded data removed]"
          },
          "metadata": {
            "needs_background": "light"
          }
        }
      ]
    },
    {
      "cell_type": "markdown",
      "source": [
        "##### Evidently, the model is better at identifying lung ultrasound images of non covid patients than the covid positive patients. A part of the reason can be, the covid images are limited and the model is getting to learn more from the other category.We'd now try various techniques to deal with the same and performance will be compared to this baseline. "
      ],
      "metadata": {
        "id": "WFLzMSJftJ5g"
      }
    },
    {
      "cell_type": "markdown",
      "source": [
        "**Offline Data Augmentation on COVID class**"
      ],
      "metadata": {
        "id": "6Nqt-Y1HudMC"
      }
    },
    {
      "cell_type": "markdown",
      "source": [
        "##### The lung ultrasound images of COVID positive cases in training dataset are roughly around 2700, whereas those for COVID negative are around 8000. That is a massive class imbalance. The following chunk of code creates more images in COVID class from the existing images by transforming them."
      ],
      "metadata": {
        "id": "onR_OhLrtxIr"
      }
    },
    {
      "cell_type": "code",
      "source": [
        "from keras.preprocessing.image import ImageDataGenerator\n",
        "from skimage import io\n",
        "import numpy as np\n",
        "import os\n",
        "from PIL import Image\n",
        "import pathlib\n",
        "from pathlib import Path\n",
        "\n",
        "# This transformation will be performed on training images at random, this includes rotating the images by 40 degrees, flipping them horizontally.\n",
        "\n",
        "#Changing the brightness level and zooming in\n",
        "\n",
        "datagen = ImageDataGenerator(        \n",
        "        rotation_range = 40,\n",
        "        shear_range = 0.2,\n",
        "        zoom_range = 0.2,\n",
        "        horizontal_flip = True,\n",
        "        brightness_range = (0.5, 1.5))\n",
        "\n",
        "p = Path().cwd()\n",
        "image_directory =  p/'binary_split/train/covid'\n",
        "\n",
        "\n",
        "dataset = []\n",
        "my_images = os.listdir(image_directory)\n",
        "\n",
        "for i, image_name in enumerate(my_images): \n",
        "\n",
        "    if (image_name.split('.')[1] == 'jpg'): \n",
        "        path = os.path.join(image_directory,image_name)       \n",
        "        image = io.imread(path)        \n",
        "        image = Image.fromarray(image, 'RGB')        \n",
        "        image = image.resize((224,224)) \n",
        "        dataset.append(np.array(image))\n",
        "\n",
        "# A new folder has been created for saving these newly created images       \n",
        "x = np.array(dataset)\n",
        "i = 0\n",
        "for batch in datagen.flow(x, batch_size=16,\n",
        "                          save_to_dir= \"/content/drive/MyDrive/augmented\",\n",
        "                          save_prefix='dr',\n",
        "                          save_format='jpg'):    \n",
        "    i += 1    \n",
        "    if i > 300:        \n",
        "        break"
      ],
      "metadata": {
        "id": "8xOBieKZunCp"
      },
      "execution_count": null,
      "outputs": []
    },
    {
      "cell_type": "code",
      "source": [
        "# This offline augmentation has created around 5000 images of covid class\n",
        "\n",
        "files = os.listdir(\"/content/drive/MyDrive/augmented\")\n",
        "file_count = len(files)\n",
        "print(file_count)"
      ],
      "metadata": {
        "colab": {
          "base_uri": "https://localhost:8080/"
        },
        "id": "PrnU98ipZo8r",
        "outputId": "77b0a153-078f-48b4-a01f-a3505691ffd2"
      },
      "execution_count": null,
      "outputs": [
        {
          "output_type": "stream",
          "name": "stdout",
          "text": [
            "4812\n"
          ]
        }
      ]
    },
    {
      "cell_type": "code",
      "source": [
        "#The same have been moved to the training dataset\n",
        "\n",
        "path = \"/content/drive/MyDrive/augmented\"\n",
        "d_path = \"/content/drive/MyDrive/binary_split/train/covid\"\n",
        "\n",
        "for file in os.listdir(path):\n",
        "        s = os.path.join(path,file)\n",
        "        new_path = shutil.move(s,d_path)"
      ],
      "metadata": {
        "id": "mthJRHv9h3-T"
      },
      "execution_count": null,
      "outputs": []
    },
    {
      "cell_type": "code",
      "source": [
        "#The training dataset now has 7608 lung ultrasound images of class - COVID\n",
        "\n",
        "files = os.listdir(\"/content/drive/MyDrive/binary_split/train/covid\")\n",
        "file_count = len(files)\n",
        "print(file_count)"
      ],
      "metadata": {
        "colab": {
          "base_uri": "https://localhost:8080/"
        },
        "id": "hZYKeVyBj6De",
        "outputId": "85eb95ec-e99b-4d15-ff97-8c6ba25708d7"
      },
      "execution_count": null,
      "outputs": [
        {
          "output_type": "stream",
          "name": "stdout",
          "text": [
            "7608\n"
          ]
        }
      ]
    },
    {
      "cell_type": "markdown",
      "source": [
        "#### Dataset Loading and Pre-processing"
      ],
      "metadata": {
        "id": "SV70fvunj0vl"
      }
    },
    {
      "cell_type": "markdown",
      "source": [
        "##### Since we are inputting data using image data generator and pre-processing the images while feeding them to the model. This step has to be repeated again for the next model."
      ],
      "metadata": {
        "id": "gtR0Y-DHvWOl"
      }
    },
    {
      "cell_type": "code",
      "source": [
        "#Importing the necessary libraries\n",
        "\n",
        "import pathlib\n",
        "from pathlib import Path\n",
        "import tensorflow as tf\n",
        "from tensorflow.keras.preprocessing.image import ImageDataGenerator\n",
        "\n",
        "\n",
        "  #Creating path for dataset folders\n",
        "p = Path().cwd()\n",
        "q = p/'binary_split'\n",
        "\n",
        "  #Images would be fed into the model as a batch of this size\n",
        "batch_size = 512\n",
        "\n",
        "        #Rescaling the pixel values\n",
        "train_datagen = ImageDataGenerator(rescale=1./255)\n",
        "\n",
        "test_datagen = ImageDataGenerator(rescale=1./255)\n",
        "\n",
        "val_datagen = ImageDataGenerator(rescale=1./255)\n",
        "\n",
        "\n",
        "        #Creating data generators for all the three datasets\n",
        "train_generator = train_datagen.flow_from_directory(q/'train',target_size=(224,224), batch_size= batch_size,class_mode ='categorical')\n",
        "\n",
        "test_generator = test_datagen.flow_from_directory(q/'test',target_size= (224,224), batch_size= batch_size,class_mode ='categorical', shuffle = False)\n",
        "\n",
        "val_generator = val_datagen.flow_from_directory(q/'val',target_size=(224,224), batch_size= batch_size,class_mode ='categorical')\n",
        "\n",
        "        # confirm the iterator works\n",
        "\n",
        "batchX, batchy = train_generator.next()\n",
        "print('Batch shape=%s, min=%.3f, max=%.3f' % (batchX.shape, batchX.min(), batchX.max()))\n"
      ],
      "metadata": {
        "colab": {
          "base_uri": "https://localhost:8080/"
        },
        "id": "vW5SR9iKkylM",
        "outputId": "0440f3ca-4996-42cd-dc2f-ca2114039037"
      },
      "execution_count": null,
      "outputs": [
        {
          "output_type": "stream",
          "name": "stdout",
          "text": [
            "Found 15870 images belonging to 2 classes.\n",
            "Found 2440 images belonging to 2 classes.\n",
            "Found 1579 images belonging to 2 classes.\n",
            "Batch shape=(512, 224, 224, 3), min=0.000, max=1.000\n"
          ]
        }
      ]
    },
    {
      "cell_type": "markdown",
      "source": [
        "#### VGG-19"
      ],
      "metadata": {
        "id": "uf-80dsp_rUl"
      }
    },
    {
      "cell_type": "code",
      "source": [
        "pretrained= tf.keras.applications.VGG19(include_top=False,\n",
        "                   input_shape=(224,224,3), weights='imagenet')\n",
        "\n",
        "pretrained.trainable=False\n"
      ],
      "metadata": {
        "colab": {
          "base_uri": "https://localhost:8080/"
        },
        "id": "FzVNSh7h_tJf",
        "outputId": "ffb49383-02f2-4fc6-d6f6-31366c005460"
      },
      "execution_count": null,
      "outputs": [
        {
          "output_type": "stream",
          "name": "stdout",
          "text": [
            "Downloading data from https://storage.googleapis.com/tensorflow/keras-applications/vgg19/vgg19_weights_tf_dim_ordering_tf_kernels_notop.h5\n",
            "80142336/80134624 [==============================] - 0s 0us/step\n",
            "80150528/80134624 [==============================] - 0s 0us/step\n"
          ]
        }
      ]
    },
    {
      "cell_type": "code",
      "source": [
        "inputs = tf.keras.Input(shape=(224,224,3))\n",
        "x = pretrained(inputs)\n",
        "x = tf.keras.layers.Flatten()(x)\n",
        "x = tf.keras.layers.Dense(1024)(x)\n",
        "x = tf.keras.layers.Dense(512)(x)\n",
        "outputs = tf.keras.layers.Dense(2, activation=\"softmax\")(x)\n",
        "\n",
        "vgg19 = tf.keras.Model(inputs, outputs)\n",
        "\n",
        "#Getting the model architecture\n",
        "vgg19.summary()\n"
      ],
      "metadata": {
        "colab": {
          "base_uri": "https://localhost:8080/"
        },
        "id": "FyZknuKy_8rw",
        "outputId": "359228d6-a152-4e1c-899b-459645177b20"
      },
      "execution_count": null,
      "outputs": [
        {
          "output_type": "stream",
          "name": "stdout",
          "text": [
            "Model: \"model\"\n",
            "_________________________________________________________________\n",
            " Layer (type)                Output Shape              Param #   \n",
            "=================================================================\n",
            " input_2 (InputLayer)        [(None, 224, 224, 3)]     0         \n",
            "                                                                 \n",
            " vgg19 (Functional)          (None, 7, 7, 512)         20024384  \n",
            "                                                                 \n",
            " flatten (Flatten)           (None, 25088)             0         \n",
            "                                                                 \n",
            " dense (Dense)               (None, 1024)              25691136  \n",
            "                                                                 \n",
            " dense_1 (Dense)             (None, 512)               524800    \n",
            "                                                                 \n",
            " dense_2 (Dense)             (None, 2)                 1026      \n",
            "                                                                 \n",
            "=================================================================\n",
            "Total params: 46,241,346\n",
            "Trainable params: 26,216,962\n",
            "Non-trainable params: 20,024,384\n",
            "_________________________________________________________________\n"
          ]
        }
      ]
    },
    {
      "cell_type": "code",
      "source": [
        "#Compiling the model\n",
        "\n",
        "vgg19.compile(loss=\"categorical_crossentropy\",optimizer = 'rmsprop', metrics=[\"accuracy\"])\n",
        "\n",
        "#We wish to monitor the validation loss and save the best model\n",
        "\n",
        "callbacks = tf.keras.callbacks.ModelCheckpoint(filepath=\"fine_tuning.keras\",\n",
        "                                            save_best_only=True,\n",
        "                                            monitor=\"val_loss\")\n"
      ],
      "metadata": {
        "id": "dknN3bmG__ky"
      },
      "execution_count": null,
      "outputs": []
    },
    {
      "cell_type": "code",
      "source": [
        "#Training the model\n",
        "\n",
        "network_1 = vgg19.fit( train_generator,steps_per_epoch = len(train_generator),epochs= 5 , validation_data= val_generator,\n",
        "             validation_steps = len(val_generator), callbacks=[callbacks])"
      ],
      "metadata": {
        "colab": {
          "base_uri": "https://localhost:8080/"
        },
        "id": "1hV-AOKXADcB",
        "outputId": "b43a26fe-0d04-4236-e34b-8be2ec2b1de0"
      },
      "execution_count": null,
      "outputs": [
        {
          "output_type": "stream",
          "name": "stdout",
          "text": [
            "Epoch 1/5\n",
            "31/31 [==============================] - 5835s 188s/step - loss: 42.8404 - accuracy: 0.7369 - val_loss: 0.2109 - val_accuracy: 0.9272\n",
            "Epoch 2/5\n",
            "31/31 [==============================] - 107s 3s/step - loss: 17.4931 - accuracy: 0.8537 - val_loss: 0.3577 - val_accuracy: 0.9411\n",
            "Epoch 3/5\n",
            "31/31 [==============================] - 109s 3s/step - loss: 0.5628 - accuracy: 0.9425 - val_loss: 0.0125 - val_accuracy: 0.9975\n",
            "Epoch 4/5\n",
            "31/31 [==============================] - 106s 3s/step - loss: 11.0937 - accuracy: 0.8342 - val_loss: 0.0231 - val_accuracy: 0.9905\n",
            "Epoch 5/5\n",
            "31/31 [==============================] - 106s 3s/step - loss: 0.0410 - accuracy: 0.9894 - val_loss: 6.1886 - val_accuracy: 0.8309\n"
          ]
        }
      ]
    },
    {
      "cell_type": "markdown",
      "source": [
        "#### Model's performance on test dataset"
      ],
      "metadata": {
        "id": "K_5KDXZdD8Jv"
      }
    },
    {
      "cell_type": "code",
      "source": [
        "import numpy as np\n",
        "\n",
        "\n",
        "#Loading the best model saved\n",
        "test_model = tf.keras.models.load_model(\"fine_tuning.keras\")\n",
        "\n",
        "#Using the same for making predictions\n",
        "predict = test_model.predict_generator(\n",
        "    test_generator, workers=0, verbose=0\n",
        ")\n",
        "\n",
        "predictedClass = np.argmax(predict, axis=1)\n",
        "\n",
        "#The actual classes\n",
        "trueClass = test_generator.classes[test_generator.index_array]"
      ],
      "metadata": {
        "colab": {
          "base_uri": "https://localhost:8080/"
        },
        "id": "T_UIv7BpiOtf",
        "outputId": "6bc8becf-f533-4bfc-afcf-581a8d6b8694"
      },
      "execution_count": null,
      "outputs": [
        {
          "output_type": "stream",
          "name": "stderr",
          "text": [
            "/usr/local/lib/python3.7/dist-packages/ipykernel_launcher.py:6: UserWarning: `Model.predict_generator` is deprecated and will be removed in a future version. Please use `Model.predict`, which supports generators.\n",
            "  \n"
          ]
        }
      ]
    },
    {
      "cell_type": "code",
      "source": [
        "from sklearn.metrics import confusion_matrix,plot_confusion_matrix\n",
        "\n",
        "#Confusion matrix for the predictions made\n",
        "\n",
        "confusionMatrix = (confusion_matrix(\n",
        "        y_true = trueClass,                                       \n",
        "        y_pred = predictedClass))                                \n",
        "\n",
        "print(confusionMatrix)"
      ],
      "metadata": {
        "colab": {
          "base_uri": "https://localhost:8080/"
        },
        "id": "ZK82zf703jZ7",
        "outputId": "87c659c8-0f62-4365-a4c6-f2590905d3d2"
      },
      "execution_count": null,
      "outputs": [
        {
          "output_type": "stream",
          "name": "stdout",
          "text": [
            "[[ 294  506]\n",
            " [  19 1621]]\n"
          ]
        }
      ]
    },
    {
      "cell_type": "code",
      "source": [
        "#The performance scores of the model\n",
        "\n",
        "from sklearn.metrics import precision_score\n",
        "from sklearn.metrics import accuracy_score\n",
        "from sklearn.metrics import recall_score\n",
        "from sklearn.metrics import f1_score\n",
        "import numpy as np\n",
        "\n",
        "print(\"Precision score is \", precision_score(trueClass, predictedClass))\n",
        "print(\"Accuracy score is \", accuracy_score(trueClass, predictedClass))\n",
        "print(\"Recall is \",recall_score(trueClass, predictedClass))\n",
        "print(\"F1 score is \",f1_score(trueClass, predictedClass))"
      ],
      "metadata": {
        "colab": {
          "base_uri": "https://localhost:8080/"
        },
        "id": "LZYatrl_yx-c",
        "outputId": "ebb4d28e-2c72-4eb3-89b4-c0ca6b67fe47"
      },
      "execution_count": null,
      "outputs": [
        {
          "output_type": "stream",
          "name": "stdout",
          "text": [
            "Precision score is  0.7621062529384109\n",
            "Accuracy score is  0.7848360655737705\n",
            "Recall is  0.9884146341463415\n",
            "F1 score is  0.8606318024953544\n"
          ]
        }
      ]
    },
    {
      "cell_type": "markdown",
      "source": [
        "#### The prediction accuracy improved to 78.4% with data augmentation on COVID class."
      ],
      "metadata": {
        "id": "-aNfJlMJEHQQ"
      }
    }
  ]
}