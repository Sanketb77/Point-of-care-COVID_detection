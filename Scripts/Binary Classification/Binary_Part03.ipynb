{
  "nbformat": 4,
  "nbformat_minor": 0,
  "metadata": {
    "colab": {
      "name": "Binary_Part003.ipynb",
      "provenance": [],
      "collapsed_sections": [],
      "machine_shape": "hm"
    },
    "kernelspec": {
      "name": "python3",
      "display_name": "Python 3"
    },
    "language_info": {
      "name": "python"
    },
    "accelerator": "GPU",
    "gpuClass": "standard"
  },
  "cells": [
    {
      "cell_type": "markdown",
      "source": [
        "### Project Title : - Using Lung ultrasound images for building a reliable Point-of-care Covid-19 testing system"
      ],
      "metadata": {
        "id": "7dm9wFgkSlTu"
      }
    },
    {
      "cell_type": "markdown",
      "source": [
        "#### Binary Classifier : For classifying lung ultrasound images into one of the two categories : Covid and Non Covid"
      ],
      "metadata": {
        "id": "9OvX4KS8SrBv"
      }
    },
    {
      "cell_type": "code",
      "source": [
        "# mounting the google drive\n",
        "\n",
        "from google.colab import drive\n",
        "drive.mount(\"/content/drive/\")"
      ],
      "metadata": {
        "colab": {
          "base_uri": "https://localhost:8080/"
        },
        "id": "hOnT05sJSo0M",
        "outputId": "6cd55537-94eb-4f62-85de-7293435263ca"
      },
      "execution_count": null,
      "outputs": [
        {
          "output_type": "stream",
          "name": "stdout",
          "text": [
            "Mounted at /content/drive/\n"
          ]
        }
      ]
    },
    {
      "cell_type": "code",
      "source": [
        "#Changing the current working directory\n",
        "cd drive/MyDrive/"
      ],
      "metadata": {
        "colab": {
          "base_uri": "https://localhost:8080/"
        },
        "id": "hGnlld1DStrI",
        "outputId": "9f0dfcd8-5c2f-4ff1-cca9-cdb8c787d94b"
      },
      "execution_count": null,
      "outputs": [
        {
          "output_type": "stream",
          "name": "stdout",
          "text": [
            "/content/drive/MyDrive\n"
          ]
        }
      ]
    },
    {
      "cell_type": "markdown",
      "source": [
        "#### Splitting the dataset into training, testing and validation"
      ],
      "metadata": {
        "id": "Ihd40ZrHVmgt"
      }
    },
    {
      "cell_type": "code",
      "source": [
        "#Installing the library split-folders\n",
        "pip install split-folders"
      ],
      "metadata": {
        "colab": {
          "base_uri": "https://localhost:8080/"
        },
        "id": "x1wPjGJzbHTr",
        "outputId": "e777948a-0518-4dcb-a9ef-4d02991dcda0"
      },
      "execution_count": null,
      "outputs": [
        {
          "output_type": "stream",
          "name": "stdout",
          "text": [
            "Looking in indexes: https://pypi.org/simple, https://us-python.pkg.dev/colab-wheels/public/simple/\n",
            "Requirement already satisfied: split-folders in /usr/local/lib/python3.7/dist-packages (0.5.1)\n"
          ]
        }
      ]
    },
    {
      "cell_type": "code",
      "source": [
        "import splitfolders\n",
        "\n",
        "#Splitting the entire dataset into training, testing and validation folders with 70%,20% and 10% percentages of the dataset respectively\n",
        "\n",
        "splitfolders.ratio('/content/drive/MyDrive/My_Dataset',output ='binary_two', ratio = (.7,0.1,0.2))"
      ],
      "metadata": {
        "colab": {
          "base_uri": "https://localhost:8080/"
        },
        "id": "PVYjYVV2bH34",
        "outputId": "7e288796-f358-449b-a96d-3765518b6fed"
      },
      "execution_count": null,
      "outputs": [
        {
          "output_type": "stream",
          "name": "stderr",
          "text": [
            "Copying files: 13846 files [03:30, 65.91 files/s]\n"
          ]
        }
      ]
    },
    {
      "cell_type": "markdown",
      "source": [
        "#### Dataset Loading and Pre-processing"
      ],
      "metadata": {
        "id": "M6VCEWUxdOq-"
      }
    },
    {
      "cell_type": "code",
      "source": [
        "#Importing the necessary libraries\n",
        "\n",
        "import pathlib\n",
        "from pathlib import Path\n",
        "import tensorflow as tf\n",
        "from tensorflow.keras.preprocessing.image import ImageDataGenerator\n",
        "\n",
        "\n",
        "#Creating path for dataset folders\n",
        "p = Path().cwd()\n",
        "q = p/'binary_two'\n",
        "\n",
        "#Images would be fed into the model as a batch of this size\n",
        "batch_size = 512\n",
        "\n",
        "#Rescaling the pixel values\n",
        "train_datagen = ImageDataGenerator(rescale=1./255)\n",
        "\n",
        "test_datagen = ImageDataGenerator(rescale=1./255)\n",
        "\n",
        "val_datagen = ImageDataGenerator(rescale=1./255)\n",
        "\n",
        "\n",
        "#Creating data generators for all the three datasets\n",
        "\n",
        "train_generator = train_datagen.flow_from_directory(q/'train',target_size=(197,198), batch_size= batch_size,class_mode ='categorical', shuffle = False)\n",
        "\n",
        "test_generator = test_datagen.flow_from_directory(q/'test',target_size= (197,198), batch_size= batch_size,class_mode ='categorical', shuffle = False)\n",
        "\n",
        "val_generator = val_datagen.flow_from_directory(q/'val',target_size=(197,198), batch_size= batch_size,class_mode ='categorical', shuffle = False)\n",
        "\n",
        "        # confirm the iterator works\n",
        "\n",
        "batchX, batchy = train_generator.next()\n",
        "print('Batch shape=%s, min=%.3f, max=%.3f' % (batchX.shape, batchX.min(), batchX.max()))\n"
      ],
      "metadata": {
        "colab": {
          "base_uri": "https://localhost:8080/"
        },
        "id": "m9cT-DoZa5A6",
        "outputId": "55107194-f3c6-4a0a-e0a6-c6c0a8e81107"
      },
      "execution_count": null,
      "outputs": [
        {
          "output_type": "stream",
          "name": "stdout",
          "text": [
            "Found 9691 images belonging to 2 classes.\n",
            "Found 2771 images belonging to 2 classes.\n",
            "Found 1384 images belonging to 2 classes.\n",
            "Batch shape=(512, 197, 198, 3), min=0.000, max=1.000\n"
          ]
        }
      ]
    },
    {
      "cell_type": "markdown",
      "source": [
        "#### Calculating weights for each class"
      ],
      "metadata": {
        "id": "K4q5DabTdYWJ"
      }
    },
    {
      "cell_type": "code",
      "source": [
        "from sklearn.utils import class_weight\n",
        "import numpy as np\n",
        "\n",
        "#Picking up the classes available in training data\n",
        "\n",
        "train_classes = train_generator.classes[train_generator.index_array]\n",
        "\n",
        "#Computing weight for each class keeping them balanced \n",
        "\n",
        "#The minority class i.e. Covid is expected to be given a greater weight than the majority class Non-Covid to make these two balanced\n",
        "\n",
        "class_weights = class_weight.compute_class_weight(\n",
        "                                        class_weight = \"balanced\",\n",
        "                                        classes = np.unique(train_classes),\n",
        "                                        y = train_classes                                                    \n",
        "                                    )\n",
        "\n",
        "#Th dictionary contains weights for both classes\n",
        "\n",
        "class_weights = dict(zip(np.unique(train_classes), class_weights))\n",
        "class_weights\n"
      ],
      "metadata": {
        "colab": {
          "base_uri": "https://localhost:8080/"
        },
        "id": "XG2R1H5cH5ml",
        "outputId": "7cd139dd-8e7c-4d28-a611-84d667bd3825"
      },
      "execution_count": null,
      "outputs": [
        {
          "output_type": "execute_result",
          "data": {
            "text/plain": [
              "{0: 1.7115860120098905, 1: 0.7063411078717201}"
            ]
          },
          "metadata": {},
          "execution_count": 5
        }
      ]
    },
    {
      "cell_type": "markdown",
      "source": [
        "#### Pretrained model - ResNet50V2"
      ],
      "metadata": {
        "id": "FzXN4zDveZIE"
      }
    },
    {
      "cell_type": "code",
      "source": [
        "#getting the feature extractor part of the model\n",
        "\n",
        "pretrained= tf.keras.applications.ResNet50V2(include_top=False,\n",
        "                   input_shape=(197,198, 3), weights='imagenet')\n",
        "\n",
        "#Freezing all of its layers as we wish to retain it's parameters\n",
        "\n",
        "pretrained.trainable=False\n"
      ],
      "metadata": {
        "id": "FisnWPvMWBc0",
        "colab": {
          "base_uri": "https://localhost:8080/"
        },
        "outputId": "bb7f824b-9c74-47ad-8a7c-9b081f23ec5b"
      },
      "execution_count": null,
      "outputs": [
        {
          "output_type": "stream",
          "name": "stdout",
          "text": [
            "Downloading data from https://storage.googleapis.com/tensorflow/keras-applications/resnet/resnet50v2_weights_tf_dim_ordering_tf_kernels_notop.h5\n",
            "94674944/94668760 [==============================] - 0s 0us/step\n",
            "94683136/94668760 [==============================] - 0s 0us/step\n"
          ]
        }
      ]
    },
    {
      "cell_type": "code",
      "source": [
        "#Model's classifier part\n",
        "\n",
        "inputs = tf.keras.Input(shape=(197,198,3))\n",
        "x = pretrained(inputs)\n",
        "x = tf.keras.layers.Flatten()(x)\n",
        "x = tf.keras.layers.Dense(512)(x)\n",
        "x = tf.keras.layers.Dropout(0.5)(x)\n",
        "outputs = tf.keras.layers.Dense(2, activation=\"softmax\")(x)\n",
        "\n",
        "resnet = tf.keras.Model(inputs, outputs)\n",
        "\n",
        "#Getting the model architecture\n",
        "resnet.summary()\n"
      ],
      "metadata": {
        "colab": {
          "base_uri": "https://localhost:8080/"
        },
        "id": "n1P7rLHFaci1",
        "outputId": "6ba4cb64-c2de-49c6-ce74-3bd1270c8cec"
      },
      "execution_count": null,
      "outputs": [
        {
          "output_type": "stream",
          "name": "stdout",
          "text": [
            "Model: \"model\"\n",
            "_________________________________________________________________\n",
            " Layer (type)                Output Shape              Param #   \n",
            "=================================================================\n",
            " input_3 (InputLayer)        [(None, 197, 198, 3)]     0         \n",
            "                                                                 \n",
            " resnet50v2 (Functional)     (None, 7, 7, 2048)        23564800  \n",
            "                                                                 \n",
            " flatten_1 (Flatten)         (None, 100352)            0         \n",
            "                                                                 \n",
            " dense_2 (Dense)             (None, 512)               51380736  \n",
            "                                                                 \n",
            " dropout_1 (Dropout)         (None, 512)               0         \n",
            "                                                                 \n",
            " dense_3 (Dense)             (None, 2)                 1026      \n",
            "                                                                 \n",
            "=================================================================\n",
            "Total params: 74,946,562\n",
            "Trainable params: 51,381,762\n",
            "Non-trainable params: 23,564,800\n",
            "_________________________________________________________________\n"
          ]
        }
      ]
    },
    {
      "cell_type": "code",
      "source": [
        "#Compiling the model with the appropriate parameters\n",
        "\n",
        "resnet.compile(loss=\"categorical_crossentropy\",optimizer = 'rmsprop', metrics=[\"accuracy\"])\n",
        "\n",
        "#We wish to track the validation loss and save the best model\n",
        "\n",
        "callbacks = tf.keras.callbacks.ModelCheckpoint(filepath=\"n.keras\",\n",
        "                                            save_best_only=True,\n",
        "                                            monitor=\"val_loss\")\n"
      ],
      "metadata": {
        "id": "MycVQUkrag2e"
      },
      "execution_count": null,
      "outputs": []
    },
    {
      "cell_type": "code",
      "source": [
        "#Training the model, the class weight parameter has been set up to the computed weights \n",
        "\n",
        "network_2 = resnet.fit( train_generator,steps_per_epoch = len(train_generator),epochs= 3 , validation_data= val_generator,\n",
        "             validation_steps = len(val_generator), callbacks = [callbacks], class_weight = class_weights)"
      ],
      "metadata": {
        "colab": {
          "base_uri": "https://localhost:8080/"
        },
        "id": "j2foPgt7anXJ",
        "outputId": "86c5f2fb-9f62-4b29-caf4-ec0b9c807116"
      },
      "execution_count": null,
      "outputs": [
        {
          "output_type": "stream",
          "name": "stdout",
          "text": [
            "Epoch 1/3\n",
            "19/19 [==============================] - 1621s 87s/step - loss: 302.2700 - accuracy: 0.6999 - val_loss: 41.4349 - val_accuracy: 0.8960\n",
            "Epoch 2/3\n",
            "19/19 [==============================] - 85s 4s/step - loss: 64.1309 - accuracy: 0.8361 - val_loss: 8.9405 - val_accuracy: 0.9639\n",
            "Epoch 3/3\n",
            "19/19 [==============================] - 85s 5s/step - loss: 53.7443 - accuracy: 0.8746 - val_loss: 5.5164 - val_accuracy: 0.9342\n"
          ]
        }
      ]
    },
    {
      "cell_type": "markdown",
      "source": [
        "#### Generating predictions"
      ],
      "metadata": {
        "id": "awBu8jNyfuLl"
      }
    },
    {
      "cell_type": "code",
      "source": [
        "import numpy as np\n",
        "\n",
        "#The model is now being used for making predictions on the test dataset\n",
        "predict = resnet.predict_generator(\n",
        "    test_generator, workers=0, verbose=0\n",
        ")\n",
        "\n",
        "#Getting class of the predictions made\n",
        "predictedClass = np.argmax(predict, axis=1)\n",
        "\n",
        "#True class of every image in test data\n",
        "trueClass = test_generator.classes[test_generator.index_array]"
      ],
      "metadata": {
        "colab": {
          "base_uri": "https://localhost:8080/"
        },
        "id": "PSZNqEvxUcP5",
        "outputId": "a6333a79-d621-499c-9572-59726c8a93f4"
      },
      "execution_count": null,
      "outputs": [
        {
          "output_type": "stream",
          "name": "stderr",
          "text": [
            "/usr/local/lib/python3.7/dist-packages/ipykernel_launcher.py:6: UserWarning: `Model.predict_generator` is deprecated and will be removed in a future version. Please use `Model.predict`, which supports generators.\n",
            "  \n"
          ]
        }
      ]
    },
    {
      "cell_type": "code",
      "source": [
        "from sklearn.metrics import precision_score\n",
        "from sklearn.metrics import accuracy_score\n",
        "from sklearn.metrics import recall_score\n",
        "from sklearn.metrics import f1_score\n",
        "import numpy as np\n",
        "\n",
        "#Computing the performance metrics\n",
        "print(\"Precision score is \", precision_score(trueClass, predictedClass))\n",
        "print(\"Accuracy score is \", accuracy_score(trueClass, predictedClass))\n",
        "print(\"Recall is \",recall_score(trueClass, predictedClass))\n",
        "print(\"F1 score is \",f1_score(trueClass, predictedClass))"
      ],
      "metadata": {
        "colab": {
          "base_uri": "https://localhost:8080/"
        },
        "id": "OlB5y__ciagq",
        "outputId": "78a45fc2-5834-47e3-f6ae-146f209ffeff"
      },
      "execution_count": null,
      "outputs": [
        {
          "output_type": "stream",
          "name": "stdout",
          "text": [
            "Precision score is  0.9994356659142212\n",
            "Accuracy score is  0.9310718152291592\n",
            "Recall is  0.903110657827639\n",
            "F1 score is  0.948834717385481\n"
          ]
        }
      ]
    },
    {
      "cell_type": "code",
      "source": [
        "from sklearn.metrics import confusion_matrix,plot_confusion_matrix\n",
        "\n",
        "#Confusion matrix prints out predictions per class \n",
        "confusionMatrix = (confusion_matrix(\n",
        "        y_true = trueClass,                                       \n",
        "        y_pred = predictedClass))                                \n",
        "\n",
        "print(confusionMatrix)"
      ],
      "metadata": {
        "colab": {
          "base_uri": "https://localhost:8080/"
        },
        "id": "K_My6EOTlIrc",
        "outputId": "24352c63-e3f3-4365-9274-9a00c80ef8ce"
      },
      "execution_count": null,
      "outputs": [
        {
          "output_type": "stream",
          "name": "stdout",
          "text": [
            "[[ 809    1]\n",
            " [ 190 1771]]\n"
          ]
        }
      ]
    },
    {
      "cell_type": "code",
      "source": [
        "#Visualizing the confusion matrix\n",
        "import seaborn as sns\n",
        "from sklearn.metrics import confusion_matrix\n",
        "import matplotlib.pyplot as plt\n",
        "\n",
        "\n",
        "# Get the names of the ten classes\n",
        "class_names = test_generator.class_indices.keys()\n",
        "\n",
        "true_classes = test_generator.classes\n",
        "\n",
        "class_names = test_generator.class_indices.keys()\n",
        "\n",
        "def plot_heatmap(y_true, y_pred, class_names, ax, title):\n",
        "    cm = confusion_matrix(y_true, y_pred)\n",
        "    sns.heatmap(\n",
        "        cm, \n",
        "        annot=True, \n",
        "        square=True, \n",
        "        xticklabels=class_names, \n",
        "        yticklabels=class_names,\n",
        "        fmt='d', \n",
        "        cmap=plt.cm.Blues,\n",
        "        cbar=False,\n",
        "        ax=ax\n",
        "    )\n",
        "    ax.set_title(title, fontsize=16)\n",
        "    ax.set_xticklabels(ax.get_xticklabels(), rotation=45, ha=\"right\")\n",
        "    ax.set_ylabel('True Label', fontsize=12)\n",
        "    ax.set_xlabel('Predicted Label', fontsize=12)\n",
        "\n",
        "fig, (ax1) = plt.subplots(1, 1, figsize=(20, 10))\n",
        "\n",
        "plot_heatmap(trueClass, predictedClass, class_names, ax1, title=\"Baseline model\")    \n",
        "\n",
        "fig.suptitle(\"Confusion Matrix\", fontsize=24)\n",
        "fig.tight_layout()\n",
        "fig.subplots_adjust(top=1.25)\n",
        "plt.show()"
      ],
      "metadata": {
        "colab": {
          "base_uri": "https://localhost:8080/",
          "height": 938
        },
        "id": "6oxNvNt8lMYj",
        "outputId": "0ae83288-819e-4b8d-c49c-4b2bee99f722"
      },
      "execution_count": null,
      "outputs": [
        {
          "output_type": "display_data",
          "data": {
            "text/plain": [
              "<Figure size 1440x720 with 1 Axes>"
            ],
            "image/png": "[encoded data removed]"
          },
          "metadata": {
            "needs_background": "light"
          }
        }
      ]
    }
  ]
}