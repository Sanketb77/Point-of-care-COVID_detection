{
  "nbformat": 4,
  "nbformat_minor": 0,
  "metadata": {
    "colab": {
      "name": "Part02.ipynb",
      "provenance": [],
      "collapsed_sections": []
    },
    "kernelspec": {
      "name": "python3",
      "display_name": "Python 3"
    },
    "language_info": {
      "name": "python"
    },
    "accelerator": "GPU",
    "gpuClass": "standard"
  },
  "cells": [
    {
      "cell_type": "markdown",
      "source": [
        "### Project Title : - Using Lung ultrasound images for building a reliable Point-of-care Covid-19 testing system"
      ],
      "metadata": {
        "id": "ZR0wAkWWNV7A"
      }
    },
    {
      "cell_type": "markdown",
      "source": [
        "####Multi Classifier :- For classifying lung ultrasoungd images into the right category - Covid, Normal and Pneumonia"
      ],
      "metadata": {
        "id": "nImzw6D8Nchq"
      }
    },
    {
      "cell_type": "markdown",
      "source": [
        "##### Mounting google drive since the image data is available there"
      ],
      "metadata": {
        "id": "OB6nMvAEPi4c"
      }
    },
    {
      "cell_type": "code",
      "execution_count": null,
      "metadata": {
        "colab": {
          "base_uri": "https://localhost:8080/"
        },
        "id": "j9SdRKvCVctq",
        "outputId": "a3df17f4-f8c4-4ed4-ae60-e6790e87c95b"
      },
      "outputs": [
        {
          "output_type": "stream",
          "name": "stdout",
          "text": [
            "Mounted at /content/drive/\n"
          ]
        }
      ],
      "source": [
        "from google.colab import drive\n",
        "drive.mount(\"/content/drive/\")"
      ]
    },
    {
      "cell_type": "code",
      "source": [
        "#Changing the directory to the location where dataset is available\n",
        "cd drive/MyDrive/"
      ],
      "metadata": {
        "colab": {
          "base_uri": "https://localhost:8080/"
        },
        "id": "S8UwMMitXI9O",
        "outputId": "33e273c8-5d6b-4d20-f8f5-04727ed6c98b"
      },
      "execution_count": null,
      "outputs": [
        {
          "output_type": "stream",
          "name": "stdout",
          "text": [
            "/content/drive/MyDrive\n"
          ]
        }
      ]
    },
    {
      "cell_type": "markdown",
      "source": [
        "####For 3800 images"
      ],
      "metadata": {
        "id": "t2GwXIyFNqiT"
      }
    },
    {
      "cell_type": "markdown",
      "source": [
        "##### Since the Google Colab resources are not able to work with all of the images at once, we started out with a relatively small number."
      ],
      "metadata": {
        "id": "846wRiZ0P0Y0"
      }
    },
    {
      "cell_type": "markdown",
      "source": [
        "####Image Loading and Pre-processing"
      ],
      "metadata": {
        "id": "SdlAn8kdNiQX"
      }
    },
    {
      "cell_type": "code",
      "source": [
        "#Importing the libraries\n",
        "\n",
        "import pathlib\n",
        "from pathlib import Path\n",
        "from tensorflow.keras.preprocessing.image import load_img, img_to_array, smart_resize\n",
        "import numpy as np\n",
        "import tensorflow as tf\n",
        "import cv2"
      ],
      "metadata": {
        "id": "HJDEcKvGXP05"
      },
      "execution_count": null,
      "outputs": []
    },
    {
      "cell_type": "code",
      "source": [
        "p = Path().cwd()\n",
        "q = p/'stratify'\n",
        "\n",
        "# The three folders named 'normal', 'covid' and pneumonia are available inside the stratify folder.\n",
        "\n",
        "#Assigning labels to each class\n",
        "\n",
        "target_dict = {\"normal\" : 0, \"covid\" : 1 , \"pneumonia\" : 2}\n",
        "images = [] # create an empty list\n",
        "labels = [] # create an empty list  \n",
        "\n",
        "for fldr in q.iterdir(): \n",
        "    current_label = fldr.name # get the name of the current label \n",
        "    print(current_label)  \n",
        "    for img in fldr.iterdir():\n",
        "        img = load_img(img,grayscale = True)\n",
        "        img_array = img_to_array(img) # convert the image to an NumPy array \n",
        "        size = (198,197)\n",
        "        img_array_resized = smart_resize(img_array,size)\n",
        "        img_arr = img_array_resized.repeat(3,axis = -1) #converting the grayscale image to RGB\n",
        "\n",
        "        images.append(img_arr)# add reshaped image to list of images \n",
        "        labels.append(current_label)# add label for this image to the list of labels \n",
        "\n",
        "images = np.array(images) # convert the list of images to a NumPy array \n",
        "labels = np.array(labels) # convert the list of labels to a NumPy array\n",
        "\n",
        "images = images.astype('float32') / 255 #Pixel normalization\n",
        "        "
      ],
      "metadata": {
        "colab": {
          "base_uri": "https://localhost:8080/"
        },
        "id": "GSmZXoSnXSqp",
        "outputId": "cd3d0d24-df60-4d2e-aec2-2c8f8e644ce7"
      },
      "execution_count": null,
      "outputs": [
        {
          "output_type": "stream",
          "name": "stdout",
          "text": [
            "covid\n"
          ]
        },
        {
          "output_type": "stream",
          "name": "stderr",
          "text": [
            "/usr/local/lib/python3.7/dist-packages/keras_preprocessing/image/utils.py:107: UserWarning: grayscale is deprecated. Please use color_mode = \"grayscale\"\n",
            "  warnings.warn('grayscale is deprecated. Please use '\n"
          ]
        },
        {
          "output_type": "stream",
          "name": "stdout",
          "text": [
            "normal\n",
            "pneumonia\n"
          ]
        }
      ]
    },
    {
      "cell_type": "code",
      "source": [
        "from tensorflow.keras.utils import to_categorical\n",
        "\n",
        "#converting the labels from class name to 0,1,2\n",
        "\n",
        "labels = np.asarray(list(map(lambda x: target_dict[x] if x in target_dict.keys() else x , labels))) # use the target_dict to convert the string labels to an array of integers\n",
        "\n",
        "#Converting the labels to categorical\n",
        "\n",
        "labels = to_categorical(labels)\n"
      ],
      "metadata": {
        "id": "nCMXf7nUX9td"
      },
      "execution_count": null,
      "outputs": []
    },
    {
      "cell_type": "markdown",
      "source": [
        "####Splitting the dataset with stratification"
      ],
      "metadata": {
        "id": "h7zY3fnANl56"
      }
    },
    {
      "cell_type": "markdown",
      "source": [
        "##### Setting stratify = labels will ensure that the splitted data has images belonging to each class in the same proportion as they are in the original dataset."
      ],
      "metadata": {
        "id": "M2hh5G2WREH9"
      }
    },
    {
      "cell_type": "code",
      "source": [
        "from sklearn.model_selection import train_test_split\n",
        "\n",
        "\n",
        "#Splitting data into training,testing and validation\n",
        "X_train, X_test, y_train, y_test = train_test_split(images, labels, test_size=0.3, random_state=111,stratify = labels)"
      ],
      "metadata": {
        "id": "Z5lHhjEcaPEd"
      },
      "execution_count": null,
      "outputs": []
    },
    {
      "cell_type": "code",
      "source": [
        "print(X_train.shape)\n",
        "print(y_train.shape)\n",
        "print(\"---------\")\n",
        "print(X_test.shape)\n",
        "print(y_test.shape)"
      ],
      "metadata": {
        "colab": {
          "base_uri": "https://localhost:8080/"
        },
        "id": "cGYpa3IoaZrN",
        "outputId": "deab04b3-94f4-4faf-ac37-45921d9632a7"
      },
      "execution_count": null,
      "outputs": [
        {
          "output_type": "stream",
          "name": "stdout",
          "text": [
            "(2310, 198, 197, 3)\n",
            "(2310, 3)\n",
            "---------\n",
            "(990, 198, 197, 3)\n",
            "(990, 3)\n"
          ]
        }
      ]
    },
    {
      "cell_type": "markdown",
      "source": [
        "####Multi-classifier VGG16"
      ],
      "metadata": {
        "id": "eXd6FQYQNu6T"
      }
    },
    {
      "cell_type": "markdown",
      "source": [
        "##### Pre-trained network VGG16 has been chosen for the feature extractor part. "
      ],
      "metadata": {
        "id": "uhEmUpNURUP3"
      }
    },
    {
      "cell_type": "code",
      "source": [
        "pretrained= tf.keras.applications.VGG16(include_top=False,\n",
        "                   input_shape=(198,197,3), weights='imagenet')"
      ],
      "metadata": {
        "colab": {
          "base_uri": "https://localhost:8080/"
        },
        "id": "9I_wyZRSanRL",
        "outputId": "cea5724f-f85f-4212-b66c-3b704c7af08a"
      },
      "execution_count": null,
      "outputs": [
        {
          "output_type": "stream",
          "name": "stdout",
          "text": [
            "Downloading data from https://storage.googleapis.com/tensorflow/keras-applications/vgg16/vgg16_weights_tf_dim_ordering_tf_kernels_notop.h5\n",
            "58892288/58889256 [==============================] - 0s 0us/step\n",
            "58900480/58889256 [==============================] - 0s 0us/step\n"
          ]
        }
      ]
    },
    {
      "cell_type": "code",
      "source": [
        "inputs = tf.keras.Input(shape=(198,197,3))\n",
        "\n",
        "x = pretrained(inputs)\n",
        "x = tf.keras.layers.Flatten()(x)\n",
        "#These layers make up for the classifier part\n",
        "\n",
        "x = tf.keras.layers.Dense(512)(x)\n",
        "x = tf.keras.layers.Dropout(0.5)(x)\n",
        "outputs = tf.keras.layers.Dense(3, activation=\"softmax\")(x)\n",
        "\n",
        "multi_vgg16 = tf.keras.Model(inputs, outputs)\n",
        "\n",
        "multi_vgg16.summary()\n"
      ],
      "metadata": {
        "colab": {
          "base_uri": "https://localhost:8080/"
        },
        "id": "GoEJJwLSavrM",
        "outputId": "25048542-8884-4fd1-c7e3-4ac7e53eac39"
      },
      "execution_count": null,
      "outputs": [
        {
          "output_type": "stream",
          "name": "stdout",
          "text": [
            "Model: \"model\"\n",
            "_________________________________________________________________\n",
            " Layer (type)                Output Shape              Param #   \n",
            "=================================================================\n",
            " input_2 (InputLayer)        [(None, 198, 197, 3)]     0         \n",
            "                                                                 \n",
            " vgg16 (Functional)          (None, 6, 6, 512)         14714688  \n",
            "                                                                 \n",
            " flatten (Flatten)           (None, 18432)             0         \n",
            "                                                                 \n",
            " dense (Dense)               (None, 512)               9437696   \n",
            "                                                                 \n",
            " dropout (Dropout)           (None, 512)               0         \n",
            "                                                                 \n",
            " dense_1 (Dense)             (None, 3)                 1539      \n",
            "                                                                 \n",
            "=================================================================\n",
            "Total params: 24,153,923\n",
            "Trainable params: 24,153,923\n",
            "Non-trainable params: 0\n",
            "_________________________________________________________________\n"
          ]
        }
      ]
    },
    {
      "cell_type": "code",
      "source": [
        "#Using image data generator for feeding data in batches\n",
        "\n",
        "from keras.preprocessing.image import ImageDataGenerator\n",
        "\n",
        "datagen = ImageDataGenerator(featurewise_center=True,\n",
        "                             featurewise_std_normalization=True)\n",
        "  \n",
        "# calculating the mean on the training dataset\n",
        "datagen.fit(X_train)\n",
        "  \n",
        "# preparing iterators to scale images\n",
        "train_iterator = datagen.flow(X_train,y_train, batch_size = 128)\n",
        "test_iterator = datagen.flow(X_test,y_test, batch_size = 128)"
      ],
      "metadata": {
        "id": "mOGwg7H2ayXJ"
      },
      "execution_count": null,
      "outputs": []
    },
    {
      "cell_type": "code",
      "source": [
        "multi_vgg16.compile(loss=\"categorical_crossentropy\",optimizer=\"Adam\", metrics=[\"accuracy\"])\n"
      ],
      "metadata": {
        "id": "S7_PZ2A4bEHi"
      },
      "execution_count": null,
      "outputs": []
    },
    {
      "cell_type": "code",
      "source": [
        "network = multi_vgg16.fit( train_iterator,steps_per_epoch = len(train_iterator),epochs= 5)"
      ],
      "metadata": {
        "colab": {
          "base_uri": "https://localhost:8080/"
        },
        "id": "UTTCAo5Sfz_J",
        "outputId": "a8b4e1fb-7bd4-43d0-c92d-dc92d420babc"
      },
      "execution_count": null,
      "outputs": [
        {
          "output_type": "stream",
          "name": "stdout",
          "text": [
            "Epoch 1/5\n",
            "19/19 [==============================] - 55s 1s/step - loss: 5.4118 - accuracy: 0.3779\n",
            "Epoch 2/5\n",
            "19/19 [==============================] - 24s 1s/step - loss: 0.9609 - accuracy: 0.5606\n",
            "Epoch 3/5\n",
            "19/19 [==============================] - 24s 1s/step - loss: 0.6396 - accuracy: 0.7177\n",
            "Epoch 4/5\n",
            "19/19 [==============================] - 24s 1s/step - loss: 0.3549 - accuracy: 0.8662\n",
            "Epoch 5/5\n",
            "19/19 [==============================] - 24s 1s/step - loss: 0.4980 - accuracy: 0.8221\n"
          ]
        }
      ]
    },
    {
      "cell_type": "code",
      "source": [
        "final_loss, final_acc = multi_vgg16.evaluate(test_iterator)\n",
        "print(\"Test accuracy  : \",final_acc)"
      ],
      "metadata": {
        "colab": {
          "base_uri": "https://localhost:8080/"
        },
        "id": "C3kMGHoQf8NL",
        "outputId": "b5fcdbcf-eb6e-43b8-efc9-ff9c23e1cebd"
      },
      "execution_count": null,
      "outputs": [
        {
          "output_type": "stream",
          "name": "stdout",
          "text": [
            "8/8 [==============================] - 9s 1s/step - loss: 0.2499 - accuracy: 0.9101\n",
            "Test accuracy  :  0.9101009964942932\n"
          ]
        }
      ]
    },
    {
      "cell_type": "markdown",
      "source": [
        "####For 6000 images"
      ],
      "metadata": {
        "id": "X_LopPdOoZOH"
      }
    },
    {
      "cell_type": "markdown",
      "source": [
        "##### This part tests the model with 6000 images while splitting the dataset with stratified sampling."
      ],
      "metadata": {
        "id": "a9jRzwb4RrYG"
      }
    },
    {
      "cell_type": "code",
      "source": [
        "#The same data pre-processing step for loading the images and pre-processing them.\n",
        "\n",
        "p = Path().cwd()\n",
        "q = p/'stratify'\n",
        "\n",
        "target_dict = {\"normal\" : 0, \"covid\" : 1 , \"pneumonia\" : 2}\n",
        "images = [] # create an empty list\n",
        "labels = [] # create an empty list  \n",
        "\n",
        "for fldr in q.iterdir(): \n",
        "    current_label = fldr.name # get the name of the current label \n",
        "    print(current_label)  \n",
        "    for img in fldr.iterdir():\n",
        "        img = load_img(img,grayscale = True)\n",
        "        img_array = img_to_array(img) # convert the image to an NumPy array \n",
        "        size = (198,197)\n",
        "        img_array_resized = smart_resize(img_array,size)\n",
        "        img_arr = img_array_resized.repeat(3,axis = -1)\n",
        "        images.append(img_arr)# add reshaped image to list of images \n",
        "        labels.append(current_label)# add label for this image to the list of labels \n",
        "\n",
        "images = np.array(images) # convert the list of images to a NumPy array \n",
        "labels = np.array(labels) # convert the list of labels to a NumPy array\n",
        "\n",
        "images = images.astype('float32') / 255\n",
        "        "
      ],
      "metadata": {
        "colab": {
          "base_uri": "https://localhost:8080/"
        },
        "id": "QIO1-ES7ocvd",
        "outputId": "bde5aebe-2d2b-40c2-a8ed-5c9e55952d11"
      },
      "execution_count": null,
      "outputs": [
        {
          "output_type": "stream",
          "name": "stdout",
          "text": [
            "covid\n"
          ]
        },
        {
          "output_type": "stream",
          "name": "stderr",
          "text": [
            "/usr/local/lib/python3.7/dist-packages/keras_preprocessing/image/utils.py:107: UserWarning: grayscale is deprecated. Please use color_mode = \"grayscale\"\n",
            "  warnings.warn('grayscale is deprecated. Please use '\n"
          ]
        },
        {
          "output_type": "stream",
          "name": "stdout",
          "text": [
            "normal\n",
            "pneumonia\n"
          ]
        }
      ]
    },
    {
      "cell_type": "code",
      "source": [
        "from tensorflow.keras.utils import to_categorical\n",
        "\n",
        "labels = np.asarray(list(map(lambda x: target_dict[x] if x in target_dict.keys() else x , labels))) # use the target_dict to convert the string labels to an array of integers\n",
        "labels = to_categorical(labels)\n"
      ],
      "metadata": {
        "id": "vZVPahW4okpL"
      },
      "execution_count": null,
      "outputs": []
    },
    {
      "cell_type": "code",
      "source": [
        "from sklearn.model_selection import train_test_split\n",
        "\n",
        "\n",
        "#Splitting data into training,testing and validation\n",
        "X_train, X_test, y_train, y_test = train_test_split(images, labels, test_size=0.3, random_state=111,stratify = labels)"
      ],
      "metadata": {
        "id": "gPuIQYBVpZuW"
      },
      "execution_count": null,
      "outputs": []
    },
    {
      "cell_type": "code",
      "source": [
        "print(X_train.shape)\n",
        "print(y_train.shape)\n",
        "print(\"---------\")\n",
        "print(X_test.shape)\n",
        "print(y_test.shape)"
      ],
      "metadata": {
        "colab": {
          "base_uri": "https://localhost:8080/"
        },
        "id": "lU1gqqhzpeXm",
        "outputId": "8510274c-a0ca-4b34-c81a-92be07b58beb"
      },
      "execution_count": null,
      "outputs": [
        {
          "output_type": "stream",
          "name": "stdout",
          "text": [
            "(4039, 198, 197, 3)\n",
            "(4039, 3)\n",
            "---------\n",
            "(1731, 198, 197, 3)\n",
            "(1731, 3)\n"
          ]
        }
      ]
    },
    {
      "cell_type": "markdown",
      "source": [
        "####Multi-classifier VGG16 with data augmentation"
      ],
      "metadata": {
        "id": "a0YfEi0_OAJw"
      }
    },
    {
      "cell_type": "markdown",
      "source": [
        "##### The images have also been augmented by enabling horizontal flip and random zoom. The same has been done to prevent the model from overfitting."
      ],
      "metadata": {
        "id": "9VwiD9_-SEyF"
      }
    },
    {
      "cell_type": "code",
      "source": [
        "\n",
        "data_augmentation = tf.keras.Sequential([ tf.keras.layers.RandomFlip(\"horizontal\"),\n",
        "                                      tf.keras.layers.RandomZoom(0.2)])\n",
        "\n",
        "inputs = tf.keras.Input(shape=(198,197,3))\n",
        "x = data_augmentation(inputs)\n",
        "x = tf.keras.layers.Flatten()(x)\n",
        "x = tf.keras.layers.Dense(512)(x)\n",
        "x = tf.keras.layers.Dropout(0.5)(x)\n",
        "outputs = tf.keras.layers.Dense(3, activation=\"softmax\")(x)\n",
        "\n",
        "multi_vgg16 = tf.keras.Model(inputs, outputs)\n",
        "\n",
        "multi_vgg16.summary()"
      ],
      "metadata": {
        "colab": {
          "base_uri": "https://localhost:8080/"
        },
        "id": "Fw42udraqxr4",
        "outputId": "913df419-a5b5-41f8-f9d9-a11a0152c0f4"
      },
      "execution_count": null,
      "outputs": [
        {
          "output_type": "stream",
          "name": "stdout",
          "text": [
            "Model: \"model_3\"\n",
            "_________________________________________________________________\n",
            " Layer (type)                Output Shape              Param #   \n",
            "=================================================================\n",
            " input_6 (InputLayer)        [(None, 198, 197, 3)]     0         \n",
            "                                                                 \n",
            " sequential_2 (Sequential)   (None, 198, 197, 3)       0         \n",
            "                                                                 \n",
            " flatten_3 (Flatten)         (None, 117018)            0         \n",
            "                                                                 \n",
            " dense_6 (Dense)             (None, 512)               59913728  \n",
            "                                                                 \n",
            " dropout_3 (Dropout)         (None, 512)               0         \n",
            "                                                                 \n",
            " dense_7 (Dense)             (None, 3)                 1539      \n",
            "                                                                 \n",
            "=================================================================\n",
            "Total params: 59,915,267\n",
            "Trainable params: 59,915,267\n",
            "Non-trainable params: 0\n",
            "_________________________________________________________________\n"
          ]
        }
      ]
    },
    {
      "cell_type": "code",
      "source": [
        "multi_vgg16.compile(loss=\"categorical_crossentropy\",optimizer=\"Adam\", metrics=[\"accuracy\"])\n"
      ],
      "metadata": {
        "id": "TqcpBQK9q5zw"
      },
      "execution_count": null,
      "outputs": []
    },
    {
      "cell_type": "code",
      "source": [
        "network = multi_vgg16.fit( train_iterator,steps_per_epoch = len(train_iterator),epochs= 3)"
      ],
      "metadata": {
        "colab": {
          "base_uri": "https://localhost:8080/"
        },
        "id": "dZWZxB0gpj0W",
        "outputId": "1dadd49a-dbac-4288-bdbf-90d9e32319ab"
      },
      "execution_count": null,
      "outputs": [
        {
          "output_type": "stream",
          "name": "stdout",
          "text": [
            "Epoch 1/3\n",
            "32/32 [==============================] - 6s 146ms/step - loss: 108.2543 - accuracy: 0.6732\n",
            "Epoch 2/3\n",
            "32/32 [==============================] - 5s 161ms/step - loss: 51.4791 - accuracy: 0.7757\n",
            "Epoch 3/3\n",
            "32/32 [==============================] - 5s 147ms/step - loss: 31.7835 - accuracy: 0.8155\n"
          ]
        }
      ]
    },
    {
      "cell_type": "code",
      "source": [
        "final_loss, final_acc = multi_vgg16.evaluate(test_iterator)\n",
        "print(\"Test accuracy  : \",final_acc)"
      ],
      "metadata": {
        "colab": {
          "base_uri": "https://localhost:8080/"
        },
        "id": "Ph0D9GSNqLb3",
        "outputId": "bd80de45-cfe2-41dd-9d4c-5e5151bce9a6"
      },
      "execution_count": null,
      "outputs": [
        {
          "output_type": "stream",
          "name": "stdout",
          "text": [
            "14/14 [==============================] - 2s 136ms/step - loss: 20.0118 - accuracy: 0.8515\n",
            "Test accuracy  :  0.851530909538269\n"
          ]
        }
      ]
    }
  ]
}