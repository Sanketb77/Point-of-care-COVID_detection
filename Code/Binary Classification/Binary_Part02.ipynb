{
  "nbformat": 4,
  "nbformat_minor": 0,
  "metadata": {
    "colab": {
      "name": "Binary_Part02.ipynb",
      "provenance": [],
      "collapsed_sections": [],
      "machine_shape": "hm"
    },
    "kernelspec": {
      "name": "python3",
      "display_name": "Python 3"
    },
    "language_info": {
      "name": "python"
    },
    "accelerator": "GPU",
    "gpuClass": "standard"
  },
  "cells": [
    {
      "cell_type": "markdown",
      "source": [
        "### Project Title : - Using Lung ultrasound images for building a reliable Point-of-care Covid-19 testing system"
      ],
      "metadata": {
        "id": "VsYs8nUkTSQ3"
      }
    },
    {
      "cell_type": "markdown",
      "source": [
        "#### Binary Classifier : For classifying lung ultrasound images into one of the two categories : Covid and Non Covid"
      ],
      "metadata": {
        "id": "lOeiffE4T3TP"
      }
    },
    {
      "cell_type": "code",
      "source": [
        "#Mounting the google drive as the data is available there\n",
        "\n",
        "from google.colab import drive\n",
        "drive.mount(\"/content/drive/\")"
      ],
      "metadata": {
        "id": "wsLdWPc7T8SY",
        "colab": {
          "base_uri": "https://localhost:8080/"
        },
        "outputId": "18209b8d-72f9-4a6e-86ff-5b71f61d3b3d"
      },
      "execution_count": null,
      "outputs": [
        {
          "output_type": "stream",
          "name": "stdout",
          "text": [
            "Mounted at /content/drive/\n"
          ]
        }
      ]
    },
    {
      "cell_type": "code",
      "source": [
        "#Changing the current working directory\n",
        "cd drive/MyDrive/"
      ],
      "metadata": {
        "colab": {
          "base_uri": "https://localhost:8080/"
        },
        "id": "lDL6XFwQCjwT",
        "outputId": "2069807d-1752-419d-fd1c-7b5b6467572a"
      },
      "execution_count": null,
      "outputs": [
        {
          "output_type": "stream",
          "name": "stdout",
          "text": [
            "/content/drive/MyDrive\n"
          ]
        }
      ]
    },
    {
      "cell_type": "markdown",
      "source": [
        "#### Loading and pre-processing for training data"
      ],
      "metadata": {
        "id": "w115B5x5wtWg"
      }
    },
    {
      "cell_type": "code",
      "source": [
        "#Importing the libraries\n",
        "import pathlib\n",
        "from pathlib import Path\n",
        "from tensorflow.keras.preprocessing.image import load_img, img_to_array, smart_resize\n",
        "import numpy as np\n",
        "\n",
        "p = Path().cwd()\n",
        "q = p/'binary_two'/'train' # use p to create a path to the data \n",
        "\n",
        "\n",
        "#There are two classes in the training data\n",
        "target_dict = {\"covid\" : 1 , \"non_covid\" : 0 }\n",
        "images = [] # create an empty list\n",
        "labels = [] # create an empty list  \n",
        "\n",
        "#This piece of code loads the images, resize them to 197X198 pixels and append them to a list\n",
        "\n",
        "#Label for every image is appended to the list as well\n",
        "\n",
        "for fldr in q.iterdir(): \n",
        "    current_label = fldr.name # get the name of the current label \n",
        "    print(current_label)  \n",
        "    for img in fldr.iterdir():\n",
        "        img = load_img(img,grayscale = True)\n",
        "        img_array = img_to_array(img) # convert the image to an NumPy array \n",
        "        size = (197,198)\n",
        "        img_array_resized = smart_resize(img_array,size)\n",
        "        images.append(img_array_resized)# add reshaped image to list of images \n",
        "        labels.append(current_label)# add label for this image to the list of labels \n",
        "        \n",
        "\n"
      ],
      "metadata": {
        "id": "KB2AQ1NXT9T_",
        "colab": {
          "base_uri": "https://localhost:8080/"
        },
        "outputId": "283a573d-70f2-4ab6-9017-b8ba66b38422"
      },
      "execution_count": null,
      "outputs": [
        {
          "output_type": "stream",
          "name": "stdout",
          "text": [
            "covid\n"
          ]
        },
        {
          "output_type": "stream",
          "name": "stderr",
          "text": [
            "/usr/local/lib/python3.7/dist-packages/keras_preprocessing/image/utils.py:107: UserWarning: grayscale is deprecated. Please use color_mode = \"grayscale\"\n",
            "  warnings.warn('grayscale is deprecated. Please use '\n"
          ]
        },
        {
          "output_type": "stream",
          "name": "stdout",
          "text": [
            "non_covid\n"
          ]
        }
      ]
    },
    {
      "cell_type": "code",
      "source": [
        "X_train = np.array(images) # convert the list of images to a NumPy array \n",
        "y_train = np.array(labels) # convert the list of labels to a NumPy array"
      ],
      "metadata": {
        "id": "N2V9bqZOUN_8"
      },
      "execution_count": null,
      "outputs": []
    },
    {
      "cell_type": "code",
      "source": [
        "# use the target_dict to convert the string labels to an array of integers\n",
        "\n",
        "y_train = np.asarray(list(map(lambda x: target_dict[x] if x in target_dict.keys() else x , y_train))) "
      ],
      "metadata": {
        "id": "xsrnhu5LmKsC"
      },
      "execution_count": null,
      "outputs": []
    },
    {
      "cell_type": "code",
      "source": [
        "#normalizing the images by making sure that the pixel values lie between 0 and 1\n",
        "\n",
        "X_train = X_train/255.0"
      ],
      "metadata": {
        "id": "ImxcS6aaDBcg"
      },
      "execution_count": null,
      "outputs": []
    },
    {
      "cell_type": "code",
      "source": [
        "#sklearn expects i/p to be 2d array-model.fit(x_train,y_train)=>reshape to 2d array\n",
        "\n",
        "nsamples, nx, ny, nrgb = X_train.shape\n",
        "X_train = X_train.reshape((nsamples,nx*ny*nrgb))"
      ],
      "metadata": {
        "id": "JcI4g0BjDIVP"
      },
      "execution_count": null,
      "outputs": []
    },
    {
      "cell_type": "markdown",
      "source": [
        "#### Loading and pre-processing of test data"
      ],
      "metadata": {
        "id": "BFwO_pEzwyOb"
      }
    },
    {
      "cell_type": "code",
      "source": [
        "#The same image loading and pre-processing steps have to be performed for the test dataset\n",
        "\n",
        "p = Path().cwd()\n",
        "q = p/'binary_two'/'test' # use p to create a path to the data \n",
        "\n",
        "target_dict = {\"covid\" : 1 , \"non_covid\" : 0 }\n",
        "images = [] # create an empty list\n",
        "labels = [] # create an empty list  \n",
        "\n",
        " \n",
        "for fldr in q.iterdir(): \n",
        "    current_label = fldr.name # get the name of the current label \n",
        "    print(current_label)  \n",
        "    for img in fldr.iterdir():\n",
        "        img = load_img(img,grayscale = True)\n",
        "        img_array = img_to_array(img) # convert the image to an NumPy array \n",
        "        size = (197,198)\n",
        "        img_array_resized = smart_resize(img_array,size)\n",
        "        images.append(img_array_resized)# add reshaped image to list of images \n",
        "        labels.append(current_label)# add label for this image to the list of labels \n",
        "        \n",
        "\n"
      ],
      "metadata": {
        "id": "-snqJoekUfP3",
        "colab": {
          "base_uri": "https://localhost:8080/"
        },
        "outputId": "4bf91599-d851-4e25-ddd5-33caeeb82dc7"
      },
      "execution_count": null,
      "outputs": [
        {
          "output_type": "stream",
          "name": "stdout",
          "text": [
            "non_covid\n"
          ]
        },
        {
          "output_type": "stream",
          "name": "stderr",
          "text": [
            "/usr/local/lib/python3.7/dist-packages/keras_preprocessing/image/utils.py:107: UserWarning: grayscale is deprecated. Please use color_mode = \"grayscale\"\n",
            "  warnings.warn('grayscale is deprecated. Please use '\n"
          ]
        },
        {
          "output_type": "stream",
          "name": "stdout",
          "text": [
            "covid\n"
          ]
        }
      ]
    },
    {
      "cell_type": "code",
      "source": [
        "X_test = np.array(images) # convert the list of images to a NumPy array \n",
        "y_test = np.array(labels) # convert the list of labels to a NumPy array"
      ],
      "metadata": {
        "id": "ZtNz7y7HU_HY"
      },
      "execution_count": null,
      "outputs": []
    },
    {
      "cell_type": "code",
      "source": [
        "# use the target_dict to convert the string labels to an array of integers\n",
        "\n",
        "y_test = np.asarray(list(map(lambda x: target_dict[x] if x in target_dict.keys() else x , y_test))) \n"
      ],
      "metadata": {
        "id": "jZHoU0UQmIny"
      },
      "execution_count": null,
      "outputs": []
    },
    {
      "cell_type": "code",
      "source": [
        "#Normalizing the images in the test set\n",
        "X_test = X_test/255.0"
      ],
      "metadata": {
        "id": "9iKUd56pDSPH"
      },
      "execution_count": null,
      "outputs": []
    },
    {
      "cell_type": "code",
      "source": [
        "#eventually,model.predict() should also be a 2d input\n",
        "\n",
        "nsamples, nx, ny, nrgb = X_test.shape\n",
        "X_test = X_test.reshape((nsamples,nx*ny*nrgb))"
      ],
      "metadata": {
        "id": "qGlz9DvpDW8I"
      },
      "execution_count": null,
      "outputs": []
    },
    {
      "cell_type": "markdown",
      "source": [
        "#### Near Miss undersampling"
      ],
      "metadata": {
        "id": "TtUGyYt7w4MM"
      }
    },
    {
      "cell_type": "code",
      "source": [
        "#ImbalancedLearn library provides the methods of undersampling and oversampling we'll be using\n",
        "\n",
        "!pip install imbalanced-learn"
      ],
      "metadata": {
        "id": "ZDnOHBWxVfkq",
        "colab": {
          "base_uri": "https://localhost:8080/"
        },
        "outputId": "114fcde4-a8a9-48be-eaba-2f8b822c9b1f"
      },
      "execution_count": null,
      "outputs": [
        {
          "output_type": "stream",
          "name": "stdout",
          "text": [
            "Looking in indexes: https://pypi.org/simple, https://us-python.pkg.dev/colab-wheels/public/simple/\n",
            "Requirement already satisfied: imbalanced-learn in /usr/local/lib/python3.7/dist-packages (0.8.1)\n",
            "Requirement already satisfied: scipy>=0.19.1 in /usr/local/lib/python3.7/dist-packages (from imbalanced-learn) (1.4.1)\n",
            "Requirement already satisfied: joblib>=0.11 in /usr/local/lib/python3.7/dist-packages (from imbalanced-learn) (1.1.0)\n",
            "Requirement already satisfied: scikit-learn>=0.24 in /usr/local/lib/python3.7/dist-packages (from imbalanced-learn) (1.0.2)\n",
            "Requirement already satisfied: numpy>=1.13.3 in /usr/local/lib/python3.7/dist-packages (from imbalanced-learn) (1.21.6)\n",
            "Requirement already satisfied: threadpoolctl>=2.0.0 in /usr/local/lib/python3.7/dist-packages (from scikit-learn>=0.24->imbalanced-learn) (3.1.0)\n"
          ]
        }
      ]
    },
    {
      "cell_type": "code",
      "source": [
        "#Implementing Near Miss undersampling technique from imbalanced learn library, which undersamples the majority class and reduces the no. of samples to as that of the minority class\n",
        "import imblearn\n",
        "from imblearn.under_sampling import NearMiss\n",
        "\n",
        "nm = NearMiss()\n",
        "\n",
        "\n",
        "#Resampling the training dataset\n",
        "X,y = nm.fit_resample(X_train, y_train)"
      ],
      "metadata": {
        "id": "S7FnJzA6ViHT"
      },
      "execution_count": null,
      "outputs": []
    },
    {
      "cell_type": "markdown",
      "source": [
        "#### Support Vector Machine model"
      ],
      "metadata": {
        "id": "TRot199gw7p3"
      }
    },
    {
      "cell_type": "code",
      "source": [
        "# define support vector classifier\n",
        "from sklearn.svm import SVC\n",
        "\n",
        "svm = SVC(kernel='linear', probability=True, random_state=42)\n",
        "\n",
        "# fit model\n",
        "svm.fit(X,y)\n"
      ],
      "metadata": {
        "colab": {
          "base_uri": "https://localhost:8080/"
        },
        "id": "w_k2Zgv845CQ",
        "outputId": "7b509fd0-869e-4875-b6c7-15c097ceb681"
      },
      "execution_count": null,
      "outputs": [
        {
          "output_type": "execute_result",
          "data": {
            "text/plain": [
              "SVC(kernel='linear', probability=True, random_state=42)"
            ]
          },
          "metadata": {},
          "execution_count": 15
        }
      ]
    },
    {
      "cell_type": "code",
      "source": [
        "# generate predictions\n",
        "y_pred = svm.predict(X_test)\n",
        "\n"
      ],
      "metadata": {
        "id": "VbmWBrrMsR94"
      },
      "execution_count": null,
      "outputs": []
    },
    {
      "cell_type": "markdown",
      "source": [
        "#### Testing the model's performance"
      ],
      "metadata": {
        "id": "U2LjDheLxCNE"
      }
    },
    {
      "cell_type": "code",
      "source": [
        "from sklearn.metrics import accuracy_score, precision_score,recall_score, f1_score\n",
        "\n",
        "# calculate accuracy\n",
        "accuracy = accuracy_score(y_test, y_pred)\n",
        "print('Model accuracy is: ', accuracy)"
      ],
      "metadata": {
        "colab": {
          "base_uri": "https://localhost:8080/"
        },
        "id": "fFgmLLAs48LR",
        "outputId": "1f095f8f-047c-4f58-b1e7-1f041d1a8ed3"
      },
      "execution_count": null,
      "outputs": [
        {
          "output_type": "stream",
          "name": "stdout",
          "text": [
            "Model accuracy is:  0.8653915553951642\n"
          ]
        }
      ]
    },
    {
      "cell_type": "code",
      "source": [
        "#Printing the classification report to get a picture of performance on both classes\n",
        "\n",
        "from sklearn.metrics import accuracy_score,confusion_matrix,classification_report\n",
        "\n",
        "print(classification_report(y_pred,y_test))"
      ],
      "metadata": {
        "colab": {
          "base_uri": "https://localhost:8080/"
        },
        "id": "ryODLkoY5Bti",
        "outputId": "e79441b0-9964-4712-cd65-4509d856737b"
      },
      "execution_count": null,
      "outputs": [
        {
          "output_type": "stream",
          "name": "stdout",
          "text": [
            "              precision    recall  f1-score   support\n",
            "\n",
            "           0       0.81      1.00      0.89      1588\n",
            "           1       1.00      0.68      0.81      1183\n",
            "\n",
            "    accuracy                           0.87      2771\n",
            "   macro avg       0.90      0.84      0.85      2771\n",
            "weighted avg       0.89      0.87      0.86      2771\n",
            "\n"
          ]
        }
      ]
    },
    {
      "cell_type": "code",
      "source": [
        "#Visualizing the confusion matrix\n",
        "\n",
        "import seaborn as sns\n",
        "import matplotlib.pyplot as plt\n",
        "import pandas as pd\n",
        "\n",
        "confusion_matrix(y_pred,y_test)\n",
        "\n",
        "cm = confusion_matrix(y_test, y_pred)\n",
        "df_cm = pd.DataFrame(cm, index = (0, 1), columns = (0, 1))\n",
        "plt.figure(figsize = (10, 7))\n",
        "sns.heatmap(df_cm, annot = True, fmt ='g')"
      ],
      "metadata": {
        "colab": {
          "base_uri": "https://localhost:8080/",
          "height": 446
        },
        "id": "OHf010xX5CSB",
        "outputId": "04bacd30-83cf-4c66-9438-a6839b06af80"
      },
      "execution_count": null,
      "outputs": [
        {
          "output_type": "execute_result",
          "data": {
            "text/plain": [
              "<matplotlib.axes._subplots.AxesSubplot at 0x7f61f591f9d0>"
            ]
          },
          "metadata": {},
          "execution_count": 19
        },
        {
          "output_type": "display_data",
          "data": {
            "text/plain": [
              "<Figure size 720x504 with 2 Axes>"
            ],
            "image/png": "[encoded data removed]"
          },
          "metadata": {
            "needs_background": "light"
          }
        }
      ]
    },
    {
      "cell_type": "markdown",
      "source": [
        "#### SMOTE - Synthetic Minority Oversampling Technique"
      ],
      "metadata": {
        "id": "8KhhhMi7A1tP"
      }
    },
    {
      "cell_type": "code",
      "source": [
        "#Oversampling is another technique for dealing with class imbalance. SMOTE from imbalanced learn library creates instances in the minority class, so that both of the classes have equal instances\n",
        "from imblearn.over_sampling import SMOTE\n",
        "\n",
        "#Creating an instance of SMOTE\n",
        "sm = SMOTE(random_state=42)\n",
        "\n",
        "#Resampling the training data uisng SMOTE\n",
        "X,y  = sm.fit_resample(X_train, y_train)"
      ],
      "metadata": {
        "id": "3D4GzXx4s49k"
      },
      "execution_count": null,
      "outputs": []
    },
    {
      "cell_type": "markdown",
      "source": [
        "#### Random Forest Classifier"
      ],
      "metadata": {
        "id": "1MpAP8-yD7YH"
      }
    },
    {
      "cell_type": "code",
      "source": [
        "from sklearn.ensemble import RandomForestClassifier\n",
        "\n",
        "#Now, we'll be using Random Forest Classifier for classifying the images after oversampling\n",
        "\n",
        "forest = RandomForestClassifier(n_estimators = 100, random_state = 234, n_jobs = -1 )\n",
        "\n",
        "#Model training\n",
        "forest.fit(X,y)"
      ],
      "metadata": {
        "colab": {
          "base_uri": "https://localhost:8080/"
        },
        "id": "sm_2yrAN9DHh",
        "outputId": "5dd8d5cb-1003-46e2-868e-c661ab9d6251"
      },
      "execution_count": null,
      "outputs": [
        {
          "output_type": "execute_result",
          "data": {
            "text/plain": [
              "RandomForestClassifier(n_jobs=-1, random_state=234)"
            ]
          },
          "metadata": {},
          "execution_count": 42
        }
      ]
    },
    {
      "cell_type": "code",
      "source": [
        "#Getting predictions on the test data\n",
        "\n",
        "y_pred= forest.predict(X_test)"
      ],
      "metadata": {
        "id": "UNok6_xy9I6o"
      },
      "execution_count": null,
      "outputs": []
    },
    {
      "cell_type": "markdown",
      "source": [
        "#### Testing model's performance on test data"
      ],
      "metadata": {
        "id": "roFp3SU4EPpM"
      }
    },
    {
      "cell_type": "code",
      "source": [
        "from sklearn.metrics import accuracy_score, precision_score,recall_score, f1_score\n",
        "\n",
        "# calculate accuracy\n",
        "accuracy = accuracy_score(y_test,y_pred)\n",
        "print('Model accuracy is: ', accuracy)\n"
      ],
      "metadata": {
        "colab": {
          "base_uri": "https://localhost:8080/"
        },
        "id": "9REtO0u09LDT",
        "outputId": "ddcb2ddd-888d-4f5d-efb3-ce22a51414b8"
      },
      "execution_count": null,
      "outputs": [
        {
          "output_type": "stream",
          "name": "stdout",
          "text": [
            "Model accuracy is:  0.8902923132443161\n"
          ]
        }
      ]
    },
    {
      "cell_type": "code",
      "source": [
        "#The classification report gives a view of model's performance for both the classes - Covid and Non Covid\n",
        "\n",
        "from sklearn.metrics import accuracy_score,confusion_matrix,classification_report\n",
        "\n",
        "print(classification_report(y_pred,y_test))"
      ],
      "metadata": {
        "colab": {
          "base_uri": "https://localhost:8080/"
        },
        "id": "DLy24jPy9Pge",
        "outputId": "672c95d2-a0fe-4301-ef7c-ecef52bba295"
      },
      "execution_count": null,
      "outputs": [
        {
          "output_type": "stream",
          "name": "stdout",
          "text": [
            "              precision    recall  f1-score   support\n",
            "\n",
            "           0       0.84      1.00      0.92      1657\n",
            "           1       1.00      0.73      0.84      1114\n",
            "\n",
            "    accuracy                           0.89      2771\n",
            "   macro avg       0.92      0.86      0.88      2771\n",
            "weighted avg       0.91      0.89      0.89      2771\n",
            "\n"
          ]
        }
      ]
    },
    {
      "cell_type": "code",
      "source": [
        "#Visualizing the confusion matrix\n",
        "\n",
        "import seaborn as sns\n",
        "import matplotlib.pyplot as plt\n",
        "import pandas as pd\n",
        "\n",
        "confusion_matrix(y_pred,y_test)\n",
        "\n",
        "cm = confusion_matrix(y_test, y_pred)\n",
        "df_cm = pd.DataFrame(cm, index = (0, 1), columns = (0, 1))\n",
        "plt.figure(figsize = (10, 7))\n",
        "sns.heatmap(df_cm, annot = True, fmt ='g')"
      ],
      "metadata": {
        "colab": {
          "base_uri": "https://localhost:8080/",
          "height": 446
        },
        "id": "YNdziuNd9zmh",
        "outputId": "6f3467f0-d2dc-4ca3-de33-62afd8210361"
      },
      "execution_count": null,
      "outputs": [
        {
          "output_type": "execute_result",
          "data": {
            "text/plain": [
              "<matplotlib.axes._subplots.AxesSubplot at 0x7f60f5565f10>"
            ]
          },
          "metadata": {},
          "execution_count": 35
        },
        {
          "output_type": "display_data",
          "data": {
            "text/plain": [
              "<Figure size 720x504 with 2 Axes>"
            ],
            "image/png": "[encoded data removed]"
          },
          "metadata": {
            "needs_background": "light"
          }
        }
      ]
    },
    {
      "cell_type": "markdown",
      "source": [
        "#### Logistic Regression Model"
      ],
      "metadata": {
        "id": "Meu7qiii6IUL"
      }
    },
    {
      "cell_type": "code",
      "source": [
        "#Logistic regression model is being fitted on the training data, for this one no technique has been used for dealing with class imbalance.\n",
        "\n",
        "from sklearn.linear_model import LogisticRegression\n",
        "\n",
        "lg = LogisticRegression(solver = 'lbfgs')\n",
        "\n",
        "lg.fit(X_train,y_train)"
      ],
      "metadata": {
        "colab": {
          "base_uri": "https://localhost:8080/"
        },
        "id": "zPDg4HDH6Lbo",
        "outputId": "38b3637f-7325-4ba1-b635-148c39d87842"
      },
      "execution_count": null,
      "outputs": [
        {
          "output_type": "stream",
          "name": "stderr",
          "text": [
            "/usr/local/lib/python3.7/dist-packages/sklearn/linear_model/_logistic.py:818: ConvergenceWarning: lbfgs failed to converge (status=1):\n",
            "STOP: TOTAL NO. of ITERATIONS REACHED LIMIT.\n",
            "\n",
            "Increase the number of iterations (max_iter) or scale the data as shown in:\n",
            "    https://scikit-learn.org/stable/modules/preprocessing.html\n",
            "Please also refer to the documentation for alternative solver options:\n",
            "    https://scikit-learn.org/stable/modules/linear_model.html#logistic-regression\n",
            "  extra_warning_msg=_LOGISTIC_SOLVER_CONVERGENCE_MSG,\n"
          ]
        },
        {
          "output_type": "execute_result",
          "data": {
            "text/plain": [
              "LogisticRegression()"
            ]
          },
          "metadata": {},
          "execution_count": 56
        }
      ]
    },
    {
      "cell_type": "code",
      "source": [
        "y_pred = lg.predict(X_test)\n"
      ],
      "metadata": {
        "id": "t72AZcOE7UvS"
      },
      "execution_count": null,
      "outputs": []
    },
    {
      "cell_type": "markdown",
      "source": [
        "#### Testing model's performance on test data"
      ],
      "metadata": {
        "id": "DQ_bM6EHEHJr"
      }
    },
    {
      "cell_type": "code",
      "source": [
        "from sklearn.metrics import accuracy_score, precision_score,recall_score, f1_score\n",
        "\n",
        "# calculate accuracy\n",
        "accuracy = accuracy_score(y_test,y_pred)\n",
        "print('Model accuracy is: ', accuracy)\n"
      ],
      "metadata": {
        "colab": {
          "base_uri": "https://localhost:8080/"
        },
        "id": "9bm1jVsM7Yh2",
        "outputId": "82702e0b-56bf-4a07-d548-263233ab40b6"
      },
      "execution_count": null,
      "outputs": [
        {
          "output_type": "stream",
          "name": "stdout",
          "text": [
            "Model accuracy is:  0.8437387224828582\n"
          ]
        }
      ]
    },
    {
      "cell_type": "code",
      "source": [
        "#Printing the classification report\n",
        "\n",
        "from sklearn.metrics import accuracy_score,confusion_matrix,classification_report\n",
        "\n",
        "print(classification_report(y_pred,y_test))"
      ],
      "metadata": {
        "colab": {
          "base_uri": "https://localhost:8080/"
        },
        "id": "qTWxIIre7eNB",
        "outputId": "ed0a87d0-f969-4a6a-c022-247fd3d64d19"
      },
      "execution_count": null,
      "outputs": [
        {
          "output_type": "stream",
          "name": "stdout",
          "text": [
            "              precision    recall  f1-score   support\n",
            "\n",
            "           0       0.78      1.00      0.88      1528\n",
            "           1       1.00      0.65      0.79      1243\n",
            "\n",
            "    accuracy                           0.84      2771\n",
            "   macro avg       0.89      0.83      0.83      2771\n",
            "weighted avg       0.88      0.84      0.84      2771\n",
            "\n"
          ]
        }
      ]
    }
  ]
}