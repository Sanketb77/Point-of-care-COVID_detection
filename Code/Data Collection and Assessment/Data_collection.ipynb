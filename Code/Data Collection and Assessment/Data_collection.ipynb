{
  "cells": [
    {
      "cell_type": "markdown",
      "metadata": {
        "id": "JiO-IYvUL4yu"
      },
      "source": [
        "###Downloading and importing the necessary libraries"
      ]
    },
    {
      "cell_type": "code",
      "execution_count": null,
      "metadata": {
        "colab": {
          "base_uri": "https://localhost:8080/"
        },
        "id": "dLMKeSErae4L",
        "outputId": "dbf5f690-a50a-4e34-c058-66a9dedc6d07"
      },
      "outputs": [
        {
          "output_type": "stream",
          "name": "stdout",
          "text": [
            "Mounted at /content/drive\n"
          ]
        }
      ],
      "source": [
        "from google.colab import drive\n",
        "drive.mount('/content/drive')"
      ]
    },
    {
      "cell_type": "code",
      "execution_count": null,
      "metadata": {
        "colab": {
          "base_uri": "https://localhost:8080/"
        },
        "id": "fX5b96IfajPb",
        "outputId": "f7f46e26-defe-4a9b-ffe8-32e89d55034c"
      },
      "outputs": [
        {
          "output_type": "stream",
          "name": "stdout",
          "text": [
            "/content/drive/MyDrive\n"
          ]
        }
      ],
      "source": [
        "cd drive/MyDrive/"
      ]
    },
    {
      "cell_type": "code",
      "execution_count": null,
      "metadata": {
        "colab": {
          "base_uri": "https://localhost:8080/"
        },
        "id": "bUhs3X-AMEwP",
        "outputId": "3ff3f729-d478-4d9d-ba41-ea81a3adf51a"
      },
      "outputs": [
        {
          "output_type": "stream",
          "name": "stdout",
          "text": [
            "Looking in indexes: https://pypi.org/simple, https://us-python.pkg.dev/colab-wheels/public/simple/\n",
            "Collecting selenium\n",
            "  Downloading selenium-4.2.0-py3-none-any.whl (983 kB)\n",
            "\u001b[K     |████████████████████████████████| 983 kB 4.8 MB/s \n",
            "\u001b[?25hCollecting trio-websocket~=0.9\n",
            "  Downloading trio_websocket-0.9.2-py3-none-any.whl (16 kB)\n",
            "Collecting trio~=0.17\n",
            "  Downloading trio-0.20.0-py3-none-any.whl (359 kB)\n",
            "\u001b[K     |████████████████████████████████| 359 kB 55.7 MB/s \n",
            "\u001b[?25hCollecting urllib3[secure,socks]~=1.26\n",
            "  Downloading urllib3-1.26.9-py2.py3-none-any.whl (138 kB)\n",
            "\u001b[K     |████████████████████████████████| 138 kB 63.5 MB/s \n",
            "\u001b[?25hRequirement already satisfied: idna in /usr/local/lib/python3.7/dist-packages (from trio~=0.17->selenium) (2.10)\n",
            "Collecting async-generator>=1.9\n",
            "  Downloading async_generator-1.10-py3-none-any.whl (18 kB)\n",
            "Requirement already satisfied: sortedcontainers in /usr/local/lib/python3.7/dist-packages (from trio~=0.17->selenium) (2.4.0)\n",
            "Requirement already satisfied: attrs>=19.2.0 in /usr/local/lib/python3.7/dist-packages (from trio~=0.17->selenium) (21.4.0)\n",
            "Collecting sniffio\n",
            "  Downloading sniffio-1.2.0-py3-none-any.whl (10 kB)\n",
            "Collecting outcome\n",
            "  Downloading outcome-1.1.0-py2.py3-none-any.whl (9.7 kB)\n",
            "Collecting wsproto>=0.14\n",
            "  Downloading wsproto-1.1.0-py3-none-any.whl (24 kB)\n",
            "Requirement already satisfied: PySocks!=1.5.7,<2.0,>=1.5.6 in /usr/local/lib/python3.7/dist-packages (from urllib3[secure,socks]~=1.26->selenium) (1.7.1)\n",
            "Collecting cryptography>=1.3.4\n",
            "  Downloading cryptography-37.0.2-cp36-abi3-manylinux_2_24_x86_64.whl (4.0 MB)\n",
            "\u001b[K     |████████████████████████████████| 4.0 MB 57.3 MB/s \n",
            "\u001b[?25hCollecting pyOpenSSL>=0.14\n",
            "  Downloading pyOpenSSL-22.0.0-py2.py3-none-any.whl (55 kB)\n",
            "\u001b[K     |████████████████████████████████| 55 kB 4.2 MB/s \n",
            "\u001b[?25hRequirement already satisfied: certifi in /usr/local/lib/python3.7/dist-packages (from urllib3[secure,socks]~=1.26->selenium) (2022.5.18.1)\n",
            "Requirement already satisfied: cffi>=1.12 in /usr/local/lib/python3.7/dist-packages (from cryptography>=1.3.4->urllib3[secure,socks]~=1.26->selenium) (1.15.0)\n",
            "Requirement already satisfied: pycparser in /usr/local/lib/python3.7/dist-packages (from cffi>=1.12->cryptography>=1.3.4->urllib3[secure,socks]~=1.26->selenium) (2.21)\n",
            "Collecting h11<1,>=0.9.0\n",
            "  Downloading h11-0.13.0-py3-none-any.whl (58 kB)\n",
            "\u001b[K     |████████████████████████████████| 58 kB 7.2 MB/s \n",
            "\u001b[?25hRequirement already satisfied: typing-extensions in /usr/local/lib/python3.7/dist-packages (from h11<1,>=0.9.0->wsproto>=0.14->trio-websocket~=0.9->selenium) (4.2.0)\n",
            "Installing collected packages: sniffio, outcome, h11, cryptography, async-generator, wsproto, urllib3, trio, pyOpenSSL, trio-websocket, selenium\n",
            "  Attempting uninstall: urllib3\n",
            "    Found existing installation: urllib3 1.24.3\n",
            "    Uninstalling urllib3-1.24.3:\n",
            "      Successfully uninstalled urllib3-1.24.3\n",
            "\u001b[31mERROR: pip's dependency resolver does not currently take into account all the packages that are installed. This behaviour is the source of the following dependency conflicts.\n",
            "requests 2.23.0 requires urllib3!=1.25.0,!=1.25.1,<1.26,>=1.21.1, but you have urllib3 1.26.9 which is incompatible.\n",
            "datascience 0.10.6 requires folium==0.2.1, but you have folium 0.8.3 which is incompatible.\u001b[0m\n",
            "Successfully installed async-generator-1.10 cryptography-37.0.2 h11-0.13.0 outcome-1.1.0 pyOpenSSL-22.0.0 selenium-4.2.0 sniffio-1.2.0 trio-0.20.0 trio-websocket-0.9.2 urllib3-1.26.9 wsproto-1.1.0\n"
          ]
        }
      ],
      "source": [
        "pip install selenium"
      ]
    },
    {
      "cell_type": "code",
      "execution_count": null,
      "metadata": {
        "colab": {
          "base_uri": "https://localhost:8080/"
        },
        "id": "aqILLozPMYRg",
        "outputId": "32b46ccb-e3fa-4ad9-806f-3013ce49cb50"
      },
      "outputs": [
        {
          "output_type": "stream",
          "name": "stdout",
          "text": [
            "Looking in indexes: https://pypi.org/simple, https://us-python.pkg.dev/colab-wheels/public/simple/\n",
            "Collecting vimeo_downloader\n",
            "  Downloading vimeo_downloader-0.4.1-py3-none-any.whl (6.6 kB)\n",
            "Collecting requests<3.0.0,>=2.26.0\n",
            "  Downloading requests-2.27.1-py2.py3-none-any.whl (63 kB)\n",
            "\u001b[K     |████████████████████████████████| 63 kB 1.3 MB/s \n",
            "\u001b[?25hRequirement already satisfied: tqdm<5.0.0,>=4.62.3 in /usr/local/lib/python3.7/dist-packages (from vimeo_downloader) (4.64.0)\n",
            "Requirement already satisfied: charset-normalizer~=2.0.0 in /usr/local/lib/python3.7/dist-packages (from requests<3.0.0,>=2.26.0->vimeo_downloader) (2.0.12)\n",
            "Requirement already satisfied: certifi>=2017.4.17 in /usr/local/lib/python3.7/dist-packages (from requests<3.0.0,>=2.26.0->vimeo_downloader) (2022.5.18.1)\n",
            "Requirement already satisfied: urllib3<1.27,>=1.21.1 in /usr/local/lib/python3.7/dist-packages (from requests<3.0.0,>=2.26.0->vimeo_downloader) (1.26.9)\n",
            "Requirement already satisfied: idna<4,>=2.5 in /usr/local/lib/python3.7/dist-packages (from requests<3.0.0,>=2.26.0->vimeo_downloader) (2.10)\n",
            "Installing collected packages: requests, vimeo-downloader\n",
            "  Attempting uninstall: requests\n",
            "    Found existing installation: requests 2.23.0\n",
            "    Uninstalling requests-2.23.0:\n",
            "      Successfully uninstalled requests-2.23.0\n",
            "\u001b[31mERROR: pip's dependency resolver does not currently take into account all the packages that are installed. This behaviour is the source of the following dependency conflicts.\n",
            "google-colab 1.0.0 requires requests~=2.23.0, but you have requests 2.27.1 which is incompatible.\n",
            "datascience 0.10.6 requires folium==0.2.1, but you have folium 0.8.3 which is incompatible.\u001b[0m\n",
            "Successfully installed requests-2.27.1 vimeo-downloader-0.4.1\n"
          ]
        }
      ],
      "source": [
        "pip install vimeo_downloader"
      ]
    },
    {
      "cell_type": "code",
      "execution_count": null,
      "metadata": {
        "id": "-PA0b9DDL9Q8"
      },
      "outputs": [],
      "source": [
        "import pandas as pd\n",
        "import numpy as np\n",
        "import os\n",
        "import re\n",
        "import shutil\n",
        "import random \n",
        "\n",
        "import cv2\n",
        "from PIL import Image\n",
        "\n",
        "import zipfile\n",
        "from selenium import webdriver\n",
        "from selenium.webdriver.chrome.options import Options\n",
        "import requests\n",
        "from vimeo_downloader import Vimeo\n",
        "import urllib.request\n",
        "\n",
        "from progressbar import ProgressBar\n",
        "\n",
        "import time\n",
        "import matplotlib.pyplot as plt\n",
        "\n",
        "import subprocess # to unzip butterfly file\n",
        "import glob"
      ]
    },
    {
      "cell_type": "markdown",
      "metadata": {
        "id": "OQwmE_IaSfX1"
      },
      "source": [
        "###extract_images function"
      ]
    },
    {
      "cell_type": "code",
      "execution_count": null,
      "metadata": {
        "id": "9Z_fVywQSex_"
      },
      "outputs": [],
      "source": [
        "import pandas as pd\n",
        "from progressbar import ProgressBar\n",
        "import cv2\n",
        "import os\n",
        "\n",
        "\n",
        "def extract_images(video_path, image_path, cropped=False, max_frames=None, target_class=['COVID', 'Pneumonia', 'Normal'], \n",
        "                   target_source=['Butterfly', 'GrepMed', 'LITFL', 'PocusAtlas','Radiopaedia','CoreUltrasound','Paper','UF',\n",
        "                                  'Clarius'],\n",
        "                   target_probe=['convex', 'linear']):\n",
        "    \"\"\"\n",
        "        Function to extract images from ultraasound video files.\n",
        "        \n",
        "        Parameters:\n",
        "            - video_path: Path to the video folder to read video files from it (source folder)\n",
        "            - image_path: Path to the image folder to store the extracted images in it (destination folder)\n",
        "            - cropped: if True, frames will be extracted from cropped video files. Otherwise, from original video files.\n",
        "            - max_frames: Maximum number of frames(images) to be extracted from a video file. Note: if a video file has fewer frames than the requested max_frames, all frames will be extracted\n",
        "            - target_class: The target classes that user would like to extract images for\n",
        "            - target_source: The target data sources to extract images\n",
        "            - target_probe: Filter to identify type of the probe to extract images for\n",
        "    \"\"\"\n",
        "    if cropped:\n",
        "        # read cropped videos metadata file\n",
        "        vid_prop_df = pd.read_csv('https://raw.githubusercontent.com/nrc-cnrc/COVID-US/main/utils/video_cropping_metadata.csv', sep=',', encoding='latin1')\n",
        "    else:\n",
        "        # read videos metadata file\n",
        "        metadata = pd.read_csv('https://raw.githubusercontent.com/nrc-cnrc/COVID-US/main/utils/video_metadata.csv', sep=',', encoding='latin1')\n",
        "        metadata = metadata[metadata.id !='22_butterfly_covid'] # 22_butterfly_covid.mp4 was removed in March release of butterfly\n",
        "\n",
        "\n",
        "        # read videos' properties file\n",
        "        vid_prop_df = pd.read_csv('https://raw.githubusercontent.com/nrc-cnrc/COVID-US/main/utils/video_files_properties.csv')\n",
        "        vid_prop_df = vid_prop_df[vid_prop_df.filename !='22_butterfly_covid.mp4'] # 22_butterfly_covid.mp4 was removed in March release of butterfly\n",
        "\n",
        "        # merge with the video meta data file \n",
        "        vid_prop_df.filename = vid_prop_df.filename.astype(str)\n",
        "        vid_prop_df.filename = vid_prop_df.filename.str.strip()\n",
        "\n",
        "        metadata['filename2'] = metadata.id + '.' + metadata.filetype\n",
        "        metadata.filename2 = metadata.filename2.astype(str)\n",
        "        metadata.filename2 = metadata.filename2.str.strip()\n",
        "\n",
        "        vid_prop_df = pd.merge(vid_prop_df, metadata[['filename2', 'source', 'probe', 'class']], left_on='filename', right_on='filename2', how='left').drop('filename2', axis=1)\n",
        "        del metadata['filename2']\n",
        "\n",
        "    # extract images based on the given parameters    \n",
        "    progress = ProgressBar(max_value=vid_prop_df.shape[0])\n",
        "    for idx, row in progress(vid_prop_df.iterrows()): # reselase the slicing condition on the dataframe after test is done\n",
        "        if cropped:\n",
        "            filename = row.filename.split('.')[0] + '_prc.avi'\n",
        "            file_id = filename.split('.')[0]\n",
        "            frame_count = row.org_framecount\n",
        "        else:\n",
        "            filename = row.filename\n",
        "            file_id = row.filename.split('.')[0]\n",
        "            #frame_rate = row.framerate\n",
        "            frame_count = row.frame_count\n",
        "        \n",
        "        vid_probe = row.probe.lower()\n",
        "\n",
        "        # read the video file and extracting frames\n",
        "        cv2video = cv2.VideoCapture(video_path + str(filename))\n",
        "\n",
        "        if max_frames:\n",
        "            img_pos = int(frame_count / max_frames)\n",
        "            n_frames = 1\n",
        "        \n",
        "        while cv2video.isOpened(): \n",
        "            frame_id = cv2video.get(1)  #current frame number\n",
        "            ret, frame = cv2video.read()\n",
        "            if (ret != True):\n",
        "                break\n",
        "            \n",
        "            # storing frames\n",
        "            if (max_frames) and (img_pos): # and (frame_count > max_frames):\n",
        "                if (frame_id % img_pos == 0) and (n_frames <= max_frames):\n",
        "                    img_filename = os.path.join(image_path, file_id + \"_\" + vid_probe + \"_frame%d.jpg\" % frame_id)\n",
        "                    n_frames += 1\n",
        "            else:\n",
        "                img_filename = os.path.join(image_path, file_id + \"_\" + vid_probe + \"_frame%d.jpg\" % frame_id)\n",
        "\n",
        "            cv2.imwrite(img_filename, frame)\n",
        "        cv2video.release()    \n"
      ]
    },
    {
      "cell_type": "code",
      "execution_count": null,
      "metadata": {
        "colab": {
          "base_uri": "https://localhost:8080/"
        },
        "id": "h4ddMqzLSnGZ",
        "outputId": "291149d0-ca2a-4d71-f956-c4238fc88c99"
      },
      "outputs": [
        {
          "output_type": "stream",
          "name": "stdout",
          "text": [
            "Pandas 1.3.5\n",
            "selenium 4.2.0\n",
            "requests 2.27.1\n"
          ]
        }
      ],
      "source": [
        "print(\"Pandas\", pd.__version__)\n",
        "import selenium\n",
        "print(\"selenium\", selenium.__version__)\n",
        "print(\"requests\", requests.__version__)"
      ]
    },
    {
      "cell_type": "markdown",
      "metadata": {
        "id": "7myKn6L5SxcR"
      },
      "source": [
        "###Functions"
      ]
    },
    {
      "cell_type": "code",
      "execution_count": null,
      "metadata": {
        "id": "cILRsM9lSwAk"
      },
      "outputs": [],
      "source": [
        "def get_download_path():\n",
        "    \"\"\"Returns the default downloads path for linux or windows\"\"\"\n",
        "    if os.name == 'nt':\n",
        "        import winreg\n",
        "        sub_key = r'SOFTWARE\\Microsoft\\Windows\\CurrentVersion\\Explorer\\Shell Folders'\n",
        "        downloads_guid = '{374DE290-123F-4565-9164-39C4925E467B}'\n",
        "        with winreg.OpenKey(winreg.HKEY_CURRENT_USER, sub_key) as key:\n",
        "            location = winreg.QueryValueEx(key, downloads_guid)[0]\n",
        "        return location\n",
        "    else:\n",
        "        return os.path.join(os.path.expanduser('~'), 'downloads')\n",
        "    \n",
        "def remove_html_tags(text):\n",
        "    \"\"\"Function to remove html tags from a string\"\"\"\n",
        "    import re\n",
        "    clean = re.compile('<.*?>')\n",
        "    return re.sub(clean, '', text)"
      ]
    },
    {
      "cell_type": "code",
      "execution_count": null,
      "metadata": {
        "id": "TP8TKeZ5SwBE"
      },
      "outputs": [],
      "source": [
        "# code to download zip files from Google drive, in case required\n",
        "def download_file_from_google_drive(id, destination):\n",
        "    URL = \"https://docs.google.com/uc?export=download\"\n",
        "\n",
        "    session = requests.Session()\n",
        "\n",
        "    response = session.get(URL, params = { 'id' : id }, stream = True)\n",
        "    token = get_confirm_token(response)\n",
        "\n",
        "    if token:\n",
        "        params = { 'id' : id, 'confirm' : token }\n",
        "        response = session.get(URL, params = params, stream = True)\n",
        "\n",
        "    save_response_content(response, destination)    \n",
        "\n",
        "def get_confirm_token(response):\n",
        "    for key, value in response.cookies.items():\n",
        "        if key.startswith('download_warning'):\n",
        "            return value\n",
        "\n",
        "    return None\n",
        "\n",
        "def save_response_content(response, destination):\n",
        "    CHUNK_SIZE = 32768\n",
        "    progress = ProgressBar() \n",
        "    \n",
        "    with open(destination, \"wb\") as f:\n",
        "        for chunk in progress(response.iter_content(CHUNK_SIZE)):\n",
        "            if chunk: # filter out keep-alive new chunks\n",
        "                f.write(chunk)"
      ]
    },
    {
      "cell_type": "markdown",
      "metadata": {
        "id": "QrkVYvkeTCaW"
      },
      "source": [
        "###Parameters"
      ]
    },
    {
      "cell_type": "code",
      "execution_count": null,
      "metadata": {
        "id": "zO2WJTU6SwCq"
      },
      "outputs": [],
      "source": [
        "# set save path directory\n",
        "SAVE_PATH = 'data'\n",
        "\n",
        "# create data, video, and image folders, if they do not exist\n",
        "if not os.path.exists('data'):\n",
        "    os.makedirs('data')\n",
        "if not os.path.exists('data/video'):\n",
        "    os.makedirs('data/video')\n",
        "if not os.path.exists('data/image'):\n",
        "    os.makedirs('data/image')\n",
        "    \n",
        "# setting chrome driver\n",
        "chromedriver = \"/content/drive/MyDrive/chromedriver\" \n",
        "os.environ[\"webdriver.chrome.driver\"] = chromedriver\n",
        "chrome_options = Options()\n",
        "chrome_options.add_argument(\"--headless\")\n",
        "\n",
        "# setting global vars\n",
        "VIDEO_PATH = 'data/video/'\n",
        "IMAGE_PATH = 'data/image/'"
      ]
    },
    {
      "cell_type": "markdown",
      "metadata": {
        "id": "j3yRY4_eTtWp"
      },
      "source": [
        "###Read the metadata file"
      ]
    },
    {
      "cell_type": "code",
      "execution_count": null,
      "metadata": {
        "colab": {
          "base_uri": "https://localhost:8080/",
          "height": 293
        },
        "id": "2PqY6A4BWVmI",
        "outputId": "28ef93ca-66c1-4d22-fc7e-4fe6eda36527"
      },
      "outputs": [
        {
          "output_type": "stream",
          "name": "stdout",
          "text": [
            "(244, 21)\n"
          ]
        },
        {
          "output_type": "execute_result",
          "data": {
            "text/plain": [
              "                  id                filename filetype  \\\n",
              "0  1_butterfly_covid  Coalescing B lines.mp4      mp4   \n",
              "1  2_butterfly_covid   Confluent B lines.mp4      mp4   \n",
              "\n",
              "                       folder     source  \\\n",
              "0  data\\tmp\\Butterfly\\B lines  Butterfly   \n",
              "1  data\\tmp\\Butterfly\\B lines  Butterfly   \n",
              "\n",
              "                                                 url   probe  class  \\\n",
              "0  https://butterflynetwork.getbynder.com/transfe...  Convex  COVID   \n",
              "1  https://butterflynetwork.getbynder.com/transfe...  Convex  COVID   \n",
              "\n",
              "  class_on_website  version  ...  type patient case_no  gender age  comment  \\\n",
              "0              NaN      1.0  ...  lung     NaN     NaN     NaN NaN      NaN   \n",
              "1              NaN      1.0  ...  lung     NaN     NaN     NaN NaN      NaN   \n",
              "\n",
              "  paper_link paper_doi license link  \n",
              "0        NaN       NaN     NaN  NaN  \n",
              "1        NaN       NaN     NaN  NaN  \n",
              "\n",
              "[2 rows x 21 columns]"
            ],
            "text/html": [
              "\n",
              "  <div id=\"df-3473f2e9-e08e-4d03-ac5e-a82fa2b12af8\">\n",
              "    <div class=\"colab-df-container\">\n",
              "      <div>\n",
              "<style scoped>\n",
              "    .dataframe tbody tr th:only-of-type {\n",
              "        vertical-align: middle;\n",
              "    }\n",
              "\n",
              "    .dataframe tbody tr th {\n",
              "        vertical-align: top;\n",
              "    }\n",
              "\n",
              "    .dataframe thead th {\n",
              "        text-align: right;\n",
              "    }\n",
              "</style>\n",
              "<table border=\"1\" class=\"dataframe\">\n",
              "  <thead>\n",
              "    <tr style=\"text-align: right;\">\n",
              "      <th></th>\n",
              "      <th>id</th>\n",
              "      <th>filename</th>\n",
              "      <th>filetype</th>\n",
              "      <th>folder</th>\n",
              "      <th>source</th>\n",
              "      <th>url</th>\n",
              "      <th>probe</th>\n",
              "      <th>class</th>\n",
              "      <th>class_on_website</th>\n",
              "      <th>version</th>\n",
              "      <th>...</th>\n",
              "      <th>type</th>\n",
              "      <th>patient</th>\n",
              "      <th>case_no</th>\n",
              "      <th>gender</th>\n",
              "      <th>age</th>\n",
              "      <th>comment</th>\n",
              "      <th>paper_link</th>\n",
              "      <th>paper_doi</th>\n",
              "      <th>license</th>\n",
              "      <th>link</th>\n",
              "    </tr>\n",
              "  </thead>\n",
              "  <tbody>\n",
              "    <tr>\n",
              "      <th>0</th>\n",
              "      <td>1_butterfly_covid</td>\n",
              "      <td>Coalescing B lines.mp4</td>\n",
              "      <td>mp4</td>\n",
              "      <td>data\\tmp\\Butterfly\\B lines</td>\n",
              "      <td>Butterfly</td>\n",
              "      <td>https://butterflynetwork.getbynder.com/transfe...</td>\n",
              "      <td>Convex</td>\n",
              "      <td>COVID</td>\n",
              "      <td>NaN</td>\n",
              "      <td>1.0</td>\n",
              "      <td>...</td>\n",
              "      <td>lung</td>\n",
              "      <td>NaN</td>\n",
              "      <td>NaN</td>\n",
              "      <td>NaN</td>\n",
              "      <td>NaN</td>\n",
              "      <td>NaN</td>\n",
              "      <td>NaN</td>\n",
              "      <td>NaN</td>\n",
              "      <td>NaN</td>\n",
              "      <td>NaN</td>\n",
              "    </tr>\n",
              "    <tr>\n",
              "      <th>1</th>\n",
              "      <td>2_butterfly_covid</td>\n",
              "      <td>Confluent B lines.mp4</td>\n",
              "      <td>mp4</td>\n",
              "      <td>data\\tmp\\Butterfly\\B lines</td>\n",
              "      <td>Butterfly</td>\n",
              "      <td>https://butterflynetwork.getbynder.com/transfe...</td>\n",
              "      <td>Convex</td>\n",
              "      <td>COVID</td>\n",
              "      <td>NaN</td>\n",
              "      <td>1.0</td>\n",
              "      <td>...</td>\n",
              "      <td>lung</td>\n",
              "      <td>NaN</td>\n",
              "      <td>NaN</td>\n",
              "      <td>NaN</td>\n",
              "      <td>NaN</td>\n",
              "      <td>NaN</td>\n",
              "      <td>NaN</td>\n",
              "      <td>NaN</td>\n",
              "      <td>NaN</td>\n",
              "      <td>NaN</td>\n",
              "    </tr>\n",
              "  </tbody>\n",
              "</table>\n",
              "<p>2 rows × 21 columns</p>\n",
              "</div>\n",
              "      <button class=\"colab-df-convert\" onclick=\"convertToInteractive('df-3473f2e9-e08e-4d03-ac5e-a82fa2b12af8')\"\n",
              "              title=\"Convert this dataframe to an interactive table.\"\n",
              "              style=\"display:none;\">\n",
              "        \n",
              "  <svg xmlns=\"http://www.w3.org/2000/svg\" height=\"24px\"viewBox=\"0 0 24 24\"\n",
              "       width=\"24px\">\n",
              "    <path d=\"M0 0h24v24H0V0z\" fill=\"none\"/>\n",
              "    <path d=\"M18.56 5.44l.94 2.06.94-2.06 2.06-.94-2.06-.94-.94-2.06-.94 2.06-2.06.94zm-11 1L8.5 8.5l.94-2.06 2.06-.94-2.06-.94L8.5 2.5l-.94 2.06-2.06.94zm10 10l.94 2.06.94-2.06 2.06-.94-2.06-.94-.94-2.06-.94 2.06-2.06.94z\"/><path d=\"M17.41 7.96l-1.37-1.37c-.4-.4-.92-.59-1.43-.59-.52 0-1.04.2-1.43.59L10.3 9.45l-7.72 7.72c-.78.78-.78 2.05 0 2.83L4 21.41c.39.39.9.59 1.41.59.51 0 1.02-.2 1.41-.59l7.78-7.78 2.81-2.81c.8-.78.8-2.07 0-2.86zM5.41 20L4 18.59l7.72-7.72 1.47 1.35L5.41 20z\"/>\n",
              "  </svg>\n",
              "      </button>\n",
              "      \n",
              "  <style>\n",
              "    .colab-df-container {\n",
              "      display:flex;\n",
              "      flex-wrap:wrap;\n",
              "      gap: 12px;\n",
              "    }\n",
              "\n",
              "    .colab-df-convert {\n",
              "      background-color: #E8F0FE;\n",
              "      border: none;\n",
              "      border-radius: 50%;\n",
              "      cursor: pointer;\n",
              "      display: none;\n",
              "      fill: #1967D2;\n",
              "      height: 32px;\n",
              "      padding: 0 0 0 0;\n",
              "      width: 32px;\n",
              "    }\n",
              "\n",
              "    .colab-df-convert:hover {\n",
              "      background-color: #E2EBFA;\n",
              "      box-shadow: 0px 1px 2px rgba(60, 64, 67, 0.3), 0px 1px 3px 1px rgba(60, 64, 67, 0.15);\n",
              "      fill: #174EA6;\n",
              "    }\n",
              "\n",
              "    [theme=dark] .colab-df-convert {\n",
              "      background-color: #3B4455;\n",
              "      fill: #D2E3FC;\n",
              "    }\n",
              "\n",
              "    [theme=dark] .colab-df-convert:hover {\n",
              "      background-color: #434B5C;\n",
              "      box-shadow: 0px 1px 3px 1px rgba(0, 0, 0, 0.15);\n",
              "      filter: drop-shadow(0px 1px 2px rgba(0, 0, 0, 0.3));\n",
              "      fill: #FFFFFF;\n",
              "    }\n",
              "  </style>\n",
              "\n",
              "      <script>\n",
              "        const buttonEl =\n",
              "          document.querySelector('#df-3473f2e9-e08e-4d03-ac5e-a82fa2b12af8 button.colab-df-convert');\n",
              "        buttonEl.style.display =\n",
              "          google.colab.kernel.accessAllowed ? 'block' : 'none';\n",
              "\n",
              "        async function convertToInteractive(key) {\n",
              "          const element = document.querySelector('#df-3473f2e9-e08e-4d03-ac5e-a82fa2b12af8');\n",
              "          const dataTable =\n",
              "            await google.colab.kernel.invokeFunction('convertToInteractive',\n",
              "                                                     [key], {});\n",
              "          if (!dataTable) return;\n",
              "\n",
              "          const docLinkHtml = 'Like what you see? Visit the ' +\n",
              "            '<a target=\"_blank\" href=https://colab.research.google.com/notebooks/data_table.ipynb>data table notebook</a>'\n",
              "            + ' to learn more about interactive tables.';\n",
              "          element.innerHTML = '';\n",
              "          dataTable['output_type'] = 'display_data';\n",
              "          await google.colab.output.renderOutput(dataTable, element);\n",
              "          const docLink = document.createElement('div');\n",
              "          docLink.innerHTML = docLinkHtml;\n",
              "          element.appendChild(docLink);\n",
              "        }\n",
              "      </script>\n",
              "    </div>\n",
              "  </div>\n",
              "  "
            ]
          },
          "metadata": {},
          "execution_count": 11
        }
      ],
      "source": [
        "import pandas as pd\n",
        "import requests\n",
        "import io\n",
        "    \n",
        "# Downloading the csv file from your GitHub account\n",
        "url = \"https://raw.githubusercontent.com/nrc-cnrc/COVID-US/main/utils/video_metadata.csv\" \n",
        "download = requests.get(url).content\n",
        "metadata = pd.read_csv(io.StringIO(download.decode('latin1')))\n",
        "print(metadata.shape)\n",
        "metadata.head(2)"
      ]
    },
    {
      "cell_type": "markdown",
      "metadata": {
        "id": "s4jqfJr1XJHn"
      },
      "source": [
        "###1. Get Ultrasound Videos"
      ]
    },
    {
      "cell_type": "markdown",
      "metadata": {
        "id": "oLzHqK9Jh49q"
      },
      "source": [
        "###1.1 GrepMed"
      ]
    },
    {
      "cell_type": "code",
      "execution_count": null,
      "metadata": {
        "colab": {
          "base_uri": "https://localhost:8080/"
        },
        "id": "56dcR4IgdlgZ",
        "outputId": "f9d6d9e0-e3b3-417b-a545-79a7bf629c9a"
      },
      "outputs": [
        {
          "output_type": "stream",
          "name": "stderr",
          "text": [
            "\r                                                                               \r\rN/A% (0 of 20) |                         | Elapsed Time: 0:00:00 ETA:  --:--:--"
          ]
        },
        {
          "output_type": "stream",
          "name": "stdout",
          "text": [
            "...Extracting the video files...\n"
          ]
        },
        {
          "output_type": "stream",
          "name": "stderr",
          "text": [
            "100% (20 of 20) |########################| Elapsed Time: 0:00:04 Time:  0:00:04\n"
          ]
        },
        {
          "output_type": "stream",
          "name": "stdout",
          "text": [
            "=== GrepMed video files extraction done! ===\n"
          ]
        }
      ],
      "source": [
        "print('...Extracting the video files...')\n",
        "grepmed_df = metadata[metadata.source == 'GrepMed']\n",
        "\n",
        "progress = ProgressBar(max_value=grepmed_df.shape[0]) \n",
        "for idx, row in progress(grepmed_df.iterrows()):\n",
        "    filename = row.id + '.' + row.filetype\n",
        "    # write the video file to disk\n",
        "    vid = requests.get(row.url).content\n",
        "    with open(os.path.join('data/video/', filename), 'wb') as handler:\n",
        "        handler.write(vid)\n",
        "print('=== GrepMed video files extraction done! ===')   "
      ]
    },
    {
      "cell_type": "markdown",
      "metadata": {
        "id": "H--ZyBb5drOA"
      },
      "source": [
        "###1.2 LITFL"
      ]
    },
    {
      "cell_type": "code",
      "execution_count": null,
      "metadata": {
        "colab": {
          "base_uri": "https://localhost:8080/"
        },
        "id": "yD3EWm4ddv_3",
        "outputId": "2799547a-bf4c-4d63-f334-4521db9ee404"
      },
      "outputs": [
        {
          "output_type": "stream",
          "name": "stderr",
          "text": [
            "  1% (1 of 63) |                         | Elapsed Time: 0:00:00 ETA:   0:00:10"
          ]
        },
        {
          "output_type": "stream",
          "name": "stdout",
          "text": [
            "...Extracting the video files...\n"
          ]
        },
        {
          "output_type": "stream",
          "name": "stderr",
          "text": [
            "100% (63 of 63) |########################| Elapsed Time: 0:00:07 Time:  0:00:07\n"
          ]
        },
        {
          "output_type": "stream",
          "name": "stdout",
          "text": [
            "=== LITFL video files extraction done! ===\n"
          ]
        }
      ],
      "source": [
        "print('...Extracting the video files...')\n",
        "litfl_df = metadata[metadata.source == 'Litfl']\n",
        "\n",
        "progress = ProgressBar(max_value=litfl_df.shape[0]) \n",
        "for idx, row in progress(litfl_df.iterrows()):\n",
        "    filename = row.id + '.' + row.filetype\n",
        "    # write the video file to disk\n",
        "    vid = requests.get(row.url).content\n",
        "    with open(os.path.join('data/video/', filename), 'wb') as handler:\n",
        "        handler.write(vid)\n",
        "print('=== LITFL video files extraction done! ===')      "
      ]
    },
    {
      "cell_type": "markdown",
      "metadata": {
        "id": "el2v5F4ud2xm"
      },
      "source": [
        "###1.3. The POCUS Atlas"
      ]
    },
    {
      "cell_type": "code",
      "execution_count": null,
      "metadata": {
        "colab": {
          "base_uri": "https://localhost:8080/"
        },
        "id": "5bEyLtGFd9kg",
        "outputId": "0814b213-1b45-45e7-bfb3-dabfab1b7e5a"
      },
      "outputs": [
        {
          "output_type": "stream",
          "name": "stderr",
          "text": [
            "\r                                                                               \r\rN/A% (0 of 32) |                         | Elapsed Time: 0:00:00 ETA:  --:--:--"
          ]
        },
        {
          "output_type": "stream",
          "name": "stdout",
          "text": [
            "...Extracting the video files...\n"
          ]
        },
        {
          "output_type": "stream",
          "name": "stderr",
          "text": [
            "100% (32 of 32) |########################| Elapsed Time: 0:00:13 Time:  0:00:13\n"
          ]
        },
        {
          "output_type": "stream",
          "name": "stdout",
          "text": [
            "=== THEPocusAtlas video files extraction done! ===\n"
          ]
        }
      ],
      "source": [
        "print('...Extracting the video files...')\n",
        "pocus_df = metadata[metadata.source == 'PocusAtlas']\n",
        "\n",
        "progress = ProgressBar(max_value=pocus_df.shape[0]) \n",
        "for idx, row in progress(pocus_df.iterrows()):\n",
        "    filename = row.id + '.' + row.filetype\n",
        "    # write the video file to disk\n",
        "    vid = requests.get(row.url).content\n",
        "    with open(os.path.join('data/video/', filename), 'wb') as handler:\n",
        "        handler.write(vid)\n",
        "print('=== THEPocusAtlas video files extraction done! ===')      "
      ]
    },
    {
      "cell_type": "markdown",
      "metadata": {
        "id": "8Y02CIbSeA05"
      },
      "source": [
        "###1.4. Radiopaedia"
      ]
    },
    {
      "cell_type": "code",
      "execution_count": null,
      "metadata": {
        "colab": {
          "base_uri": "https://localhost:8080/"
        },
        "id": "ZXy8zQTBeD4J",
        "outputId": "dbd0f3f0-9e3f-42a6-e2f1-d429ff06e7de"
      },
      "outputs": [
        {
          "output_type": "stream",
          "name": "stderr",
          "text": [
            " 20% (1 of 5) |#####                     | Elapsed Time: 0:00:00 ETA:   0:00:00"
          ]
        },
        {
          "output_type": "stream",
          "name": "stdout",
          "text": [
            "...Extracting the video files...\n"
          ]
        },
        {
          "output_type": "stream",
          "name": "stderr",
          "text": [
            "100% (5 of 5) |##########################| Elapsed Time: 0:00:00 Time:  0:00:00\n"
          ]
        },
        {
          "output_type": "stream",
          "name": "stdout",
          "text": [
            "=== Radiopaedia video files extraction done! ===\n"
          ]
        }
      ],
      "source": [
        "print('...Extracting the video files...')\n",
        "radio_df = metadata[metadata.source == 'Radiopaedia']\n",
        "\n",
        "progress = ProgressBar(max_value=radio_df.shape[0]) \n",
        "for idx, row in progress(radio_df.iterrows()):\n",
        "    filename = row.id + '.' + row.filetype\n",
        "    # write the video file to disk\n",
        "    vid = requests.get(row.url).content\n",
        "    with open(os.path.join('data/video/', filename), 'wb') as handler:\n",
        "        handler.write(vid)\n",
        "print('=== Radiopaedia video files extraction done! ===')        "
      ]
    },
    {
      "cell_type": "markdown",
      "metadata": {
        "id": "jZv2CQ7NeL-x"
      },
      "source": [
        "###1.5. CoreUltrasound"
      ]
    },
    {
      "cell_type": "code",
      "execution_count": null,
      "metadata": {
        "colab": {
          "base_uri": "https://localhost:8080/"
        },
        "id": "xochpr6xFObL",
        "outputId": "6614aef5-97b5-4fe2-e47c-45616e848297"
      },
      "outputs": [
        {
          "output_type": "stream",
          "name": "stderr",
          "text": [
            "\r                                                                               \r\rN/A% (0 of 18) |                         | Elapsed Time: 0:00:00 ETA:  --:--:--"
          ]
        },
        {
          "output_type": "stream",
          "name": "stdout",
          "text": [
            "...Extracting the video files...\n"
          ]
        },
        {
          "output_type": "stream",
          "name": "stderr",
          "text": [
            "157_core_other.mp4: 1294KB [00:00, 8838.07KB/s]                         \n",
            "158_core_pneumonia.mp4: 3892KB [00:00, 9182.49KB/s]                          \n",
            "159_core_other.mp4: 3847KB [00:00, 9010.32KB/s]                          \n",
            "160_core_other.mp4: 3847KB [00:00, 9338.95KB/s]                          \n",
            "161_core_other.mp4: 4805KB [00:00, 9660.19KB/s]                          \n",
            "162_core_other.mp4: 4805KB [00:00, 8761.49KB/s]                          \n",
            "174_core_covid.mp4: 1633KB [00:00, 9645.65KB/s]                         \n",
            "100% (18 of 18) |########################| Elapsed Time: 0:00:15 Time:  0:00:15\n"
          ]
        },
        {
          "output_type": "stream",
          "name": "stdout",
          "text": [
            "=== CoreUltrasound video files extraction done! ===\n"
          ]
        }
      ],
      "source": [
        "print('...Extracting the video files...')\n",
        "core_df = metadata[metadata.source == 'CoreUltrasound']\n",
        "\n",
        "progress = ProgressBar(max_value=core_df.shape[0]) \n",
        "for idx, row in progress(core_df.iterrows()):\n",
        "    filename = row.id + '.' + row.filetype\n",
        "    \n",
        "    # extract videos from Vimeo\n",
        "    if 'vimeo' in row.url:\n",
        "        v = Vimeo(row.url)\n",
        "        stream = v.streams # List of available streams of different quality\n",
        "        highest_quality_available = stream[-1]\n",
        "        highest_quality_available.download(download_directory = 'data/video/', filename = filename.split('.')[0])\n",
        "    # extract mp4 videos\n",
        "    else:\n",
        "        # write the video file to disk\n",
        "        vid = requests.get(row.url).content\n",
        "        with open(os.path.join('data/video/', filename), 'wb') as handler:\n",
        "            handler.write(vid)\n",
        "print('=== CoreUltrasound video files extraction done! ===')   "
      ]
    },
    {
      "cell_type": "markdown",
      "metadata": {
        "id": "GeaSUvzZeU2x"
      },
      "source": [
        "###1.6. UF"
      ]
    },
    {
      "cell_type": "code",
      "execution_count": null,
      "metadata": {
        "colab": {
          "base_uri": "https://localhost:8080/"
        },
        "id": "FWfDIWXNeY3Y",
        "outputId": "7c3aabdc-7a85-41bc-dc93-0bad79147f63"
      },
      "outputs": [
        {
          "output_type": "stream",
          "name": "stderr",
          "text": [
            "100% (2 of 2) |##########################| Elapsed Time: 0:00:06 Time:  0:00:06\n"
          ]
        },
        {
          "output_type": "stream",
          "name": "stdout",
          "text": [
            "=== 2 extra video files downloaded! ===\n"
          ]
        }
      ],
      "source": [
        "paper_df = metadata[(metadata.source == 'Paper') & ((metadata['id'].str.contains('199', na=False)) | (metadata['id'].str.contains('200', na=False)))] \n",
        "\n",
        "progress = ProgressBar(max_value=paper_df.shape[0]) \n",
        "for idx, row in progress(paper_df.iterrows()):\n",
        "    filename = row.id + '.' + row.filetype\n",
        "    \n",
        "    # write the video file to disk\n",
        "    r = requests.get(row.url, stream=True, headers={'User-agent': 'Mozilla/5.0'})\n",
        "    if r.status_code == 200:\n",
        "        with open(os.path.join('data/video/', filename), 'wb') as f:\n",
        "            r.raw.decode_content = True\n",
        "            shutil.copyfileobj(r.raw, f)       \n",
        "\n",
        "    # set a random delay, otherwise the connection gets closed\n",
        "    delay = random.randint(3, 5)\n",
        "    time.sleep(delay)\n",
        "print('=== 2 extra video files downloaded! ===')  "
      ]
    },
    {
      "cell_type": "code",
      "execution_count": null,
      "metadata": {
        "colab": {
          "base_uri": "https://localhost:8080/"
        },
        "id": "ilY8eT2Iecet",
        "outputId": "ec1785e1-452e-44fd-aa9f-a52ba8e07ee3"
      },
      "outputs": [
        {
          "output_type": "stream",
          "name": "stderr",
          "text": [
            "\r                                                                               \r\rN/A% (0 of 24) |                         | Elapsed Time: 0:00:00 ETA:  --:--:--"
          ]
        },
        {
          "output_type": "stream",
          "name": "stdout",
          "text": [
            "...Extracting the video files...\n"
          ]
        },
        {
          "output_type": "stream",
          "name": "stderr",
          "text": [
            "100% (24 of 24) |########################| Elapsed Time: 0:01:46 Time:  0:01:46\n"
          ]
        },
        {
          "output_type": "stream",
          "name": "stdout",
          "text": [
            "=== UF video files extraction done! ===\n"
          ]
        }
      ],
      "source": [
        "print('...Extracting the video files...')\n",
        "uf_df = metadata[metadata.source == 'UF']\n",
        "\n",
        "progress = ProgressBar(max_value=uf_df.shape[0]) \n",
        "for idx, row in progress(uf_df.iterrows()):\n",
        "    filename = row.id + '.' + row.filetype\n",
        "    \n",
        "    # write the video file to disk\n",
        "    r = requests.get(row.url, stream=True, headers={'User-agent': 'Mozilla/5.0'})\n",
        "    if r.status_code == 200:\n",
        "        with open(os.path.join('data/video/', filename), 'wb') as f:\n",
        "            r.raw.decode_content = True\n",
        "            shutil.copyfileobj(r.raw, f)       \n",
        "\n",
        "    # set a random delay, otherwise the connection gets closed\n",
        "    delay = random.randint(3, 5)\n",
        "    time.sleep(delay)\n",
        "print('=== UF video files extraction done! ===')        "
      ]
    },
    {
      "cell_type": "markdown",
      "metadata": {
        "id": "WcVNpRwXeiHc"
      },
      "source": [
        "###1.7. Scientific Publications"
      ]
    },
    {
      "cell_type": "code",
      "execution_count": null,
      "metadata": {
        "colab": {
          "base_uri": "https://localhost:8080/"
        },
        "id": "NeBhLg7QelTm",
        "outputId": "d1cb5d22-6ea4-484b-884d-27d75e692309"
      },
      "outputs": [
        {
          "output_type": "stream",
          "name": "stderr",
          "text": [
            "\r                                                                               \r\rN/A% (0 of 22) |                         | Elapsed Time: 0:00:00 ETA:  --:--:--"
          ]
        },
        {
          "output_type": "stream",
          "name": "stdout",
          "text": [
            "...Extracting the video files...\n"
          ]
        },
        {
          "output_type": "stream",
          "name": "stderr",
          "text": [
            "100% (22 of 22) |########################| Elapsed Time: 0:02:24 Time:  0:02:24\n"
          ]
        },
        {
          "output_type": "stream",
          "name": "stdout",
          "text": [
            "=== Video files extraction from papers is done! ===\n"
          ]
        }
      ],
      "source": [
        "print('...Extracting the video files...')\n",
        "paper_df = metadata[(metadata.source == 'Paper')] \n",
        "\n",
        "progress = ProgressBar(max_value=paper_df.shape[0]) \n",
        "for idx, row in progress(paper_df.iterrows()):\n",
        "    filename = row.id + '.' + row.filetype\n",
        "    \n",
        "    r = requests.get(row.url, stream=True, headers={'User-agent': 'Mozilla/5.0'})\n",
        "    if r.status_code == 200:\n",
        "        with open(os.path.join('data/video/', filename), 'wb') as f:\n",
        "            r.raw.decode_content = True\n",
        "            shutil.copyfileobj(r.raw, f)       \n",
        "        \n",
        "    # set a random delay, otherwise the connection gets closed\n",
        "    if (('241_' in row.id) | ('242_' in row.id) | ('243_' in row.id)): #longer delay for last files\n",
        "        delay = random.randint(10, 20)\n",
        "    else:\n",
        "        delay = random.randint(3, 5)\n",
        "    time.sleep(delay)\n",
        "print('=== Video files extraction from papers is done! ===')        "
      ]
    },
    {
      "cell_type": "markdown",
      "metadata": {
        "id": "iphCMnC1eo4j"
      },
      "source": [
        "###1.8. Clarius"
      ]
    },
    {
      "cell_type": "code",
      "execution_count": null,
      "metadata": {
        "colab": {
          "base_uri": "https://localhost:8080/"
        },
        "id": "6jUgwMpeesh-",
        "outputId": "9d38144a-5012-4cbb-835e-a9b510392e59"
      },
      "outputs": [
        {
          "output_type": "stream",
          "name": "stderr",
          "text": [
            "\r                                                                               \r\rN/A% (0 of 6) |                          | Elapsed Time: 0:00:00 ETA:  --:--:--"
          ]
        },
        {
          "output_type": "stream",
          "name": "stdout",
          "text": [
            "...Extracting the video files...\n"
          ]
        },
        {
          "output_type": "stream",
          "name": "stderr",
          "text": [
            "100% (6 of 6) |##########################| Elapsed Time: 0:00:25 Time:  0:00:25\n"
          ]
        },
        {
          "output_type": "stream",
          "name": "stdout",
          "text": [
            "=== Clarius video files extraction done! ===\n"
          ]
        }
      ],
      "source": [
        "print('...Extracting the video files...')\n",
        "clarius_df = metadata[metadata.source == 'Clarius'].iloc[:6, :]\n",
        "\n",
        "progress = ProgressBar(max_value=clarius_df.shape[0]) \n",
        "for idx, row in progress(clarius_df.iterrows()):\n",
        "    filename = row.id + '.' + row.filetype\n",
        "    \n",
        "    # write the video file to disk\n",
        "    r = requests.get(row.url, stream=True, headers={'User-agent': 'Mozilla/5.0 (Windows NT 6.1; WOW64)'})\n",
        "    if r.status_code == 200:\n",
        "        with open(os.path.join('data/video/', filename), 'wb') as f:\n",
        "            r.raw.decode_content = True\n",
        "            shutil.copyfileobj(r.raw, f)       \n",
        "\n",
        "    # set a random delay, otherwise the connection gets closed\n",
        "    delay = random.randint(3, 5)\n",
        "    time.sleep(delay)\n",
        "print('=== Clarius video files extraction done! ===')    "
      ]
    },
    {
      "cell_type": "markdown",
      "metadata": {
        "id": "QbdKRT113C_N"
      },
      "source": [
        "###2. Video Preprocessing"
      ]
    },
    {
      "cell_type": "markdown",
      "metadata": {
        "id": "hLom2zwW3TGv"
      },
      "source": [
        "#### Move original video files to the original folder"
      ]
    },
    {
      "cell_type": "code",
      "execution_count": null,
      "metadata": {
        "colab": {
          "base_uri": "https://localhost:8080/"
        },
        "id": "GbPaWAOG3FJn",
        "outputId": "c8411ea5-2189-4262-c54f-cdbe683f1580"
      },
      "outputs": [
        {
          "output_type": "stream",
          "name": "stderr",
          "text": [
            "100% (188 of 188) |######################| Elapsed Time: 0:00:00 Time:  0:00:00\n"
          ]
        }
      ],
      "source": [
        "source_dir = 'data/video/'\n",
        "target_dir = 'data/video/original'\n",
        "    \n",
        "file_names = os.listdir(source_dir)\n",
        "\n",
        "if not os.path.exists('data/video/original'): \n",
        "    os.makedirs('data/video/original') \n",
        "\n",
        "progress = ProgressBar()\n",
        "for file_name in progress(file_names):\n",
        "    shutil.move(os.path.join(source_dir, file_name), target_dir)"
      ]
    },
    {
      "cell_type": "markdown",
      "metadata": {
        "id": "kAjNSEVR3gnU"
      },
      "source": [
        "###2.1. Fetching Video Files Properties"
      ]
    },
    {
      "cell_type": "code",
      "execution_count": null,
      "metadata": {
        "id": "5vHPsVTG383_"
      },
      "outputs": [],
      "source": [
        "import pandas as pd\n",
        "import requests\n",
        "import io\n",
        "    \n",
        "# Downloading the csv file from your GitHub account\n",
        "url = \"https://raw.githubusercontent.com/nrc-cnrc/COVID-US/main/utils/video_files_properties.csv\" \n",
        "download = requests.get(url).content\n",
        "video_properties = pd.read_csv(io.StringIO(download.decode('latin1')))\n"
      ]
    },
    {
      "cell_type": "code",
      "execution_count": null,
      "metadata": {
        "colab": {
          "base_uri": "https://localhost:8080/"
        },
        "id": "x48RsbPH3c_7",
        "outputId": "325dbf91-7ea2-49b6-9353-fc640086dd8b"
      },
      "outputs": [
        {
          "output_type": "stream",
          "name": "stderr",
          "text": [
            "100% (188 of 188) |######################| Elapsed Time: 0:00:02 Time:  0:00:02\n"
          ]
        }
      ],
      "source": [
        "VIDEO_PATH_ORG = 'data/video/original/'\n",
        "\n",
        "vid_files = os.listdir(VIDEO_PATH_ORG)\n",
        "\n",
        "progress = ProgressBar(max_value=metadata.shape[0]) \n",
        "with open('video_properties', 'w') as f:\n",
        "    # write the file header\n",
        "    f.write('filename,framerate,width,height,frame_count,duration_secs\\n')\n",
        "    \n",
        "    # loop over the video files and get their properties\n",
        "    for vid in progress(vid_files):\n",
        "        vid_filename = VIDEO_PATH_ORG + str(vid)\n",
        "        file_type = vid.split('.')[-1]\n",
        "        \n",
        "        # get video file properties\n",
        "        cv2video = cv2.VideoCapture(vid_filename)\n",
        "        height = cv2video.get(cv2.CAP_PROP_FRAME_HEIGHT)\n",
        "        width  = cv2video.get(cv2.CAP_PROP_FRAME_WIDTH) \n",
        "        frame_rate = round(cv2video.get(cv2.CAP_PROP_FPS), 2)\n",
        "        \n",
        "        if file_type == 'mp4':\n",
        "            frame_count = cv2video.get(cv2.CAP_PROP_FRAME_COUNT) \n",
        "            duration = round((frame_count / frame_rate), 2)\n",
        "        elif file_type == 'gif':\n",
        "            frame_count = round(Image.open(vid_filename).n_frames) #round((duration * frame_rate ), 0)\n",
        "            duration = round((frame_count / frame_rate), 2)\n",
        "\n",
        "        # write video properties to the file\n",
        "        line_to_write = str(vid) + ',' + str(frame_rate) + ',' + str(width) + ',' + str(height) + ',' + str(frame_count) + ',' + str(duration) + '\\n'\n",
        "        f.write(line_to_write)"
      ]
    },
    {
      "cell_type": "markdown",
      "metadata": {
        "id": "M1Ezm6BM4eV3"
      },
      "source": [
        "###2.2. Video Preprocessing"
      ]
    },
    {
      "cell_type": "code",
      "execution_count": null,
      "metadata": {
        "id": "-qzDLYHi4gNi"
      },
      "outputs": [],
      "source": [
        "VIDEO_CROPPED_OUT = 'data/video/cropped/' #processed/cropped/'\n",
        "\n",
        "# create processed and cropped folder if they don't already exist\n",
        "if not os.path.exists('data/video/cropped'): #processed/cropped'):\n",
        "    os.makedirs('data/video/cropped') #processed/cropped')"
      ]
    },
    {
      "cell_type": "markdown",
      "metadata": {
        "id": "fO6Hg6Nl4lFh"
      },
      "source": [
        "####2.2.1 Initial Cropping"
      ]
    },
    {
      "cell_type": "code",
      "execution_count": null,
      "metadata": {
        "colab": {
          "base_uri": "https://localhost:8080/",
          "height": 223
        },
        "id": "IJsQU-wT4skD",
        "outputId": "b97ee5e8-f460-4fa4-8f44-d491ea741098"
      },
      "outputs": [
        {
          "output_type": "stream",
          "name": "stdout",
          "text": [
            "(243, 27)\n"
          ]
        },
        {
          "output_type": "execute_result",
          "data": {
            "text/plain": [
              "                filename     source   probe  class  org_width  org_height  \\\n",
              "0  1_butterfly_covid.mp4  Butterfly  Convex  COVID        880        1080   \n",
              "1  2_butterfly_covid.mp4  Butterfly  Convex  COVID        720        1236   \n",
              "\n",
              "   org_framecount  org_framerate  org_duration green_dot  ... del_upper  \\\n",
              "0              65          19.57          3.32        no  ...      15.0   \n",
              "1             818          30.00         27.27       yes  ...      83.0   \n",
              "\n",
              "  width_rate x1_w_y1_h           cropped_filename crp_width crp_height  \\\n",
              "0      0.035       NaN  1_butterfly_covid_prc.avi     820.0      820.0   \n",
              "1      0.068       NaN  2_butterfly_covid_prc.avi     624.0      624.0   \n",
              "\n",
              "  version  date_added  multiple_videos Note  \n",
              "0     1.0    Nov_2020              NaN  NaN  \n",
              "1     1.0    Nov_2020              NaN  NaN  \n",
              "\n",
              "[2 rows x 27 columns]"
            ],
            "text/html": [
              "\n",
              "  <div id=\"df-5bcfd6fa-f0b6-4f56-a0a1-faba4518bf9f\">\n",
              "    <div class=\"colab-df-container\">\n",
              "      <div>\n",
              "<style scoped>\n",
              "    .dataframe tbody tr th:only-of-type {\n",
              "        vertical-align: middle;\n",
              "    }\n",
              "\n",
              "    .dataframe tbody tr th {\n",
              "        vertical-align: top;\n",
              "    }\n",
              "\n",
              "    .dataframe thead th {\n",
              "        text-align: right;\n",
              "    }\n",
              "</style>\n",
              "<table border=\"1\" class=\"dataframe\">\n",
              "  <thead>\n",
              "    <tr style=\"text-align: right;\">\n",
              "      <th></th>\n",
              "      <th>filename</th>\n",
              "      <th>source</th>\n",
              "      <th>probe</th>\n",
              "      <th>class</th>\n",
              "      <th>org_width</th>\n",
              "      <th>org_height</th>\n",
              "      <th>org_framecount</th>\n",
              "      <th>org_framerate</th>\n",
              "      <th>org_duration</th>\n",
              "      <th>green_dot</th>\n",
              "      <th>...</th>\n",
              "      <th>del_upper</th>\n",
              "      <th>width_rate</th>\n",
              "      <th>x1_w_y1_h</th>\n",
              "      <th>cropped_filename</th>\n",
              "      <th>crp_width</th>\n",
              "      <th>crp_height</th>\n",
              "      <th>version</th>\n",
              "      <th>date_added</th>\n",
              "      <th>multiple_videos</th>\n",
              "      <th>Note</th>\n",
              "    </tr>\n",
              "  </thead>\n",
              "  <tbody>\n",
              "    <tr>\n",
              "      <th>0</th>\n",
              "      <td>1_butterfly_covid.mp4</td>\n",
              "      <td>Butterfly</td>\n",
              "      <td>Convex</td>\n",
              "      <td>COVID</td>\n",
              "      <td>880</td>\n",
              "      <td>1080</td>\n",
              "      <td>65</td>\n",
              "      <td>19.57</td>\n",
              "      <td>3.32</td>\n",
              "      <td>no</td>\n",
              "      <td>...</td>\n",
              "      <td>15.0</td>\n",
              "      <td>0.035</td>\n",
              "      <td>NaN</td>\n",
              "      <td>1_butterfly_covid_prc.avi</td>\n",
              "      <td>820.0</td>\n",
              "      <td>820.0</td>\n",
              "      <td>1.0</td>\n",
              "      <td>Nov_2020</td>\n",
              "      <td>NaN</td>\n",
              "      <td>NaN</td>\n",
              "    </tr>\n",
              "    <tr>\n",
              "      <th>1</th>\n",
              "      <td>2_butterfly_covid.mp4</td>\n",
              "      <td>Butterfly</td>\n",
              "      <td>Convex</td>\n",
              "      <td>COVID</td>\n",
              "      <td>720</td>\n",
              "      <td>1236</td>\n",
              "      <td>818</td>\n",
              "      <td>30.00</td>\n",
              "      <td>27.27</td>\n",
              "      <td>yes</td>\n",
              "      <td>...</td>\n",
              "      <td>83.0</td>\n",
              "      <td>0.068</td>\n",
              "      <td>NaN</td>\n",
              "      <td>2_butterfly_covid_prc.avi</td>\n",
              "      <td>624.0</td>\n",
              "      <td>624.0</td>\n",
              "      <td>1.0</td>\n",
              "      <td>Nov_2020</td>\n",
              "      <td>NaN</td>\n",
              "      <td>NaN</td>\n",
              "    </tr>\n",
              "  </tbody>\n",
              "</table>\n",
              "<p>2 rows × 27 columns</p>\n",
              "</div>\n",
              "      <button class=\"colab-df-convert\" onclick=\"convertToInteractive('df-5bcfd6fa-f0b6-4f56-a0a1-faba4518bf9f')\"\n",
              "              title=\"Convert this dataframe to an interactive table.\"\n",
              "              style=\"display:none;\">\n",
              "        \n",
              "  <svg xmlns=\"http://www.w3.org/2000/svg\" height=\"24px\"viewBox=\"0 0 24 24\"\n",
              "       width=\"24px\">\n",
              "    <path d=\"M0 0h24v24H0V0z\" fill=\"none\"/>\n",
              "    <path d=\"M18.56 5.44l.94 2.06.94-2.06 2.06-.94-2.06-.94-.94-2.06-.94 2.06-2.06.94zm-11 1L8.5 8.5l.94-2.06 2.06-.94-2.06-.94L8.5 2.5l-.94 2.06-2.06.94zm10 10l.94 2.06.94-2.06 2.06-.94-2.06-.94-.94-2.06-.94 2.06-2.06.94z\"/><path d=\"M17.41 7.96l-1.37-1.37c-.4-.4-.92-.59-1.43-.59-.52 0-1.04.2-1.43.59L10.3 9.45l-7.72 7.72c-.78.78-.78 2.05 0 2.83L4 21.41c.39.39.9.59 1.41.59.51 0 1.02-.2 1.41-.59l7.78-7.78 2.81-2.81c.8-.78.8-2.07 0-2.86zM5.41 20L4 18.59l7.72-7.72 1.47 1.35L5.41 20z\"/>\n",
              "  </svg>\n",
              "      </button>\n",
              "      \n",
              "  <style>\n",
              "    .colab-df-container {\n",
              "      display:flex;\n",
              "      flex-wrap:wrap;\n",
              "      gap: 12px;\n",
              "    }\n",
              "\n",
              "    .colab-df-convert {\n",
              "      background-color: #E8F0FE;\n",
              "      border: none;\n",
              "      border-radius: 50%;\n",
              "      cursor: pointer;\n",
              "      display: none;\n",
              "      fill: #1967D2;\n",
              "      height: 32px;\n",
              "      padding: 0 0 0 0;\n",
              "      width: 32px;\n",
              "    }\n",
              "\n",
              "    .colab-df-convert:hover {\n",
              "      background-color: #E2EBFA;\n",
              "      box-shadow: 0px 1px 2px rgba(60, 64, 67, 0.3), 0px 1px 3px 1px rgba(60, 64, 67, 0.15);\n",
              "      fill: #174EA6;\n",
              "    }\n",
              "\n",
              "    [theme=dark] .colab-df-convert {\n",
              "      background-color: #3B4455;\n",
              "      fill: #D2E3FC;\n",
              "    }\n",
              "\n",
              "    [theme=dark] .colab-df-convert:hover {\n",
              "      background-color: #434B5C;\n",
              "      box-shadow: 0px 1px 3px 1px rgba(0, 0, 0, 0.15);\n",
              "      filter: drop-shadow(0px 1px 2px rgba(0, 0, 0, 0.3));\n",
              "      fill: #FFFFFF;\n",
              "    }\n",
              "  </style>\n",
              "\n",
              "      <script>\n",
              "        const buttonEl =\n",
              "          document.querySelector('#df-5bcfd6fa-f0b6-4f56-a0a1-faba4518bf9f button.colab-df-convert');\n",
              "        buttonEl.style.display =\n",
              "          google.colab.kernel.accessAllowed ? 'block' : 'none';\n",
              "\n",
              "        async function convertToInteractive(key) {\n",
              "          const element = document.querySelector('#df-5bcfd6fa-f0b6-4f56-a0a1-faba4518bf9f');\n",
              "          const dataTable =\n",
              "            await google.colab.kernel.invokeFunction('convertToInteractive',\n",
              "                                                     [key], {});\n",
              "          if (!dataTable) return;\n",
              "\n",
              "          const docLinkHtml = 'Like what you see? Visit the ' +\n",
              "            '<a target=\"_blank\" href=https://colab.research.google.com/notebooks/data_table.ipynb>data table notebook</a>'\n",
              "            + ' to learn more about interactive tables.';\n",
              "          element.innerHTML = '';\n",
              "          dataTable['output_type'] = 'display_data';\n",
              "          await google.colab.output.renderOutput(dataTable, element);\n",
              "          const docLink = document.createElement('div');\n",
              "          docLink.innerHTML = docLinkHtml;\n",
              "          element.appendChild(docLink);\n",
              "        }\n",
              "      </script>\n",
              "    </div>\n",
              "  </div>\n",
              "  "
            ]
          },
          "metadata": {},
          "execution_count": 25
        }
      ],
      "source": [
        "import pandas as pd\n",
        "import requests\n",
        "import io\n",
        "    \n",
        "# read cropping metadata file\n",
        "url = \"https://raw.githubusercontent.com/nrc-cnrc/COVID-US/main/utils/video_cropping_metadata.csv\" \n",
        "download = requests.get(url).content\n",
        "vid_crp_metadata = pd.read_csv(io.StringIO(download.decode('latin1')))\n",
        "print(vid_crp_metadata.shape)\n",
        "vid_crp_metadata.head(2)"
      ]
    },
    {
      "cell_type": "code",
      "execution_count": null,
      "metadata": {
        "colab": {
          "base_uri": "https://localhost:8080/"
        },
        "id": "u7b3aCCb_kOF",
        "outputId": "5b51d28c-9a5c-4e5c-8037-5a1d36890c44"
      },
      "outputs": [
        {
          "output_type": "stream",
          "name": "stderr",
          "text": [
            "100% (243 of 243) |######################| Elapsed Time: 0:01:50 Time:  0:01:50\n"
          ]
        },
        {
          "output_type": "stream",
          "name": "stdout",
          "text": [
            "Initial cropping done...\n"
          ]
        }
      ],
      "source": [
        "progress = ProgressBar(max_value=vid_crp_metadata.shape[0])\n",
        "\n",
        "for idx, row in progress(vid_crp_metadata.iterrows()):\n",
        "    vid_arr = []  # array to store frames of a video file\n",
        "    \n",
        "    filename = row.filename\n",
        "    file_label = filename.split('_')[-1].split('.')[0] # label of the video file\n",
        "    \n",
        "    # the following file was removed in the new release of butterfly data\n",
        "    if filename == '22_butterfly_covid.mp4':\n",
        "        continue\n",
        "    \n",
        "    cap = cv2.VideoCapture(os.path.join(VIDEO_PATH_ORG, filename))\n",
        "    width = int(cap.get(cv2.CAP_PROP_FRAME_WIDTH) + 0.5)\n",
        "    height = int(cap.get(cv2.CAP_PROP_FRAME_HEIGHT) + 0.5)\n",
        "    dim = (width, height) # dimension of the original file\n",
        "    \n",
        "    if pd.isna(row.x1_w_y1_h): # square cropping\n",
        "        DEL_UPPER = int(row.del_upper) # to remove top\n",
        "        WIDTH_RATE = float(row.width_rate) # to remove sides e.g. the meter\n",
        "        \n",
        "        width_border = int(width * WIDTH_RATE)\n",
        "        width_box = int(width - (2 * width_border)) \n",
        "        if width_box + DEL_UPPER > height:\n",
        "            width_box = int(height - DEL_UPPER)\n",
        "            width_border = int( (width / 2) - (width_box / 2))\n",
        "\n",
        "        while(True):\n",
        "            ret, frame = cap.read()\n",
        "\n",
        "            if not ret:\n",
        "                break\n",
        "\n",
        "            # crop\n",
        "            frame = frame[DEL_UPPER:width_box + DEL_UPPER, width_border:width_box + width_border]\n",
        "\n",
        "            frame = np.asarray(frame).astype(np.uint8)\n",
        "            vid_arr.append(frame)\n",
        "\n",
        "    else: # crop using (x1,y1) and (x2, y2). The output will not be necessarily a square file\n",
        "        X1 = int(row.x1_w_y1_h.split(',')[0].replace('(', ''))\n",
        "        W = int(row.x1_w_y1_h.split(',')[1].strip())\n",
        "        Y1 = int(row.x1_w_y1_h.split(',')[2].strip())\n",
        "        H = int(row.x1_w_y1_h.split(',')[3].replace(')', '').strip())\n",
        "\n",
        "        while(True):\n",
        "            ret, frame = cap.read()\n",
        "\n",
        "            if not ret:\n",
        "                break\n",
        "\n",
        "            # crop\n",
        "            frame = frame[Y1:Y1 + H, X1:X1 + W]\n",
        "\n",
        "            frame = np.asarray(frame).astype(np.uint8)\n",
        "            vid_arr.append(frame)\n",
        "\n",
        "    vid_arr = np.asarray(vid_arr)\n",
        "    # print(\"vid_arr.shape {}\".format(vid_arr.shape))\n",
        "    if (len(vid_arr.shape) != 4):\n",
        "        continue\n",
        "    prc_dim = vid_arr.shape[1:3] # dimension of the cropped file\n",
        "    prc_dim = (prc_dim[1], prc_dim[0])\n",
        "\n",
        "    fourcc = cv2.VideoWriter_fourcc(*'XVID')\n",
        "    out = cv2.VideoWriter(os.path.join(VIDEO_CROPPED_OUT + filename.split('.')[0] + '_prc.avi'), fourcc, 20.0, tuple(prc_dim))\n",
        "\n",
        "    for frame in vid_arr:\n",
        "        out.write(frame.astype(\"uint8\"))\n",
        "\n",
        "    vid_crp_metadata.iloc[idx, vid_crp_metadata.columns.get_loc('crp_width')] = prc_dim[1]\n",
        "    vid_crp_metadata.iloc[idx, vid_crp_metadata.columns.get_loc('crp_height')] = prc_dim[0]\n",
        "\n",
        "    cap.release()\n",
        "    out.release()\n",
        "    cv2.destroyAllWindows()\n",
        "\n",
        "vid_crp_metadata.to_csv('https://raw.githubusercontent.com/nrc-cnrc/COVID-US/main/utils/video_cropping_metadata.csv', index=None)\n",
        "\n",
        "print('Initial cropping done...')"
      ]
    },
    {
      "cell_type": "markdown",
      "metadata": {
        "id": "A95i6seUAjOH"
      },
      "source": [
        "###3.Extract Ultrasound Images from Videos"
      ]
    },
    {
      "cell_type": "markdown",
      "metadata": {
        "id": "RRCXzMSrAsKn"
      },
      "source": [
        "#### Read video properties"
      ]
    },
    {
      "cell_type": "code",
      "execution_count": null,
      "metadata": {
        "colab": {
          "base_uri": "https://localhost:8080/",
          "height": 130
        },
        "id": "WKnplGWEApou",
        "outputId": "3a9b5d6f-a30a-4446-9e0b-fe6b5a5a75ce"
      },
      "outputs": [
        {
          "output_type": "stream",
          "name": "stdout",
          "text": [
            "(242, 9)\n"
          ]
        },
        {
          "output_type": "execute_result",
          "data": {
            "text/plain": [
              "              filename  framerate  width  height  frame_count  duration_secs  \\\n",
              "0  100_litfl_other.mp4       15.0  480.0   360.0         46.0           3.07   \n",
              "1  101_litfl_other.mp4       15.0  480.0   360.0         28.0           1.87   \n",
              "\n",
              "  source   probe  class  \n",
              "0  Litfl  Convex  Other  \n",
              "1  Litfl  Convex  Other  "
            ],
            "text/html": [
              "\n",
              "  <div id=\"df-72493a7e-3ad0-4630-a4ff-5a02c6840ee7\">\n",
              "    <div class=\"colab-df-container\">\n",
              "      <div>\n",
              "<style scoped>\n",
              "    .dataframe tbody tr th:only-of-type {\n",
              "        vertical-align: middle;\n",
              "    }\n",
              "\n",
              "    .dataframe tbody tr th {\n",
              "        vertical-align: top;\n",
              "    }\n",
              "\n",
              "    .dataframe thead th {\n",
              "        text-align: right;\n",
              "    }\n",
              "</style>\n",
              "<table border=\"1\" class=\"dataframe\">\n",
              "  <thead>\n",
              "    <tr style=\"text-align: right;\">\n",
              "      <th></th>\n",
              "      <th>filename</th>\n",
              "      <th>framerate</th>\n",
              "      <th>width</th>\n",
              "      <th>height</th>\n",
              "      <th>frame_count</th>\n",
              "      <th>duration_secs</th>\n",
              "      <th>source</th>\n",
              "      <th>probe</th>\n",
              "      <th>class</th>\n",
              "    </tr>\n",
              "  </thead>\n",
              "  <tbody>\n",
              "    <tr>\n",
              "      <th>0</th>\n",
              "      <td>100_litfl_other.mp4</td>\n",
              "      <td>15.0</td>\n",
              "      <td>480.0</td>\n",
              "      <td>360.0</td>\n",
              "      <td>46.0</td>\n",
              "      <td>3.07</td>\n",
              "      <td>Litfl</td>\n",
              "      <td>Convex</td>\n",
              "      <td>Other</td>\n",
              "    </tr>\n",
              "    <tr>\n",
              "      <th>1</th>\n",
              "      <td>101_litfl_other.mp4</td>\n",
              "      <td>15.0</td>\n",
              "      <td>480.0</td>\n",
              "      <td>360.0</td>\n",
              "      <td>28.0</td>\n",
              "      <td>1.87</td>\n",
              "      <td>Litfl</td>\n",
              "      <td>Convex</td>\n",
              "      <td>Other</td>\n",
              "    </tr>\n",
              "  </tbody>\n",
              "</table>\n",
              "</div>\n",
              "      <button class=\"colab-df-convert\" onclick=\"convertToInteractive('df-72493a7e-3ad0-4630-a4ff-5a02c6840ee7')\"\n",
              "              title=\"Convert this dataframe to an interactive table.\"\n",
              "              style=\"display:none;\">\n",
              "        \n",
              "  <svg xmlns=\"http://www.w3.org/2000/svg\" height=\"24px\"viewBox=\"0 0 24 24\"\n",
              "       width=\"24px\">\n",
              "    <path d=\"M0 0h24v24H0V0z\" fill=\"none\"/>\n",
              "    <path d=\"M18.56 5.44l.94 2.06.94-2.06 2.06-.94-2.06-.94-.94-2.06-.94 2.06-2.06.94zm-11 1L8.5 8.5l.94-2.06 2.06-.94-2.06-.94L8.5 2.5l-.94 2.06-2.06.94zm10 10l.94 2.06.94-2.06 2.06-.94-2.06-.94-.94-2.06-.94 2.06-2.06.94z\"/><path d=\"M17.41 7.96l-1.37-1.37c-.4-.4-.92-.59-1.43-.59-.52 0-1.04.2-1.43.59L10.3 9.45l-7.72 7.72c-.78.78-.78 2.05 0 2.83L4 21.41c.39.39.9.59 1.41.59.51 0 1.02-.2 1.41-.59l7.78-7.78 2.81-2.81c.8-.78.8-2.07 0-2.86zM5.41 20L4 18.59l7.72-7.72 1.47 1.35L5.41 20z\"/>\n",
              "  </svg>\n",
              "      </button>\n",
              "      \n",
              "  <style>\n",
              "    .colab-df-container {\n",
              "      display:flex;\n",
              "      flex-wrap:wrap;\n",
              "      gap: 12px;\n",
              "    }\n",
              "\n",
              "    .colab-df-convert {\n",
              "      background-color: #E8F0FE;\n",
              "      border: none;\n",
              "      border-radius: 50%;\n",
              "      cursor: pointer;\n",
              "      display: none;\n",
              "      fill: #1967D2;\n",
              "      height: 32px;\n",
              "      padding: 0 0 0 0;\n",
              "      width: 32px;\n",
              "    }\n",
              "\n",
              "    .colab-df-convert:hover {\n",
              "      background-color: #E2EBFA;\n",
              "      box-shadow: 0px 1px 2px rgba(60, 64, 67, 0.3), 0px 1px 3px 1px rgba(60, 64, 67, 0.15);\n",
              "      fill: #174EA6;\n",
              "    }\n",
              "\n",
              "    [theme=dark] .colab-df-convert {\n",
              "      background-color: #3B4455;\n",
              "      fill: #D2E3FC;\n",
              "    }\n",
              "\n",
              "    [theme=dark] .colab-df-convert:hover {\n",
              "      background-color: #434B5C;\n",
              "      box-shadow: 0px 1px 3px 1px rgba(0, 0, 0, 0.15);\n",
              "      filter: drop-shadow(0px 1px 2px rgba(0, 0, 0, 0.3));\n",
              "      fill: #FFFFFF;\n",
              "    }\n",
              "  </style>\n",
              "\n",
              "      <script>\n",
              "        const buttonEl =\n",
              "          document.querySelector('#df-72493a7e-3ad0-4630-a4ff-5a02c6840ee7 button.colab-df-convert');\n",
              "        buttonEl.style.display =\n",
              "          google.colab.kernel.accessAllowed ? 'block' : 'none';\n",
              "\n",
              "        async function convertToInteractive(key) {\n",
              "          const element = document.querySelector('#df-72493a7e-3ad0-4630-a4ff-5a02c6840ee7');\n",
              "          const dataTable =\n",
              "            await google.colab.kernel.invokeFunction('convertToInteractive',\n",
              "                                                     [key], {});\n",
              "          if (!dataTable) return;\n",
              "\n",
              "          const docLinkHtml = 'Like what you see? Visit the ' +\n",
              "            '<a target=\"_blank\" href=https://colab.research.google.com/notebooks/data_table.ipynb>data table notebook</a>'\n",
              "            + ' to learn more about interactive tables.';\n",
              "          element.innerHTML = '';\n",
              "          dataTable['output_type'] = 'display_data';\n",
              "          await google.colab.output.renderOutput(dataTable, element);\n",
              "          const docLink = document.createElement('div');\n",
              "          docLink.innerHTML = docLinkHtml;\n",
              "          element.appendChild(docLink);\n",
              "        }\n",
              "      </script>\n",
              "    </div>\n",
              "  </div>\n",
              "  "
            ]
          },
          "metadata": {},
          "execution_count": 27
        }
      ],
      "source": [
        "vid_prop_df = pd.read_csv('https://raw.githubusercontent.com/nrc-cnrc/COVID-US/main/utils/video_files_properties.csv')\n",
        "\n",
        "# merge with the video meta data file \n",
        "vid_prop_df.filename = vid_prop_df.filename.astype(str)\n",
        "vid_prop_df.filename = vid_prop_df.filename.str.strip()\n",
        "\n",
        "metadata['filename2'] = metadata.id + '.' + metadata.filetype\n",
        "metadata.filename2 = metadata.filename2.astype(str)\n",
        "metadata.filename2 = metadata.filename2.str.strip()\n",
        "\n",
        "vid_prop_df = pd.merge(vid_prop_df, metadata[['filename2', 'source', 'probe', 'class']], left_on='filename', right_on='filename2', how='left').drop('filename2', axis=1)\n",
        "\n",
        "del metadata['filename2']\n",
        "print(vid_prop_df.shape)\n",
        "vid_prop_df.head(2)"
      ]
    },
    {
      "cell_type": "code",
      "execution_count": null,
      "metadata": {
        "id": "tCyOJsA_A4eY"
      },
      "outputs": [],
      "source": [
        "IMAGE_PATH_ORG = 'data/image/original/'\n",
        "\n",
        "# create a folder for images extracted from original videos, if doesn't exist\n",
        "if not os.path.exists(IMAGE_PATH_ORG):\n",
        "    os.makedirs(IMAGE_PATH_ORG)"
      ]
    },
    {
      "cell_type": "code",
      "execution_count": null,
      "metadata": {
        "colab": {
          "base_uri": "https://localhost:8080/"
        },
        "id": "lVmbtsFDBFDX",
        "outputId": "6544d280-4425-4ffb-c84b-d77e3bfdb581"
      },
      "outputs": [
        {
          "output_type": "stream",
          "name": "stderr",
          "text": [
            "100% (242 of 242) |######################| Elapsed Time: 0:05:09 Time:  0:05:09\n"
          ]
        }
      ],
      "source": [
        "extract_images(video_path= VIDEO_PATH_ORG, image_path=IMAGE_PATH_ORG, cropped=False)"
      ]
    },
    {
      "cell_type": "markdown",
      "metadata": {
        "id": "qZRRUsTKBp9n"
      },
      "source": [
        "### 3.1. Extract frames from cropped video files"
      ]
    },
    {
      "cell_type": "code",
      "execution_count": null,
      "metadata": {
        "id": "4ATsbTyuBvnG"
      },
      "outputs": [],
      "source": [
        "IMAGE_CROPPED_OUT = 'data/image/cropped/'\n",
        "IMAGE_MASK_OUT = 'data/mask/'\n",
        "\n",
        "# create cropped and inpainted image folders and the mask folder if they don't already exist\n",
        "if not os.path.exists(IMAGE_CROPPED_OUT):\n",
        "    os.makedirs(IMAGE_CROPPED_OUT)\n",
        "if not os.path.exists(IMAGE_MASK_OUT):\n",
        "    os.makedirs(IMAGE_MASK_OUT)"
      ]
    },
    {
      "cell_type": "code",
      "execution_count": null,
      "metadata": {
        "colab": {
          "base_uri": "https://localhost:8080/"
        },
        "id": "7rEwa5OOB1g0",
        "outputId": "cf043631-8b73-4ce5-c2c1-361e9b4c0ab3"
      },
      "outputs": [
        {
          "output_type": "stream",
          "name": "stderr",
          "text": [
            "100% (243 of 243) |######################| Elapsed Time: 0:04:43 Time:  0:04:43\n"
          ]
        }
      ],
      "source": [
        "extract_images(video_path= VIDEO_CROPPED_OUT, image_path=IMAGE_CROPPED_OUT, cropped=True)"
      ]
    },
    {
      "cell_type": "markdown",
      "metadata": {
        "id": "P6xshnDzCnJz"
      },
      "source": [
        "### 3.2. Preprocessing Images"
      ]
    },
    {
      "cell_type": "markdown",
      "metadata": {
        "id": "cYOWiAKhCtRE"
      },
      "source": [
        "#### Read image preprocessing metadata"
      ]
    },
    {
      "cell_type": "code",
      "execution_count": null,
      "metadata": {
        "colab": {
          "base_uri": "https://localhost:8080/",
          "height": 211
        },
        "id": "_WrwTN7ZCsax",
        "outputId": "68df127f-4f6f-4e01-fb1d-b13473601d01"
      },
      "outputs": [
        {
          "output_type": "stream",
          "name": "stdout",
          "text": [
            "(242, 17)\n"
          ]
        },
        {
          "output_type": "execute_result",
          "data": {
            "text/plain": [
              "                filename     source   probe  class  org_width  org_height  \\\n",
              "0  1_butterfly_covid.mp4  Butterfly  Convex  COVID        880        1080   \n",
              "1  2_butterfly_covid.mp4  Butterfly  Convex  COVID        720        1236   \n",
              "\n",
              "            cropped_filename  crp_width  crp_height need_mask_after_crop  \\\n",
              "0  1_butterfly_covid_prc.avi        820         820                  yes   \n",
              "1  2_butterfly_covid_prc.avi        624         624                  yes   \n",
              "\n",
              "  need_multiple_masks       frame_specific_masks  \\\n",
              "0                  no                        NaN   \n",
              "1                 yes  118-130, 134-139, 147-150   \n",
              "\n",
              "                delete_frames_from_to  \\\n",
              "0                                 NaN   \n",
              "1  131-133, 143-146, 154-202, 210-813   \n",
              "\n",
              "                             mask_main_filename tight_inpainting  version  \\\n",
              "0  1_butterfly_covid_prc_convex_frame0_mask.jpg               no      1.0   \n",
              "1  2_butterfly_covid_prc_convex_frame0_mask.jpg               no      1.0   \n",
              "\n",
              "  date_added  \n",
              "0   Nov_2020  \n",
              "1   Nov_2020  "
            ],
            "text/html": [
              "\n",
              "  <div id=\"df-86ecf780-ff1c-447f-b777-69301195ab08\">\n",
              "    <div class=\"colab-df-container\">\n",
              "      <div>\n",
              "<style scoped>\n",
              "    .dataframe tbody tr th:only-of-type {\n",
              "        vertical-align: middle;\n",
              "    }\n",
              "\n",
              "    .dataframe tbody tr th {\n",
              "        vertical-align: top;\n",
              "    }\n",
              "\n",
              "    .dataframe thead th {\n",
              "        text-align: right;\n",
              "    }\n",
              "</style>\n",
              "<table border=\"1\" class=\"dataframe\">\n",
              "  <thead>\n",
              "    <tr style=\"text-align: right;\">\n",
              "      <th></th>\n",
              "      <th>filename</th>\n",
              "      <th>source</th>\n",
              "      <th>probe</th>\n",
              "      <th>class</th>\n",
              "      <th>org_width</th>\n",
              "      <th>org_height</th>\n",
              "      <th>cropped_filename</th>\n",
              "      <th>crp_width</th>\n",
              "      <th>crp_height</th>\n",
              "      <th>need_mask_after_crop</th>\n",
              "      <th>need_multiple_masks</th>\n",
              "      <th>frame_specific_masks</th>\n",
              "      <th>delete_frames_from_to</th>\n",
              "      <th>mask_main_filename</th>\n",
              "      <th>tight_inpainting</th>\n",
              "      <th>version</th>\n",
              "      <th>date_added</th>\n",
              "    </tr>\n",
              "  </thead>\n",
              "  <tbody>\n",
              "    <tr>\n",
              "      <th>0</th>\n",
              "      <td>1_butterfly_covid.mp4</td>\n",
              "      <td>Butterfly</td>\n",
              "      <td>Convex</td>\n",
              "      <td>COVID</td>\n",
              "      <td>880</td>\n",
              "      <td>1080</td>\n",
              "      <td>1_butterfly_covid_prc.avi</td>\n",
              "      <td>820</td>\n",
              "      <td>820</td>\n",
              "      <td>yes</td>\n",
              "      <td>no</td>\n",
              "      <td>NaN</td>\n",
              "      <td>NaN</td>\n",
              "      <td>1_butterfly_covid_prc_convex_frame0_mask.jpg</td>\n",
              "      <td>no</td>\n",
              "      <td>1.0</td>\n",
              "      <td>Nov_2020</td>\n",
              "    </tr>\n",
              "    <tr>\n",
              "      <th>1</th>\n",
              "      <td>2_butterfly_covid.mp4</td>\n",
              "      <td>Butterfly</td>\n",
              "      <td>Convex</td>\n",
              "      <td>COVID</td>\n",
              "      <td>720</td>\n",
              "      <td>1236</td>\n",
              "      <td>2_butterfly_covid_prc.avi</td>\n",
              "      <td>624</td>\n",
              "      <td>624</td>\n",
              "      <td>yes</td>\n",
              "      <td>yes</td>\n",
              "      <td>118-130, 134-139, 147-150</td>\n",
              "      <td>131-133, 143-146, 154-202, 210-813</td>\n",
              "      <td>2_butterfly_covid_prc_convex_frame0_mask.jpg</td>\n",
              "      <td>no</td>\n",
              "      <td>1.0</td>\n",
              "      <td>Nov_2020</td>\n",
              "    </tr>\n",
              "  </tbody>\n",
              "</table>\n",
              "</div>\n",
              "      <button class=\"colab-df-convert\" onclick=\"convertToInteractive('df-86ecf780-ff1c-447f-b777-69301195ab08')\"\n",
              "              title=\"Convert this dataframe to an interactive table.\"\n",
              "              style=\"display:none;\">\n",
              "        \n",
              "  <svg xmlns=\"http://www.w3.org/2000/svg\" height=\"24px\"viewBox=\"0 0 24 24\"\n",
              "       width=\"24px\">\n",
              "    <path d=\"M0 0h24v24H0V0z\" fill=\"none\"/>\n",
              "    <path d=\"M18.56 5.44l.94 2.06.94-2.06 2.06-.94-2.06-.94-.94-2.06-.94 2.06-2.06.94zm-11 1L8.5 8.5l.94-2.06 2.06-.94-2.06-.94L8.5 2.5l-.94 2.06-2.06.94zm10 10l.94 2.06.94-2.06 2.06-.94-2.06-.94-.94-2.06-.94 2.06-2.06.94z\"/><path d=\"M17.41 7.96l-1.37-1.37c-.4-.4-.92-.59-1.43-.59-.52 0-1.04.2-1.43.59L10.3 9.45l-7.72 7.72c-.78.78-.78 2.05 0 2.83L4 21.41c.39.39.9.59 1.41.59.51 0 1.02-.2 1.41-.59l7.78-7.78 2.81-2.81c.8-.78.8-2.07 0-2.86zM5.41 20L4 18.59l7.72-7.72 1.47 1.35L5.41 20z\"/>\n",
              "  </svg>\n",
              "      </button>\n",
              "      \n",
              "  <style>\n",
              "    .colab-df-container {\n",
              "      display:flex;\n",
              "      flex-wrap:wrap;\n",
              "      gap: 12px;\n",
              "    }\n",
              "\n",
              "    .colab-df-convert {\n",
              "      background-color: #E8F0FE;\n",
              "      border: none;\n",
              "      border-radius: 50%;\n",
              "      cursor: pointer;\n",
              "      display: none;\n",
              "      fill: #1967D2;\n",
              "      height: 32px;\n",
              "      padding: 0 0 0 0;\n",
              "      width: 32px;\n",
              "    }\n",
              "\n",
              "    .colab-df-convert:hover {\n",
              "      background-color: #E2EBFA;\n",
              "      box-shadow: 0px 1px 2px rgba(60, 64, 67, 0.3), 0px 1px 3px 1px rgba(60, 64, 67, 0.15);\n",
              "      fill: #174EA6;\n",
              "    }\n",
              "\n",
              "    [theme=dark] .colab-df-convert {\n",
              "      background-color: #3B4455;\n",
              "      fill: #D2E3FC;\n",
              "    }\n",
              "\n",
              "    [theme=dark] .colab-df-convert:hover {\n",
              "      background-color: #434B5C;\n",
              "      box-shadow: 0px 1px 3px 1px rgba(0, 0, 0, 0.15);\n",
              "      filter: drop-shadow(0px 1px 2px rgba(0, 0, 0, 0.3));\n",
              "      fill: #FFFFFF;\n",
              "    }\n",
              "  </style>\n",
              "\n",
              "      <script>\n",
              "        const buttonEl =\n",
              "          document.querySelector('#df-86ecf780-ff1c-447f-b777-69301195ab08 button.colab-df-convert');\n",
              "        buttonEl.style.display =\n",
              "          google.colab.kernel.accessAllowed ? 'block' : 'none';\n",
              "\n",
              "        async function convertToInteractive(key) {\n",
              "          const element = document.querySelector('#df-86ecf780-ff1c-447f-b777-69301195ab08');\n",
              "          const dataTable =\n",
              "            await google.colab.kernel.invokeFunction('convertToInteractive',\n",
              "                                                     [key], {});\n",
              "          if (!dataTable) return;\n",
              "\n",
              "          const docLinkHtml = 'Like what you see? Visit the ' +\n",
              "            '<a target=\"_blank\" href=https://colab.research.google.com/notebooks/data_table.ipynb>data table notebook</a>'\n",
              "            + ' to learn more about interactive tables.';\n",
              "          element.innerHTML = '';\n",
              "          dataTable['output_type'] = 'display_data';\n",
              "          await google.colab.output.renderOutput(dataTable, element);\n",
              "          const docLink = document.createElement('div');\n",
              "          docLink.innerHTML = docLinkHtml;\n",
              "          element.appendChild(docLink);\n",
              "        }\n",
              "      </script>\n",
              "    </div>\n",
              "  </div>\n",
              "  "
            ]
          },
          "metadata": {},
          "execution_count": 32
        }
      ],
      "source": [
        "image_prc_df = pd.read_csv('https://raw.githubusercontent.com/nrc-cnrc/COVID-US/main/utils/mask_metadata.csv')\n",
        "\n",
        "image_prc_df = image_prc_df[image_prc_df.filename !='22_butterfly_covid.mp4'] # 22_butterfly_covid.mp4 was removed in March release of butterfly\n",
        "\n",
        "print(image_prc_df.shape)\n",
        "image_prc_df.head(2)"
      ]
    },
    {
      "cell_type": "markdown",
      "metadata": {
        "id": "xgW3h7cUC7wP"
      },
      "source": [
        "### 3.2.1. Removing frames with artifacts on the ROI"
      ]
    },
    {
      "cell_type": "code",
      "execution_count": null,
      "metadata": {
        "colab": {
          "base_uri": "https://localhost:8080/"
        },
        "id": "aApbB4UnCqfd",
        "outputId": "6468ae95-a1cc-4c2d-da86-82b4a56704e7"
      },
      "outputs": [
        {
          "output_type": "stream",
          "name": "stderr",
          "text": [
            "100% (7 of 7) |##########################| Elapsed Time: 0:00:02 Time:  0:00:02\n"
          ]
        },
        {
          "output_type": "stream",
          "name": "stdout",
          "text": [
            "=== Files removed! ===\n"
          ]
        }
      ],
      "source": [
        "progress = ProgressBar(max_value=image_prc_df[~pd.isna(image_prc_df.delete_frames_from_to)].shape[0])\n",
        "\n",
        "for idx, row in progress(image_prc_df[~pd.isna(image_prc_df.delete_frames_from_to)].iterrows()):\n",
        "    frames_to_delete = row.delete_frames_from_to.strip().split(',')\n",
        "    frame_name_main = row.mask_main_filename.split('.')[0].split('_frame')[0]\n",
        "    \n",
        "    for frames in frames_to_delete:\n",
        "        from_frame = int(frames.split('-')[0])\n",
        "        to_frame = int(frames.split('-')[1]) + 1\n",
        "        \n",
        "        # delete frames with moving part on the roi\n",
        "        for i in range(from_frame, to_frame):\n",
        "            file_to_remove = IMAGE_CROPPED_OUT + frame_name_main + '_frame' + str(i) + '.jpg'\n",
        "            if os.path.exists(file_to_remove):\n",
        "                os.remove(file_to_remove)\n",
        "\n",
        "print(\"=== Files removed! ===\")"
      ]
    },
    {
      "cell_type": "markdown",
      "metadata": {
        "id": "Vof6Z4enDF-c"
      },
      "source": [
        "### 3.2.2. Applying masks"
      ]
    },
    {
      "cell_type": "code",
      "execution_count": null,
      "metadata": {
        "id": "omYYa5ZyDDfU"
      },
      "outputs": [],
      "source": [
        "CLEAN_IMAGE_OUT = 'data/image/clean/'\n",
        "CLEAN_VIDEO_OUT = 'data/video/clean/'\n",
        "\n",
        "# create clean image and video folders if they don't already exist\n",
        "if not os.path.exists(CLEAN_IMAGE_OUT):\n",
        "    os.makedirs(CLEAN_IMAGE_OUT)\n",
        "if not os.path.exists(CLEAN_VIDEO_OUT):\n",
        "    os.makedirs(CLEAN_VIDEO_OUT)"
      ]
    },
    {
      "cell_type": "code",
      "execution_count": null,
      "metadata": {
        "id": "oOXw4x72DL_n"
      },
      "outputs": [],
      "source": [
        "def zero_pad_array(arr, pad=5):\n",
        "    if len(arr.shape) == 3:\n",
        "        padded_arr = np.zeros((arr.shape[0]+2*pad, arr.shape[1]+2*pad, arr.shape[2]), dtype=np.uint8)\n",
        "        padded_arr[pad:pad + arr.shape[0], pad:pad + arr.shape[1], :] = arr\n",
        "    else:\n",
        "        padded_arr = np.zeros((arr.shape[0]+2*pad, arr.shape[1]+2*pad), dtype=np.uint8)\n",
        "        padded_arr[pad:pad + arr.shape[0], pad:pad + arr.shape[1]] = arr\n",
        "    return padded_arr\n",
        "        \n",
        "\n",
        "def frame_inpainting(frame_dict, mask, default_mask=0, kernel_size=(5,5), method='telea', pad=5):\n",
        "    '''\n",
        "    The function performs inpainting on frames using the created masks\n",
        "    \n",
        "    - frame_dict: dict of frames from video, indexed by frame number\n",
        "    - mask: (h, w, 1) array if single mask, else dict of such arrays\n",
        "        indexed by frame number\n",
        "    - default_mask: index for mask to be used as default, for frames\n",
        "        without specific mask (if mask is not constant across frames)\n",
        "    - kernel_size: Size of patch used to perform inpainting\n",
        "    - method: one of 'ns' (navier-stokes) or 'telea' - telea usually works better\n",
        "    '''\n",
        "    # Dilate mask make sure it covers enough of the ROI to be masked\n",
        "    kernel = np.ones(kernel_size, np.uint8)\n",
        "    if type(mask) is not dict:\n",
        "        mask = {default_mask: mask}\n",
        "    masks_processed = {key:cv2.dilate(zero_pad_array(m, pad=pad), kernel, iterations=1) for key, m in mask.items()}\n",
        "    \n",
        "    method_dict = {'ns':cv2.INPAINT_NS, 'telea':cv2.INPAINT_TELEA}\n",
        "    \n",
        "    frames_inpainted = {}\n",
        "    for key, frame in frame_dict.items():\n",
        "        if key in masks_processed:\n",
        "            #print(frame.shape, masks_processed[key].shape)\n",
        "            frames_inpainted[key] = cv2.inpaint(zero_pad_array(frame, pad=pad), masks_processed[key], 3, method_dict[method])[pad:-pad, pad:-pad, :]\n",
        "        else: # default mask\n",
        "            frames_inpainted[key] = cv2.inpaint(zero_pad_array(frame, pad=pad), masks_processed[default_mask], 3, method_dict[method])[pad:-pad, pad:-pad, :]\n",
        "\n",
        "    return frames_inpainted"
      ]
    },
    {
      "cell_type": "code",
      "execution_count": null,
      "metadata": {
        "id": "mEtjuJPnFZw3",
        "colab": {
          "base_uri": "https://localhost:8080/"
        },
        "outputId": "47861c3f-cb58-4bc5-c2de-ff7e7a714766"
      },
      "outputs": [
        {
          "output_type": "stream",
          "name": "stdout",
          "text": [
            "There are  18628  images in training dataset\n"
          ]
        }
      ],
      "source": [
        "import os\n",
        "\n",
        "files = os.listdir(\"/content/drive/MyDrive/data/image/original\")\n",
        "file_count = len(files)\n",
        "print(\"There are \",file_count,\" images in training dataset\")"
      ]
    },
    {
      "cell_type": "code",
      "source": [
        "#Extracting name and dimensions of images\n",
        "from PIL import Image\n",
        "names = []\n",
        "width = []\n",
        "height = []\n",
        "from pathlib import Path\n",
        "p= Path().cwd()\n",
        "q = p/'data'/'image'/'original'\n",
        "\n",
        "for i in q.iterdir():\n",
        "  names.append(i)\n",
        "  img = Image.open(i)\n",
        "  width.append(img.width)\n",
        "  height.append(img.height)\n",
        "\n",
        "  "
      ],
      "metadata": {
        "id": "WesyREzkiRaD"
      },
      "execution_count": null,
      "outputs": []
    },
    {
      "cell_type": "code",
      "source": [
        "#Converting lists to a dataframe\n",
        "\n",
        "image_details = {'image_name' : names, 'width' : width,'height' : height }\n",
        "\n",
        "\n",
        "image_details = pd.DataFrame(image_details, columns = ['image_name','width','height'])"
      ],
      "metadata": {
        "id": "1u8NtorJGUhV"
      },
      "execution_count": null,
      "outputs": []
    },
    {
      "cell_type": "code",
      "source": [
        "image_details.head()"
      ],
      "metadata": {
        "colab": {
          "base_uri": "https://localhost:8080/",
          "height": 206
        },
        "id": "By8rehalH3tp",
        "outputId": "abef2630-77ac-4e52-a9d4-2bae08c521eb"
      },
      "execution_count": null,
      "outputs": [
        {
          "output_type": "execute_result",
          "data": {
            "text/plain": [
              "                                          image_name  width  height\n",
              "0  /content/drive/MyDrive/data/image/original/100...    480     360\n",
              "1  /content/drive/MyDrive/data/image/original/100...    480     360\n",
              "2  /content/drive/MyDrive/data/image/original/100...    480     360\n",
              "3  /content/drive/MyDrive/data/image/original/100...    480     360\n",
              "4  /content/drive/MyDrive/data/image/original/100...    480     360"
            ],
            "text/html": [
              "\n",
              "  <div id=\"df-c9f0e078-b364-43f4-8a8a-47759f48f49a\">\n",
              "    <div class=\"colab-df-container\">\n",
              "      <div>\n",
              "<style scoped>\n",
              "    .dataframe tbody tr th:only-of-type {\n",
              "        vertical-align: middle;\n",
              "    }\n",
              "\n",
              "    .dataframe tbody tr th {\n",
              "        vertical-align: top;\n",
              "    }\n",
              "\n",
              "    .dataframe thead th {\n",
              "        text-align: right;\n",
              "    }\n",
              "</style>\n",
              "<table border=\"1\" class=\"dataframe\">\n",
              "  <thead>\n",
              "    <tr style=\"text-align: right;\">\n",
              "      <th></th>\n",
              "      <th>image_name</th>\n",
              "      <th>width</th>\n",
              "      <th>height</th>\n",
              "    </tr>\n",
              "  </thead>\n",
              "  <tbody>\n",
              "    <tr>\n",
              "      <th>0</th>\n",
              "      <td>/content/drive/MyDrive/data/image/original/100...</td>\n",
              "      <td>480</td>\n",
              "      <td>360</td>\n",
              "    </tr>\n",
              "    <tr>\n",
              "      <th>1</th>\n",
              "      <td>/content/drive/MyDrive/data/image/original/100...</td>\n",
              "      <td>480</td>\n",
              "      <td>360</td>\n",
              "    </tr>\n",
              "    <tr>\n",
              "      <th>2</th>\n",
              "      <td>/content/drive/MyDrive/data/image/original/100...</td>\n",
              "      <td>480</td>\n",
              "      <td>360</td>\n",
              "    </tr>\n",
              "    <tr>\n",
              "      <th>3</th>\n",
              "      <td>/content/drive/MyDrive/data/image/original/100...</td>\n",
              "      <td>480</td>\n",
              "      <td>360</td>\n",
              "    </tr>\n",
              "    <tr>\n",
              "      <th>4</th>\n",
              "      <td>/content/drive/MyDrive/data/image/original/100...</td>\n",
              "      <td>480</td>\n",
              "      <td>360</td>\n",
              "    </tr>\n",
              "  </tbody>\n",
              "</table>\n",
              "</div>\n",
              "      <button class=\"colab-df-convert\" onclick=\"convertToInteractive('df-c9f0e078-b364-43f4-8a8a-47759f48f49a')\"\n",
              "              title=\"Convert this dataframe to an interactive table.\"\n",
              "              style=\"display:none;\">\n",
              "        \n",
              "  <svg xmlns=\"http://www.w3.org/2000/svg\" height=\"24px\"viewBox=\"0 0 24 24\"\n",
              "       width=\"24px\">\n",
              "    <path d=\"M0 0h24v24H0V0z\" fill=\"none\"/>\n",
              "    <path d=\"M18.56 5.44l.94 2.06.94-2.06 2.06-.94-2.06-.94-.94-2.06-.94 2.06-2.06.94zm-11 1L8.5 8.5l.94-2.06 2.06-.94-2.06-.94L8.5 2.5l-.94 2.06-2.06.94zm10 10l.94 2.06.94-2.06 2.06-.94-2.06-.94-.94-2.06-.94 2.06-2.06.94z\"/><path d=\"M17.41 7.96l-1.37-1.37c-.4-.4-.92-.59-1.43-.59-.52 0-1.04.2-1.43.59L10.3 9.45l-7.72 7.72c-.78.78-.78 2.05 0 2.83L4 21.41c.39.39.9.59 1.41.59.51 0 1.02-.2 1.41-.59l7.78-7.78 2.81-2.81c.8-.78.8-2.07 0-2.86zM5.41 20L4 18.59l7.72-7.72 1.47 1.35L5.41 20z\"/>\n",
              "  </svg>\n",
              "      </button>\n",
              "      \n",
              "  <style>\n",
              "    .colab-df-container {\n",
              "      display:flex;\n",
              "      flex-wrap:wrap;\n",
              "      gap: 12px;\n",
              "    }\n",
              "\n",
              "    .colab-df-convert {\n",
              "      background-color: #E8F0FE;\n",
              "      border: none;\n",
              "      border-radius: 50%;\n",
              "      cursor: pointer;\n",
              "      display: none;\n",
              "      fill: #1967D2;\n",
              "      height: 32px;\n",
              "      padding: 0 0 0 0;\n",
              "      width: 32px;\n",
              "    }\n",
              "\n",
              "    .colab-df-convert:hover {\n",
              "      background-color: #E2EBFA;\n",
              "      box-shadow: 0px 1px 2px rgba(60, 64, 67, 0.3), 0px 1px 3px 1px rgba(60, 64, 67, 0.15);\n",
              "      fill: #174EA6;\n",
              "    }\n",
              "\n",
              "    [theme=dark] .colab-df-convert {\n",
              "      background-color: #3B4455;\n",
              "      fill: #D2E3FC;\n",
              "    }\n",
              "\n",
              "    [theme=dark] .colab-df-convert:hover {\n",
              "      background-color: #434B5C;\n",
              "      box-shadow: 0px 1px 3px 1px rgba(0, 0, 0, 0.15);\n",
              "      filter: drop-shadow(0px 1px 2px rgba(0, 0, 0, 0.3));\n",
              "      fill: #FFFFFF;\n",
              "    }\n",
              "  </style>\n",
              "\n",
              "      <script>\n",
              "        const buttonEl =\n",
              "          document.querySelector('#df-c9f0e078-b364-43f4-8a8a-47759f48f49a button.colab-df-convert');\n",
              "        buttonEl.style.display =\n",
              "          google.colab.kernel.accessAllowed ? 'block' : 'none';\n",
              "\n",
              "        async function convertToInteractive(key) {\n",
              "          const element = document.querySelector('#df-c9f0e078-b364-43f4-8a8a-47759f48f49a');\n",
              "          const dataTable =\n",
              "            await google.colab.kernel.invokeFunction('convertToInteractive',\n",
              "                                                     [key], {});\n",
              "          if (!dataTable) return;\n",
              "\n",
              "          const docLinkHtml = 'Like what you see? Visit the ' +\n",
              "            '<a target=\"_blank\" href=https://colab.research.google.com/notebooks/data_table.ipynb>data table notebook</a>'\n",
              "            + ' to learn more about interactive tables.';\n",
              "          element.innerHTML = '';\n",
              "          dataTable['output_type'] = 'display_data';\n",
              "          await google.colab.output.renderOutput(dataTable, element);\n",
              "          const docLink = document.createElement('div');\n",
              "          docLink.innerHTML = docLinkHtml;\n",
              "          element.appendChild(docLink);\n",
              "        }\n",
              "      </script>\n",
              "    </div>\n",
              "  </div>\n",
              "  "
            ]
          },
          "metadata": {},
          "execution_count": 44
        }
      ]
    },
    {
      "cell_type": "code",
      "source": [
        "image_details.to_csv('image_details.csv')\n",
        "from google.colab import files\n",
        "\n",
        "files.download('image_details.csv')\n",
        "\n"
      ],
      "metadata": {
        "colab": {
          "base_uri": "https://localhost:8080/",
          "height": 17
        },
        "id": "EePrEZJ-JudS",
        "outputId": "f1dd5c6c-d0e9-4fb8-9722-e0f3e2b26a61"
      },
      "execution_count": null,
      "outputs": [
        {
          "output_type": "display_data",
          "data": {
            "text/plain": [
              "<IPython.core.display.Javascript object>"
            ],
            "application/javascript": [
              "\n",
              "    async function download(id, filename, size) {\n",
              "      if (!google.colab.kernel.accessAllowed) {\n",
              "        return;\n",
              "      }\n",
              "      const div = document.createElement('div');\n",
              "      const label = document.createElement('label');\n",
              "      label.textContent = `Downloading \"${filename}\": `;\n",
              "      div.appendChild(label);\n",
              "      const progress = document.createElement('progress');\n",
              "      progress.max = size;\n",
              "      div.appendChild(progress);\n",
              "      document.body.appendChild(div);\n",
              "\n",
              "      const buffers = [];\n",
              "      let downloaded = 0;\n",
              "\n",
              "      const channel = await google.colab.kernel.comms.open(id);\n",
              "      // Send a message to notify the kernel that we're ready.\n",
              "      channel.send({})\n",
              "\n",
              "      for await (const message of channel.messages) {\n",
              "        // Send a message to notify the kernel that we're ready.\n",
              "        channel.send({})\n",
              "        if (message.buffers) {\n",
              "          for (const buffer of message.buffers) {\n",
              "            buffers.push(buffer);\n",
              "            downloaded += buffer.byteLength;\n",
              "            progress.value = downloaded;\n",
              "          }\n",
              "        }\n",
              "      }\n",
              "      const blob = new Blob(buffers, {type: 'application/binary'});\n",
              "      const a = document.createElement('a');\n",
              "      a.href = window.URL.createObjectURL(blob);\n",
              "      a.download = filename;\n",
              "      div.appendChild(a);\n",
              "      a.click();\n",
              "      div.remove();\n",
              "    }\n",
              "  "
            ]
          },
          "metadata": {}
        },
        {
          "output_type": "display_data",
          "data": {
            "text/plain": [
              "<IPython.core.display.Javascript object>"
            ],
            "application/javascript": [
              "download(\"download_0ff7ddbb-d8a9-4cd9-912c-5dd09aa05899\", \"image_details.csv\", 1734468)"
            ]
          },
          "metadata": {}
        }
      ]
    }
  ],
  "metadata": {
    "accelerator": "GPU",
    "colab": {
      "collapsed_sections": [],
      "name": "Data_collection.ipynb",
      "provenance": []
    },
    "kernelspec": {
      "display_name": "Python 3",
      "name": "python3"
    },
    "language_info": {
      "name": "python"
    }
  },
  "nbformat": 4,
  "nbformat_minor": 0
}