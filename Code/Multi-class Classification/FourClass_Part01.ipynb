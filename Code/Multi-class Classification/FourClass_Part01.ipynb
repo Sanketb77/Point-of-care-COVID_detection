{
  "cells": [
    {
      "cell_type": "markdown",
      "metadata": {
        "id": "4LfXNzj5OKje"
      },
      "source": [
        "### Project Title : - Using Lung ultrasound images for building a reliable Point-of-care Covid-19 testing system"
      ]
    },
    {
      "cell_type": "markdown",
      "metadata": {
        "id": "s1pedcl7ORWG"
      },
      "source": [
        "#### Multi Classifier : For classifying lung ultrasound images into one of the categories : Covid, Pneumonia, Normal and Other"
      ]
    },
    {
      "cell_type": "code",
      "execution_count": null,
      "metadata": {
        "colab": {
          "base_uri": "https://localhost:8080/"
        },
        "id": "o2sL884ZOcTK",
        "outputId": "1ae5056b-e0bc-448e-f183-53d3d29c0f19"
      },
      "outputs": [
        {
          "output_type": "stream",
          "name": "stdout",
          "text": [
            "Mounted at /content/drive/\n"
          ]
        }
      ],
      "source": [
        "# mounting the google drive\n",
        "\n",
        "from google.colab import drive\n",
        "drive.mount(\"/content/drive/\")"
      ]
    },
    {
      "cell_type": "code",
      "execution_count": null,
      "metadata": {
        "colab": {
          "base_uri": "https://localhost:8080/"
        },
        "id": "X2BcxsLHTIlW",
        "outputId": "a85b3333-fceb-4759-91df-16df5796868e"
      },
      "outputs": [
        {
          "output_type": "stream",
          "name": "stdout",
          "text": [
            "/content/drive/MyDrive\n"
          ]
        }
      ],
      "source": [
        "#Changing the current working directory\n",
        "cd drive/MyDrive/"
      ]
    },
    {
      "cell_type": "markdown",
      "metadata": {
        "id": "wWCS0EcpPQe1"
      },
      "source": [
        "#### Moving images into appropriate folders as per their class"
      ]
    },
    {
      "cell_type": "code",
      "execution_count": null,
      "metadata": {
        "id": "pZrC-OiUOcab"
      },
      "outputs": [],
      "source": [
        "import shutil\n",
        "import os\n",
        "\n",
        "#Images belonging to all three classes except covid are present in the 'Non_covid' folder\n",
        "path = \"/content/drive/MyDrive/My_Dataset/non_covid/\"\n",
        "d_path = \"/content/drive/MyDrive/My_Dataset/\"\n",
        "\n",
        "#This piece of code moves images into their appropriate folders as per their class\n",
        "#Class is already included in the image file, the name has been used as a filtering criteria\n",
        "\n",
        "for file in os.listdir(path):\n",
        "    if 'normal' in file:\n",
        "        s = os.path.join(path,file)\n",
        "        d = os.path.join(d_path,\"Normal\")\n",
        "        new_path = shutil.move(s,d)\n",
        "    elif 'pneumonia' in file:\n",
        "        s = os.path.join(path,file)\n",
        "        d = os.path.join(d_path,\"Pneumonia\")\n",
        "        new_path = shutil.move(s,d)\n",
        "    elif 'other' in file:\n",
        "        s = os.path.join(path,file)\n",
        "        d = os.path.join(d_path,\"Other\")\n",
        "        new_path = shutil.move(s,d)"
      ]
    },
    {
      "cell_type": "markdown",
      "source": [
        "#### Dataset Verification"
      ],
      "metadata": {
        "id": "M4brF8Jf5A0Q"
      }
    },
    {
      "cell_type": "code",
      "execution_count": null,
      "metadata": {
        "colab": {
          "base_uri": "https://localhost:8080/"
        },
        "id": "YLEOCm0FPYxA",
        "outputId": "d39149c6-018b-4cda-f97d-24a3c7558b09"
      },
      "outputs": [
        {
          "name": "stdout",
          "output_type": "stream",
          "text": [
            "Class Normal :   1611  images\n",
            "Class Covid :   3995  images\n",
            "Class Pneumonia :   2855  images\n",
            "Class Other :   5335  images\n"
          ]
        }
      ],
      "source": [
        "#The following piece of code checks the number of images in each respective folder\n",
        "\n",
        "files = os.listdir(\"/content/drive/MyDrive/My_Dataset/Normal\")\n",
        "file_count = len(files)\n",
        "print(\"Class Normal :  \",file_count,\" images\")\n",
        "\n",
        "files = os.listdir(\"/content/drive/MyDrive/My_Dataset/covid\")\n",
        "file_count = len(files)\n",
        "print(\"Class Covid :  \",file_count,\" images\")\n",
        "\n",
        "files = os.listdir(\"/content/drive/MyDrive/My_Dataset/Pneumonia\")\n",
        "file_count = len(files)\n",
        "print(\"Class Pneumonia :  \",file_count,\" images\")\n",
        "\n",
        "files = os.listdir(\"/content/drive/MyDrive/My_Dataset/Other\")\n",
        "file_count = len(files)\n",
        "print(\"Class Other :  \",file_count,\" images\")"
      ]
    },
    {
      "cell_type": "markdown",
      "source": [
        "#### Splitting the dataset"
      ],
      "metadata": {
        "id": "K0geCmAm5HL2"
      }
    },
    {
      "cell_type": "code",
      "execution_count": null,
      "metadata": {
        "colab": {
          "base_uri": "https://localhost:8080/"
        },
        "id": "WjfK4AmVTSRp",
        "outputId": "0a27ac11-cdba-44c1-ec37-57b25dd66696"
      },
      "outputs": [
        {
          "name": "stdout",
          "output_type": "stream",
          "text": [
            "Looking in indexes: https://pypi.org/simple, https://us-python.pkg.dev/colab-wheels/public/simple/\n",
            "Collecting split-folders\n",
            "  Downloading split_folders-0.5.1-py3-none-any.whl (8.4 kB)\n",
            "Installing collected packages: split-folders\n",
            "Successfully installed split-folders-0.5.1\n"
          ]
        }
      ],
      "source": [
        "#Installing the library split-folders\n",
        "!pip install split-folders"
      ]
    },
    {
      "cell_type": "code",
      "execution_count": null,
      "metadata": {
        "colab": {
          "base_uri": "https://localhost:8080/"
        },
        "id": "IUMUKS_oTTGP",
        "outputId": "f49ff99b-3e77-432f-f358-4399c2f73c21"
      },
      "outputs": [
        {
          "name": "stderr",
          "output_type": "stream",
          "text": [
            "Copying files: 13771 files [06:24, 35.84 files/s] \n"
          ]
        }
      ],
      "source": [
        "import splitfolders\n",
        "\n",
        "#Splitting the entire dataset into training, testing and validation folders with 70%,20% and 10% percentages of the dataset respectively\n",
        "\n",
        "splitfolders.ratio('/content/drive/MyDrive/My_Dataset',output ='Four_class', ratio = (.7,0.1,0.2))"
      ]
    },
    {
      "cell_type": "markdown",
      "source": [
        "#### Image Loading and Pre-processing"
      ],
      "metadata": {
        "id": "XtU3owp95KsX"
      }
    },
    {
      "cell_type": "code",
      "execution_count": null,
      "metadata": {
        "colab": {
          "base_uri": "https://localhost:8080/"
        },
        "id": "ZvcM_cL3Rkeb",
        "outputId": "3b5b4ac1-8df0-4a73-af3a-c90258496c9e"
      },
      "outputs": [
        {
          "output_type": "stream",
          "name": "stdout",
          "text": [
            "Found 9638 images belonging to 4 classes.\n",
            "Found 2758 images belonging to 4 classes.\n",
            "Found 1375 images belonging to 4 classes.\n",
            "Batch shape=(512, 197, 198, 3), min=0.000, max=1.000\n"
          ]
        }
      ],
      "source": [
        "#Importing the necessary libraries\n",
        "\n",
        "import pathlib\n",
        "from pathlib import Path\n",
        "import tensorflow as tf\n",
        "from tensorflow.keras.preprocessing.image import ImageDataGenerator\n",
        "\n",
        "\n",
        "#Creating path for dataset folders\n",
        "p = Path().cwd()\n",
        "q = p/'Four_class'\n",
        "\n",
        "#Images would be fed into the model as a batch of this size\n",
        "batch_size = 512\n",
        "\n",
        "#Rescaling the pixel values\n",
        "train_datagen = ImageDataGenerator(rescale=1./255)\n",
        "\n",
        "test_datagen = ImageDataGenerator(rescale=1./255)\n",
        "\n",
        "val_datagen = ImageDataGenerator(rescale=1./255)\n",
        "\n",
        "\n",
        "#Creating data generators for all the three datasets\n",
        "\n",
        "train_generator = train_datagen.flow_from_directory(q/'train',target_size=(197,198), batch_size= batch_size,class_mode ='categorical')\n",
        "\n",
        "test_generator = test_datagen.flow_from_directory(q/'test',target_size= (197,198), batch_size= batch_size,class_mode ='categorical', shuffle = False)\n",
        "\n",
        "val_generator = val_datagen.flow_from_directory(q/'val',target_size=(197,198), batch_size= batch_size,class_mode ='categorical')\n",
        "\n",
        "# confirm the iterator works\n",
        "\n",
        "batchX, batchy = train_generator.next()\n",
        "print('Batch shape=%s, min=%.3f, max=%.3f' % (batchX.shape, batchX.min(), batchX.max()))\n"
      ]
    },
    {
      "cell_type": "markdown",
      "source": [
        "#### Computing class weights"
      ],
      "metadata": {
        "id": "qRUfRdy36U14"
      }
    },
    {
      "cell_type": "code",
      "execution_count": null,
      "metadata": {
        "colab": {
          "base_uri": "https://localhost:8080/"
        },
        "id": "T07jsdgvTfem",
        "outputId": "fe715e23-8240-4aef-a8b9-928b752476ad"
      },
      "outputs": [
        {
          "output_type": "execute_result",
          "data": {
            "text/plain": [
              "{0: 2.1436832740213525,\n",
              " 1: 0.6452865559721478,\n",
              " 2: 1.2144657258064515,\n",
              " 3: 0.8617668097281831}"
            ]
          },
          "metadata": {},
          "execution_count": 5
        }
      ],
      "source": [
        "from sklearn.utils import class_weight\n",
        "import numpy as np\n",
        "\n",
        "#Picking up the classes available in training data\n",
        "\n",
        "train_classes = train_generator.classes[train_generator.index_array]\n",
        "\n",
        "#Computing weight for each class keeping them balanced \n",
        "\n",
        "#The classes will be given weights as such they are given equal importance during model training\n",
        "\n",
        "class_weights = class_weight.compute_class_weight(\n",
        "                                        class_weight = \"balanced\",\n",
        "                                        classes = np.unique(train_classes),\n",
        "                                        y = train_classes                                                    \n",
        "                                    )\n",
        "\n",
        "#Th dictionary contains weights for all classes\n",
        "\n",
        "class_weights = dict(zip(np.unique(train_classes), class_weights))\n",
        "class_weights\n"
      ]
    },
    {
      "cell_type": "markdown",
      "metadata": {
        "id": "uMSxQRhfDxve"
      },
      "source": [
        "#### Pre-trained network - ResNet50V2"
      ]
    },
    {
      "cell_type": "code",
      "execution_count": null,
      "metadata": {
        "colab": {
          "base_uri": "https://localhost:8080/"
        },
        "id": "-Fsl9xWhD3_O",
        "outputId": "d57c647a-0923-441b-a720-1ac8ca0d53ac"
      },
      "outputs": [
        {
          "output_type": "stream",
          "name": "stdout",
          "text": [
            "Downloading data from https://storage.googleapis.com/tensorflow/keras-applications/resnet/resnet50v2_weights_tf_dim_ordering_tf_kernels_notop.h5\n",
            "94674944/94668760 [==============================] - 0s 0us/step\n",
            "94683136/94668760 [==============================] - 0s 0us/step\n"
          ]
        }
      ],
      "source": [
        "#getting the feature extractor part of the model\n",
        "\n",
        "pretrained= tf.keras.applications.ResNet50V2(include_top=False,\n",
        "                   input_shape=(197,198, 3), weights='imagenet')\n",
        "\n",
        "#Freezing all of its layers as we wish to retain it's parameters\n",
        "\n",
        "pretrained.trainable=False\n"
      ]
    },
    {
      "cell_type": "code",
      "execution_count": null,
      "metadata": {
        "colab": {
          "base_uri": "https://localhost:8080/"
        },
        "id": "TCUKLpJgD4ou",
        "outputId": "793edf7b-a63e-4189-a74a-6a83117d4b7f"
      },
      "outputs": [
        {
          "output_type": "stream",
          "name": "stdout",
          "text": [
            "Model: \"model\"\n",
            "_________________________________________________________________\n",
            " Layer (type)                Output Shape              Param #   \n",
            "=================================================================\n",
            " input_2 (InputLayer)        [(None, 197, 198, 3)]     0         \n",
            "                                                                 \n",
            " resnet50v2 (Functional)     (None, 7, 7, 2048)        23564800  \n",
            "                                                                 \n",
            " flatten (Flatten)           (None, 100352)            0         \n",
            "                                                                 \n",
            " dense (Dense)               (None, 512)               51380736  \n",
            "                                                                 \n",
            " dropout (Dropout)           (None, 512)               0         \n",
            "                                                                 \n",
            " dense_1 (Dense)             (None, 4)                 2052      \n",
            "                                                                 \n",
            "=================================================================\n",
            "Total params: 74,947,588\n",
            "Trainable params: 51,382,788\n",
            "Non-trainable params: 23,564,800\n",
            "_________________________________________________________________\n"
          ]
        }
      ],
      "source": [
        "#Model's classifier part\n",
        "\n",
        "inputs = tf.keras.Input(shape=(197,198,3))\n",
        "x = pretrained(inputs)\n",
        "x = tf.keras.layers.Flatten()(x)\n",
        "x = tf.keras.layers.Dense(512)(x)\n",
        "x = tf.keras.layers.Dropout(0.5)(x)\n",
        "outputs = tf.keras.layers.Dense(4, activation=\"softmax\")(x)\n",
        "\n",
        "my_model = tf.keras.Model(inputs, outputs)\n",
        "\n",
        "#Getting the model architecture\n",
        "my_model.summary()\n"
      ]
    },
    {
      "cell_type": "code",
      "execution_count": null,
      "metadata": {
        "id": "MCflKWf3D4_6"
      },
      "outputs": [],
      "source": [
        "#Compiling the model with the appropriate parameters\n",
        "\n",
        "my_model.compile(loss=\"categorical_crossentropy\",optimizer = 'rmsprop', metrics=[\"accuracy\"])\n",
        "\n",
        "#We wish to track the validation loss and save the best model\n",
        "\n",
        "callbacks = tf.keras.callbacks.ModelCheckpoint(filepath=\"xcep.keras\",\n",
        "                                            save_best_only=True,\n",
        "                                            monitor=\"val_loss\")\n"
      ]
    },
    {
      "cell_type": "code",
      "execution_count": null,
      "metadata": {
        "colab": {
          "base_uri": "https://localhost:8080/"
        },
        "id": "AbyWtBh-D5Nl",
        "outputId": "ec1fb5d8-545d-4aa7-9fbc-13379cda1b0d"
      },
      "outputs": [
        {
          "output_type": "stream",
          "name": "stdout",
          "text": [
            "Epoch 1/7\n",
            "19/19 [==============================] - 982s 53s/step - loss: 32.8836 - accuracy: 0.8716 - val_loss: 6.3056 - val_accuracy: 0.9629\n",
            "Epoch 2/7\n",
            "19/19 [==============================] - 86s 5s/step - loss: 25.8960 - accuracy: 0.8978 - val_loss: 4.0030 - val_accuracy: 0.9673\n",
            "Epoch 3/7\n",
            "19/19 [==============================] - 86s 4s/step - loss: 7.2058 - accuracy: 0.9687 - val_loss: 3.3612 - val_accuracy: 0.9658\n",
            "Epoch 4/7\n",
            "19/19 [==============================] - 82s 4s/step - loss: 8.9608 - accuracy: 0.9654 - val_loss: 5.4548 - val_accuracy: 0.9687\n",
            "Epoch 5/7\n",
            "19/19 [==============================] - 82s 4s/step - loss: 20.8506 - accuracy: 0.9071 - val_loss: 11.7666 - val_accuracy: 0.9695\n",
            "Epoch 6/7\n",
            "19/19 [==============================] - 81s 4s/step - loss: 6.1200 - accuracy: 0.9706 - val_loss: 24.1014 - val_accuracy: 0.9673\n",
            "Epoch 7/7\n",
            "19/19 [==============================] - 81s 4s/step - loss: 8.0492 - accuracy: 0.9662 - val_loss: 33.7292 - val_accuracy: 0.8785\n"
          ]
        }
      ],
      "source": [
        "#Training the model, the class weight parameter has been set up to the computed weights \n",
        "\n",
        "my_model.fit( train_generator,steps_per_epoch = len(train_generator),epochs= 7 , validation_data= val_generator,\n",
        "             validation_steps = len(val_generator), callbacks = [callbacks], class_weight = class_weights)"
      ]
    },
    {
      "cell_type": "code",
      "source": [
        "my_model.save(\"classification_model.hdf5\")"
      ],
      "metadata": {
        "id": "dKbe62KN3XnL"
      },
      "execution_count": null,
      "outputs": []
    },
    {
      "cell_type": "code",
      "execution_count": null,
      "metadata": {
        "id": "J6Ylrm6CD5ZD",
        "colab": {
          "base_uri": "https://localhost:8080/"
        },
        "outputId": "6d987974-d6c7-4bab-ba4e-57b0544e9bc1"
      },
      "outputs": [
        {
          "output_type": "stream",
          "name": "stderr",
          "text": [
            "/usr/local/lib/python3.7/dist-packages/ipykernel_launcher.py:5: UserWarning: `Model.predict_generator` is deprecated and will be removed in a future version. Please use `Model.predict`, which supports generators.\n",
            "  \"\"\"\n"
          ]
        }
      ],
      "source": [
        "import numpy as np\n",
        "\n",
        "#The model is now being used for making predictions on the test dataset\n",
        "predict = my_model.predict_generator(\n",
        "    test_generator, workers=0, verbose=0\n",
        ")\n",
        "\n",
        "#Getting class of the predictions made\n",
        "predictedClass = np.argmax(predict, axis=1)\n",
        "\n",
        "#True class of every image in test data\n",
        "trueClass = test_generator.classes[test_generator.index_array]"
      ]
    },
    {
      "cell_type": "code",
      "execution_count": null,
      "metadata": {
        "id": "-xNxao2pD5Zb",
        "colab": {
          "base_uri": "https://localhost:8080/"
        },
        "outputId": "03845dde-e98a-4fde-8b24-2c0fe08af416"
      },
      "outputs": [
        {
          "output_type": "stream",
          "name": "stdout",
          "text": [
            "Precision score is  0.8924342274539795\n",
            "Accuracy score is  0.8788977519941987\n",
            "Recall is  0.8788977519941987\n",
            "F1 score is  0.8564578125237854\n"
          ]
        }
      ],
      "source": [
        "from sklearn.metrics import precision_score\n",
        "from sklearn.metrics import accuracy_score\n",
        "from sklearn.metrics import recall_score\n",
        "from sklearn.metrics import f1_score\n",
        "import numpy as np\n",
        "\n",
        "#Computing the performance metrics\n",
        "print(\"Precision score is \", precision_score(trueClass, predictedClass, average = \"weighted\"))\n",
        "print(\"Accuracy score is \", accuracy_score(trueClass, predictedClass))\n",
        "print(\"Recall is \",recall_score(trueClass, predictedClass,average = \"weighted\"))\n",
        "print(\"F1 score is \",f1_score(trueClass, predictedClass,average = \"weighted\"))"
      ]
    },
    {
      "cell_type": "code",
      "execution_count": null,
      "metadata": {
        "id": "X0Dv89jTD5bX",
        "colab": {
          "base_uri": "https://localhost:8080/",
          "height": 938
        },
        "outputId": "7568c3d4-df02-42dd-ec51-a7c83a3c7dd7"
      },
      "outputs": [
        {
          "output_type": "display_data",
          "data": {
            "text/plain": [
              "<Figure size 1440x720 with 1 Axes>"
            ],
            "image/png": "[encoded data removed]"
          },
          "metadata": {
            "needs_background": "light"
          }
        }
      ],
      "source": [
        "#Visualizing the confusion matrix\n",
        "import seaborn as sns\n",
        "from sklearn.metrics import confusion_matrix\n",
        "import matplotlib.pyplot as plt\n",
        "\n",
        "\n",
        "# Get the names of the ten classes\n",
        "class_names = test_generator.class_indices.keys()\n",
        "\n",
        "true_classes = test_generator.classes\n",
        "\n",
        "class_names = test_generator.class_indices.keys()\n",
        "\n",
        "def plot_heatmap(y_true, y_pred, class_names, ax, title):\n",
        "    cm = confusion_matrix(y_true, y_pred)\n",
        "    sns.heatmap(\n",
        "        cm, \n",
        "        annot=True, \n",
        "        square=True, \n",
        "        xticklabels=class_names, \n",
        "        yticklabels=class_names,\n",
        "        fmt='d', \n",
        "        cmap=plt.cm.Blues,\n",
        "        cbar=False,\n",
        "        ax=ax\n",
        "    )\n",
        "    ax.set_title(title, fontsize=16)\n",
        "    ax.set_xticklabels(ax.get_xticklabels(), rotation=45, ha=\"right\")\n",
        "    ax.set_ylabel('True Label', fontsize=12)\n",
        "    ax.set_xlabel('Predicted Label', fontsize=12)\n",
        "\n",
        "fig, (ax1) = plt.subplots(1, 1, figsize=(20, 10))\n",
        "\n",
        "plot_heatmap(trueClass, predictedClass, class_names, ax1, title=\"Baseline model\")    \n",
        "\n",
        "fig.suptitle(\"Confusion Matrix\", fontsize=24)\n",
        "fig.tight_layout()\n",
        "fig.subplots_adjust(top=1.25)\n",
        "plt.show()"
      ]
    },
    {
      "cell_type": "markdown",
      "source": [
        "#### Pre-trained model - Xception"
      ],
      "metadata": {
        "id": "5U99bFLzBFcl"
      }
    },
    {
      "cell_type": "code",
      "source": [
        "#getting the feature extractor part of the model\n",
        "\n",
        "pretrained= tf.keras.applications.Xception(include_top=False,\n",
        "                   input_shape=(197,198, 3), weights='imagenet')\n",
        "\n",
        "#Freezing all of its layers as we wish to retain it's parameters\n",
        "\n",
        "pretrained.trainable=False\n"
      ],
      "metadata": {
        "colab": {
          "base_uri": "https://localhost:8080/"
        },
        "id": "L7-I2iqEBE8L",
        "outputId": "039ebdfb-dc81-49c7-fea3-f49061128566"
      },
      "execution_count": null,
      "outputs": [
        {
          "output_type": "stream",
          "name": "stdout",
          "text": [
            "Downloading data from https://storage.googleapis.com/tensorflow/keras-applications/xception/xception_weights_tf_dim_ordering_tf_kernels_notop.h5\n",
            "83689472/83683744 [==============================] - 1s 0us/step\n",
            "83697664/83683744 [==============================] - 1s 0us/step\n"
          ]
        }
      ]
    },
    {
      "cell_type": "code",
      "source": [
        "#Model's classifier part\n",
        "\n",
        "inputs = tf.keras.Input(shape=(197,198,3))\n",
        "x = pretrained(inputs)\n",
        "x = tf.keras.layers.Flatten()(x)\n",
        "x = tf.keras.layers.Dense(512)(x)\n",
        "x = tf.keras.layers.Dropout(0.5)(x)\n",
        "outputs = tf.keras.layers.Dense(4, activation=\"softmax\")(x)\n",
        "\n",
        "xcep = tf.keras.Model(inputs, outputs)\n",
        "\n",
        "#Getting the model architecture\n",
        "xcep.summary()\n"
      ],
      "metadata": {
        "colab": {
          "base_uri": "https://localhost:8080/"
        },
        "id": "SQfu7YbnBJxT",
        "outputId": "86c8a838-07f6-40ab-bc2e-d2a95ebe4bc7"
      },
      "execution_count": null,
      "outputs": [
        {
          "output_type": "stream",
          "name": "stdout",
          "text": [
            "Model: \"model\"\n",
            "_________________________________________________________________\n",
            " Layer (type)                Output Shape              Param #   \n",
            "=================================================================\n",
            " input_2 (InputLayer)        [(None, 197, 198, 3)]     0         \n",
            "                                                                 \n",
            " xception (Functional)       (None, 6, 6, 2048)        20861480  \n",
            "                                                                 \n",
            " flatten (Flatten)           (None, 73728)             0         \n",
            "                                                                 \n",
            " dense (Dense)               (None, 512)               37749248  \n",
            "                                                                 \n",
            " dropout (Dropout)           (None, 512)               0         \n",
            "                                                                 \n",
            " dense_1 (Dense)             (None, 4)                 2052      \n",
            "                                                                 \n",
            "=================================================================\n",
            "Total params: 58,612,780\n",
            "Trainable params: 37,751,300\n",
            "Non-trainable params: 20,861,480\n",
            "_________________________________________________________________\n"
          ]
        }
      ]
    },
    {
      "cell_type": "code",
      "source": [
        "#Compiling the model with the appropriate parameters\n",
        "\n",
        "xcep.compile(loss=\"categorical_crossentropy\",optimizer = 'rmsprop', metrics=[\"accuracy\"])\n",
        "\n",
        "#We wish to track the validation loss and save the best model\n",
        "\n",
        "callbacks = tf.keras.callbacks.ModelCheckpoint(filepath=\"x.keras\",\n",
        "                                            save_best_only=True,\n",
        "                                            monitor=\"val_loss\")\n"
      ],
      "metadata": {
        "id": "DFk0CDNMBNoA"
      },
      "execution_count": null,
      "outputs": []
    },
    {
      "cell_type": "code",
      "source": [
        "#Training the model, the class weight parameter has been set up to the computed weights \n",
        "xcep.fit( train_generator,steps_per_epoch = len(train_generator),epochs= 7 , validation_data= val_generator,\n",
        "             validation_steps = len(val_generator), callbacks = [callbacks], class_weight = class_weights)"
      ],
      "metadata": {
        "colab": {
          "base_uri": "https://localhost:8080/"
        },
        "id": "XruVek7PBWxc",
        "outputId": "61511646-eb23-434d-eed9-413dcd456621"
      },
      "execution_count": null,
      "outputs": [
        {
          "output_type": "stream",
          "name": "stdout",
          "text": [
            "Epoch 1/7\n",
            "19/19 [==============================] - 1977s 104s/step - loss: 54.2009 - accuracy: 0.6875 - val_loss: 68.0049 - val_accuracy: 0.6065\n",
            "Epoch 2/7\n",
            "19/19 [==============================] - 97s 5s/step - loss: 8.3339 - accuracy: 0.8928 - val_loss: 94.6509 - val_accuracy: 0.6007\n",
            "Epoch 3/7\n",
            "19/19 [==============================] - 100s 5s/step - loss: 7.1167 - accuracy: 0.9199 - val_loss: 1.4170 - val_accuracy: 0.9564\n",
            "Epoch 4/7\n",
            "19/19 [==============================] - 101s 5s/step - loss: 13.8068 - accuracy: 0.8766 - val_loss: 1.0567 - val_accuracy: 0.9644\n",
            "Epoch 5/7\n",
            "19/19 [==============================] - 98s 5s/step - loss: 2.4924 - accuracy: 0.9639 - val_loss: 4.0448 - val_accuracy: 0.9665\n",
            "Epoch 6/7\n",
            "19/19 [==============================] - 97s 5s/step - loss: 14.6255 - accuracy: 0.8699 - val_loss: 2.8105 - val_accuracy: 0.9680\n",
            "Epoch 7/7\n",
            "19/19 [==============================] - 96s 5s/step - loss: 1.7355 - accuracy: 0.9691 - val_loss: 2.4782 - val_accuracy: 0.9658\n"
          ]
        }
      ]
    },
    {
      "cell_type": "code",
      "source": [
        "xcep.save(\"classification.hdf5\")"
      ],
      "metadata": {
        "id": "00H-slsL7PhG"
      },
      "execution_count": null,
      "outputs": []
    },
    {
      "cell_type": "code",
      "source": [
        "import numpy as np\n",
        "\n",
        "#The model is now being used for making predictions on the test dataset\n",
        "predict = xcep.predict_generator(\n",
        "    test_generator, workers=0, verbose=0\n",
        ")\n",
        "\n",
        "#Getting class of the predictions made\n",
        "predictedClass = np.argmax(predict, axis=1)\n",
        "\n",
        "#True class of every image in test data\n",
        "trueClass = test_generator.classes[test_generator.index_array]"
      ],
      "metadata": {
        "colab": {
          "base_uri": "https://localhost:8080/"
        },
        "id": "irWCftKYBXeI",
        "outputId": "ca35daab-5e25-4e8a-e396-ab97e8d352d0"
      },
      "execution_count": null,
      "outputs": [
        {
          "output_type": "stream",
          "name": "stderr",
          "text": [
            "/usr/local/lib/python3.7/dist-packages/ipykernel_launcher.py:5: UserWarning: `Model.predict_generator` is deprecated and will be removed in a future version. Please use `Model.predict`, which supports generators.\n",
            "  \"\"\"\n"
          ]
        }
      ]
    },
    {
      "cell_type": "code",
      "source": [
        "from sklearn.metrics import precision_score\n",
        "from sklearn.metrics import accuracy_score\n",
        "from sklearn.metrics import recall_score\n",
        "from sklearn.metrics import f1_score\n",
        "import numpy as np\n",
        "\n",
        "#Computing the performance metrics\n",
        "print(\"Precision score is \", precision_score(trueClass, predictedClass, average = \"weighted\"))\n",
        "print(\"Accuracy score is \", accuracy_score(trueClass, predictedClass))\n",
        "print(\"Recall is \",recall_score(trueClass, predictedClass,average = \"weighted\"))\n",
        "print(\"F1 score is \",f1_score(trueClass, predictedClass,average = \"weighted\"))"
      ],
      "metadata": {
        "colab": {
          "base_uri": "https://localhost:8080/"
        },
        "id": "NTfZdU6lBXjG",
        "outputId": "8b7711f8-0503-4aef-de24-38ad08de2e95"
      },
      "execution_count": null,
      "outputs": [
        {
          "output_type": "stream",
          "name": "stdout",
          "text": [
            "Precision score is  0.9714525967822378\n",
            "Accuracy score is  0.9691805656272662\n",
            "Recall is  0.9691805656272662\n",
            "F1 score is  0.9686410545255468\n"
          ]
        }
      ]
    },
    {
      "cell_type": "code",
      "source": [
        "#Visualizing the confusion matrix\n",
        "import seaborn as sns\n",
        "from sklearn.metrics import confusion_matrix\n",
        "import matplotlib.pyplot as plt\n",
        "\n",
        "\n",
        "# Get the names of the ten classes\n",
        "class_names = test_generator.class_indices.keys()\n",
        "\n",
        "true_classes = test_generator.classes\n",
        "\n",
        "class_names = test_generator.class_indices.keys()\n",
        "\n",
        "def plot_heatmap(y_true, y_pred, class_names, ax, title):\n",
        "    cm = confusion_matrix(y_true, y_pred)\n",
        "    sns.heatmap(\n",
        "        cm, \n",
        "        annot=True, \n",
        "        square=True, \n",
        "        xticklabels=class_names, \n",
        "        yticklabels=class_names,\n",
        "        fmt='d', \n",
        "        cmap=plt.cm.Blues,\n",
        "        cbar=False,\n",
        "        ax=ax\n",
        "    )\n",
        "    ax.set_title(title, fontsize=16)\n",
        "    ax.set_xticklabels(ax.get_xticklabels(), rotation=45, ha=\"right\")\n",
        "    ax.set_ylabel('True Label', fontsize=12)\n",
        "    ax.set_xlabel('Predicted Label', fontsize=12)\n",
        "\n",
        "fig, (ax1) = plt.subplots(1, 1, figsize=(20, 10))\n",
        "\n",
        "plot_heatmap(trueClass, predictedClass, class_names, ax1, title=\"Xception\")    \n",
        "\n",
        "fig.suptitle(\"Confusion Matrix\", fontsize=24)\n",
        "fig.tight_layout()\n",
        "fig.subplots_adjust(top=1.25)\n",
        "plt.show()"
      ],
      "metadata": {
        "colab": {
          "base_uri": "https://localhost:8080/",
          "height": 938
        },
        "id": "CPu1jhqFBXlw",
        "outputId": "fc12c9d1-f2e2-4daa-8ed4-7c1441b0b9a4"
      },
      "execution_count": null,
      "outputs": [
        {
          "output_type": "display_data",
          "data": {
            "text/plain": [
              "<Figure size 1440x720 with 1 Axes>"
            ],
            "image/png": "[encoded data removed]"
          },
          "metadata": {
            "needs_background": "light"
          }
        }
      ]
    },
    {
      "cell_type": "code",
      "source": [
        "#Printing the classification report to get a picture of performance on all classes\n",
        "\n",
        "from sklearn.metrics import accuracy_score,confusion_matrix,classification_report\n",
        "\n",
        "print(classification_report(trueClass, predictedClass))"
      ],
      "metadata": {
        "colab": {
          "base_uri": "https://localhost:8080/"
        },
        "id": "2mZ8mPUbBnxx",
        "outputId": "a8947065-f05f-45f9-d6fe-2a1ed9a860a7"
      },
      "execution_count": null,
      "outputs": [
        {
          "output_type": "stream",
          "name": "stdout",
          "text": [
            "              precision    recall  f1-score   support\n",
            "\n",
            "           0       1.00      1.00      1.00       322\n",
            "           1       0.93      1.00      0.96      1068\n",
            "           2       1.00      0.86      0.92       568\n",
            "           3       1.00      0.99      1.00       800\n",
            "\n",
            "    accuracy                           0.97      2758\n",
            "   macro avg       0.98      0.96      0.97      2758\n",
            "weighted avg       0.97      0.97      0.97      2758\n",
            "\n"
          ]
        }
      ]
    }
  ],
  "metadata": {
    "accelerator": "GPU",
    "colab": {
      "collapsed_sections": [],
      "machine_shape": "hm",
      "name": "FourClass_Part01.ipynb",
      "provenance": []
    },
    "gpuClass": "standard",
    "kernelspec": {
      "display_name": "Python 3",
      "name": "python3"
    },
    "language_info": {
      "name": "python"
    }
  },
  "nbformat": 4,
  "nbformat_minor": 0
}