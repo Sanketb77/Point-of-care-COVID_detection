{
  "nbformat": 4,
  "nbformat_minor": 0,
  "metadata": {
    "colab": {
      "name": "FourClass_Part02.ipynb",
      "provenance": [],
      "collapsed_sections": [],
      "machine_shape": "hm"
    },
    "kernelspec": {
      "name": "python3",
      "display_name": "Python 3"
    },
    "language_info": {
      "name": "python"
    },
    "accelerator": "GPU",
    "gpuClass": "standard"
  },
  "cells": [
    {
      "cell_type": "markdown",
      "source": [
        "### Project Title : - Using Lung ultrasound images for building a reliable Point-of-care Covid-19 testing system"
      ],
      "metadata": {
        "id": "VsYs8nUkTSQ3"
      }
    },
    {
      "cell_type": "markdown",
      "source": [
        "#### Multi Classifier : For classifying lung ultrasound images into one of the categories : Covid, Normal, Pneumonia and Other"
      ],
      "metadata": {
        "id": "lOeiffE4T3TP"
      }
    },
    {
      "cell_type": "code",
      "source": [
        "#Mounting the google drive as the data is available there\n",
        "\n",
        "from google.colab import drive\n",
        "drive.mount(\"/content/drive/\")"
      ],
      "metadata": {
        "id": "wsLdWPc7T8SY",
        "colab": {
          "base_uri": "https://localhost:8080/"
        },
        "outputId": "e0666e8b-19ae-4545-f4c0-b118df23f564"
      },
      "execution_count": null,
      "outputs": [
        {
          "output_type": "stream",
          "name": "stdout",
          "text": [
            "Drive already mounted at /content/drive/; to attempt to forcibly remount, call drive.mount(\"/content/drive/\", force_remount=True).\n"
          ]
        }
      ]
    },
    {
      "cell_type": "markdown",
      "source": [
        "#### Loading and pre-processing of the image dataset"
      ],
      "metadata": {
        "id": "w115B5x5wtWg"
      }
    },
    {
      "cell_type": "code",
      "source": [
        "#Importing the libraries\n",
        "import pathlib\n",
        "from pathlib import Path\n",
        "from tensorflow.keras.preprocessing.image import load_img, img_to_array, smart_resize\n",
        "import numpy as np\n",
        "\n",
        "p = Path().cwd()\n",
        "q = p/'drive'/'My Drive'/'My_Dataset' # use p to create a path to the data \n",
        "\n",
        "\n",
        "#There are four classes our classes\n",
        "target_dict = {\"Normal\" : 0, \"covid\" :1, \"Pneumonia\" : 2, \"Other\" : 3 }\n",
        "images = [] # create an empty list\n",
        "labels = [] # create an empty list  \n",
        "\n",
        "#This piece of code loads the images, resize them to 197X198 pixels and append them to a list\n",
        "\n",
        "#Label for every image is appended to the list as well\n",
        "\n",
        "for fldr in q.iterdir(): \n",
        "    current_label = fldr.name # get the name of the current label \n",
        "    print(current_label)  \n",
        "    for img in fldr.iterdir():\n",
        "        img = load_img(img,grayscale = True)\n",
        "        img_array = img_to_array(img) # convert the image to an NumPy array \n",
        "        size = (197,198)\n",
        "        img_array_resized = smart_resize(img_array,size)\n",
        "        images.append(img_array_resized)# add reshaped image to list of images \n",
        "        labels.append(current_label)# add label for this image to the list of labels \n",
        "        \n",
        "\n"
      ],
      "metadata": {
        "id": "oJoeRAwVBSbk",
        "colab": {
          "base_uri": "https://localhost:8080/"
        },
        "outputId": "af5dd3b6-3845-45e9-bcbb-c1b6594d9a5b"
      },
      "execution_count": null,
      "outputs": [
        {
          "output_type": "stream",
          "name": "stdout",
          "text": [
            "covid\n"
          ]
        },
        {
          "output_type": "stream",
          "name": "stderr",
          "text": [
            "/usr/local/lib/python3.7/dist-packages/keras_preprocessing/image/utils.py:107: UserWarning: grayscale is deprecated. Please use color_mode = \"grayscale\"\n",
            "  warnings.warn('grayscale is deprecated. Please use '\n"
          ]
        },
        {
          "output_type": "stream",
          "name": "stdout",
          "text": [
            "Normal\n",
            "Other\n",
            "Pneumonia\n"
          ]
        }
      ]
    },
    {
      "cell_type": "code",
      "source": [
        "images_1 = np.array(images) # convert the list of images to a NumPy array \n",
        "labels_1 = np.array(labels) # convert the list of labels to a NumPy array"
      ],
      "metadata": {
        "id": "N2V9bqZOUN_8"
      },
      "execution_count": null,
      "outputs": []
    },
    {
      "cell_type": "code",
      "source": [
        "# use the target_dict to convert the string labels to an array of integers\n",
        "\n",
        "labels_1 = np.asarray(list(map(lambda x: target_dict[x] if x in target_dict.keys() else x , labels_1))) "
      ],
      "metadata": {
        "id": "xsrnhu5LmKsC"
      },
      "execution_count": null,
      "outputs": []
    },
    {
      "cell_type": "code",
      "source": [
        "#normalizing the images by making sure that the pixel values lie between 0 and 1\n",
        "\n",
        "images_1 = images_1/255.0"
      ],
      "metadata": {
        "id": "ImxcS6aaDBcg"
      },
      "execution_count": null,
      "outputs": []
    },
    {
      "cell_type": "code",
      "source": [
        "#sklearn expects i/p to be 2d array-model.fit(x_train,y_train)=>reshape to 2d array\n",
        "\n",
        "nsamples, nx, ny, nrgb = images_1.shape\n",
        "images_1 = images_1.reshape((nsamples,nx*ny*nrgb))"
      ],
      "metadata": {
        "id": "JcI4g0BjDIVP"
      },
      "execution_count": null,
      "outputs": []
    },
    {
      "cell_type": "markdown",
      "source": [
        "#### Splitting the dataset"
      ],
      "metadata": {
        "id": "D8wPPCpNFTkt"
      }
    },
    {
      "cell_type": "code",
      "source": [
        "from sklearn.model_selection import train_test_split\n",
        "\n",
        "\n",
        "#Splitting data into training,testing and validation\n",
        "X_train, X_test, y_train, y_test = train_test_split(images_1, labels_1, test_size=0.3, random_state=111)"
      ],
      "metadata": {
        "id": "R2tfMteNFRhu"
      },
      "execution_count": null,
      "outputs": []
    },
    {
      "cell_type": "markdown",
      "source": [
        "#### Balanced Bagging Classifier with Decision Tree Classifier"
      ],
      "metadata": {
        "id": "HbBDRSTWFl5I"
      }
    },
    {
      "cell_type": "code",
      "source": [
        "!pip install scikit-learn==1.0 -U"
      ],
      "metadata": {
        "colab": {
          "base_uri": "https://localhost:8080/"
        },
        "id": "NX3hNk-PydTt",
        "outputId": "6c9a2bda-ca27-46e6-f2c5-e41fb1b87369"
      },
      "execution_count": null,
      "outputs": [
        {
          "output_type": "stream",
          "name": "stdout",
          "text": [
            "Looking in indexes: https://pypi.org/simple, https://us-python.pkg.dev/colab-wheels/public/simple/\n",
            "Requirement already satisfied: scikit-learn==1.0 in /usr/local/lib/python3.7/dist-packages (1.0)\n",
            "Requirement already satisfied: threadpoolctl>=2.0.0 in /usr/local/lib/python3.7/dist-packages (from scikit-learn==1.0) (3.1.0)\n",
            "Requirement already satisfied: numpy>=1.14.6 in /usr/local/lib/python3.7/dist-packages (from scikit-learn==1.0) (1.21.6)\n",
            "Requirement already satisfied: joblib>=0.11 in /usr/local/lib/python3.7/dist-packages (from scikit-learn==1.0) (1.1.0)\n",
            "Requirement already satisfied: scipy>=1.1.0 in /usr/local/lib/python3.7/dist-packages (from scikit-learn==1.0) (1.4.1)\n"
          ]
        }
      ]
    },
    {
      "cell_type": "code",
      "source": [
        "import imblearn\n",
        "from imblearn.ensemble import BalancedBaggingClassifier\n",
        "from sklearn.tree import DecisionTreeClassifier\n",
        "\n",
        "#Create an instance \n",
        "\n",
        "#Balanced Bagging classifier, resamples the training data while fitting a model on it using a resampling strategy\n",
        "\n",
        "#Here, we are resampling all classes except the majority so that all classes have comparable number of instances\n",
        "classifier = BalancedBaggingClassifier(base_estimator=DecisionTreeClassifier(),\n",
        "                                sampling_strategy='not majority',\n",
        "                                replacement=False,\n",
        "                                random_state=42)\n"
      ],
      "metadata": {
        "id": "YWpmylhyFRiS"
      },
      "execution_count": null,
      "outputs": []
    },
    {
      "cell_type": "code",
      "source": [
        "#Fitting the classifier on the training data \n",
        "classifier.fit(X_train, y_train)"
      ],
      "metadata": {
        "colab": {
          "base_uri": "https://localhost:8080/"
        },
        "id": "ZHksa-T41iUh",
        "outputId": "1928489b-31a8-46f2-a971-a74e4e40cb36"
      },
      "execution_count": null,
      "outputs": [
        {
          "output_type": "execute_result",
          "data": {
            "text/plain": [
              "BalancedBaggingClassifier(base_estimator=DecisionTreeClassifier(),\n",
              "                          random_state=42, sampling_strategy='not majority')"
            ]
          },
          "metadata": {},
          "execution_count": 11
        }
      ]
    },
    {
      "cell_type": "markdown",
      "source": [
        "#### Testing model's performance"
      ],
      "metadata": {
        "id": "Y8xOt9Wk9lfk"
      }
    },
    {
      "cell_type": "code",
      "source": [
        "#Making predictions on the test data\n",
        "preds = classifier.predict(X_test)"
      ],
      "metadata": {
        "id": "l983bzRkFRkE"
      },
      "execution_count": null,
      "outputs": []
    },
    {
      "cell_type": "code",
      "source": [
        "from sklearn.metrics import accuracy_score, precision_score,recall_score, f1_score\n",
        "\n",
        "# calculate accuracy, precision, recall and F1_score for evaluating the model's performance\n",
        "accuracy = accuracy_score(y_test, preds)\n",
        "print('Model accuracy is: ', accuracy)\n",
        "\n",
        "#'weighted' average is being used as it is a multi-classification problem and each performance measure will be an average of the same metric for all classes but with weights assigned to them.\n",
        "\n",
        "precision = precision_score(y_test, preds, average = 'weighted')\n",
        "print('Model precision is: ', precision)\n",
        "\n",
        "recall = recall_score(y_test, preds, average = 'weighted')\n",
        "print('Model recall is: ', recall)\n",
        "\n",
        "f1_score = f1_score(y_test, preds, average = 'weighted')\n",
        "print('Model F1-Score is: ', f1_score)\n",
        "\n"
      ],
      "metadata": {
        "id": "9vP9bomaFRmX",
        "colab": {
          "base_uri": "https://localhost:8080/"
        },
        "outputId": "5b0452ba-a1b4-450f-fdb6-e6320fe96621"
      },
      "execution_count": null,
      "outputs": [
        {
          "output_type": "stream",
          "name": "stdout",
          "text": [
            "Model accuracy is:  0.9537754114230397\n",
            "Model precision is:  0.9535835304552484\n",
            "Model recall is:  0.9537754114230397\n",
            "Model F1-Score is:  0.9534967891936419\n"
          ]
        }
      ]
    },
    {
      "cell_type": "code",
      "source": [
        "#Printing the classification report to get a picture of performance on all classes\n",
        "\n",
        "from sklearn.metrics import accuracy_score,confusion_matrix,classification_report\n",
        "\n",
        "print(classification_report(preds,y_test))"
      ],
      "metadata": {
        "id": "GD_d-lOpFRoe",
        "colab": {
          "base_uri": "https://localhost:8080/"
        },
        "outputId": "03874598-664b-4d65-f049-8a2dd113b2c5"
      },
      "execution_count": null,
      "outputs": [
        {
          "output_type": "stream",
          "name": "stdout",
          "text": [
            "              precision    recall  f1-score   support\n",
            "\n",
            "           0       1.00      1.00      1.00       460\n",
            "           1       1.00      1.00      1.00      1177\n",
            "           2       0.87      0.91      0.89       833\n",
            "           3       0.95      0.93      0.94      1662\n",
            "\n",
            "    accuracy                           0.95      4132\n",
            "   macro avg       0.96      0.96      0.96      4132\n",
            "weighted avg       0.95      0.95      0.95      4132\n",
            "\n"
          ]
        }
      ]
    },
    {
      "cell_type": "code",
      "source": [
        "# Plot confusion matrix in a beautiful manner\n",
        "import matplotlib.pyplot as plt\n",
        "import seaborn as sns\n",
        "\n",
        "cm = confusion_matrix(y_test, preds)\n",
        "\n",
        "class_names = ['Covid','Normal','Pneumonia','Other']\n",
        "fig = plt.figure(figsize=(16, 14))\n",
        "ax= plt.subplot()\n",
        "sns.heatmap(cm, annot=True, ax = ax, fmt = 'g'); #annot=True to annotate cells\n",
        "# labels, title and ticks\n",
        "ax.set_xlabel('Predicted', fontsize=20)\n",
        "ax.xaxis.set_label_position('bottom')\n",
        "plt.xticks(rotation=90)\n",
        "ax.xaxis.set_ticklabels(class_names, fontsize = 10)\n",
        "ax.xaxis.tick_bottom()\n",
        "\n",
        "ax.set_ylabel('True', fontsize=20)\n",
        "ax.yaxis.set_ticklabels(class_names, fontsize = 10)\n",
        "plt.yticks(rotation=0)\n",
        "\n",
        "plt.title('Refined Confusion Matrix', fontsize=20)\n",
        "plt.show()"
      ],
      "metadata": {
        "id": "Tru6WowaFRq0",
        "colab": {
          "base_uri": "https://localhost:8080/",
          "height": 899
        },
        "outputId": "2a1ac414-1e99-4508-d323-84e855b8ac0b"
      },
      "execution_count": null,
      "outputs": [
        {
          "output_type": "display_data",
          "data": {
            "text/plain": [
              "<Figure size 1152x1008 with 2 Axes>"
            ],
            "image/png": "[encoded data removed]"
          },
          "metadata": {
            "needs_background": "light"
          }
        }
      ]
    },
    {
      "cell_type": "markdown",
      "source": [
        "#### Multinomial Logistic Regression with Stratification"
      ],
      "metadata": {
        "id": "emTGSWImIOGb"
      }
    },
    {
      "cell_type": "code",
      "source": [
        "from sklearn.model_selection import train_test_split\n",
        "\n",
        "\n",
        "#Splitting data into training,testing and validation\n",
        "\n",
        "#Stratification ensures that the proportion of instances in training and test dataset for each class should be same as that of the original dataset.\n",
        "\n",
        "X_train, X_test, y_train, y_test = train_test_split(images_1, labels_1, test_size=0.3, random_state=111, stratify = labels_1)"
      ],
      "metadata": {
        "id": "WELLu0vNIMBD"
      },
      "execution_count": null,
      "outputs": []
    },
    {
      "cell_type": "code",
      "source": [
        "from sklearn.linear_model import LogisticRegression\n",
        "\n",
        "model = LogisticRegression(multi_class='multinomial', solver='lbfgs')\n",
        "\n",
        "# fit the model on the whole dataset\n",
        "\n",
        "model.fit(X_train, y_train)"
      ],
      "metadata": {
        "id": "Reakl_3MISb5",
        "colab": {
          "base_uri": "https://localhost:8080/"
        },
        "outputId": "d79930ae-2068-4065-d61b-504b723d052d"
      },
      "execution_count": null,
      "outputs": [
        {
          "output_type": "stream",
          "name": "stderr",
          "text": [
            "/usr/local/lib/python3.7/dist-packages/sklearn/linear_model/_logistic.py:818: ConvergenceWarning: lbfgs failed to converge (status=1):\n",
            "STOP: TOTAL NO. of ITERATIONS REACHED LIMIT.\n",
            "\n",
            "Increase the number of iterations (max_iter) or scale the data as shown in:\n",
            "    https://scikit-learn.org/stable/modules/preprocessing.html\n",
            "Please also refer to the documentation for alternative solver options:\n",
            "    https://scikit-learn.org/stable/modules/linear_model.html#logistic-regression\n",
            "  extra_warning_msg=_LOGISTIC_SOLVER_CONVERGENCE_MSG,\n"
          ]
        },
        {
          "output_type": "execute_result",
          "data": {
            "text/plain": [
              "LogisticRegression(multi_class='multinomial')"
            ]
          },
          "metadata": {},
          "execution_count": 30
        }
      ]
    },
    {
      "cell_type": "markdown",
      "source": [
        "#### Testing model's performance"
      ],
      "metadata": {
        "id": "TBYWyNiN9phM"
      }
    },
    {
      "cell_type": "code",
      "source": [
        "#Getting predictions on the test data\n",
        "\n",
        "preds = model.predict(X_test)"
      ],
      "metadata": {
        "id": "UNok6_xy9I6o"
      },
      "execution_count": null,
      "outputs": []
    },
    {
      "cell_type": "code",
      "source": [
        "from sklearn.metrics import accuracy_score, precision_score,recall_score, f1_score\n",
        "\n",
        "# calculating the performance measures\n",
        "\n",
        "accuracy = accuracy_score(y_test, preds)\n",
        "print('Model accuracy is: ', accuracy)\n",
        "\n",
        "precision = precision_score(y_test, preds, average = 'weighted')\n",
        "print('Model precision is: ', precision)\n",
        "\n",
        "recall = recall_score(y_test, preds, average = 'weighted')\n",
        "print('Model recall is: ', recall)\n",
        "\n",
        "f1_score = f1_score(y_test, preds, average = 'weighted')\n",
        "print('Model F1-Score is: ', f1_score)"
      ],
      "metadata": {
        "id": "oc2LYXnAIbA3",
        "colab": {
          "base_uri": "https://localhost:8080/"
        },
        "outputId": "387a3b87-e7b9-4bda-cd52-239273932653"
      },
      "execution_count": null,
      "outputs": [
        {
          "output_type": "stream",
          "name": "stdout",
          "text": [
            "Model accuracy is:  0.9542594385285575\n",
            "Model precision is:  0.9542991903908122\n",
            "Model recall is:  0.9542594385285575\n",
            "Model F1-Score is:  0.9542789757177947\n"
          ]
        }
      ]
    },
    {
      "cell_type": "code",
      "source": [
        "#Printing the classification report to get a picture of performance on all classes\n",
        "\n",
        "from sklearn.metrics import accuracy_score,confusion_matrix,classification_report\n",
        "\n",
        "print(classification_report(preds,y_test))"
      ],
      "metadata": {
        "id": "MiPlffVsIbpC",
        "colab": {
          "base_uri": "https://localhost:8080/"
        },
        "outputId": "b8abdc9b-8c2c-4294-9ce1-79280fd56e1c"
      },
      "execution_count": null,
      "outputs": [
        {
          "output_type": "stream",
          "name": "stdout",
          "text": [
            "              precision    recall  f1-score   support\n",
            "\n",
            "           0       1.00      1.00      1.00       482\n",
            "           1       1.00      1.00      1.00      1198\n",
            "           2       0.89      0.89      0.89       852\n",
            "           3       0.94      0.94      0.94      1600\n",
            "\n",
            "    accuracy                           0.95      4132\n",
            "   macro avg       0.96      0.96      0.96      4132\n",
            "weighted avg       0.95      0.95      0.95      4132\n",
            "\n"
          ]
        }
      ]
    },
    {
      "cell_type": "code",
      "source": [
        "# Creating  a confusion matrix,which compares the y_test and y_pred\n",
        "cm = confusion_matrix(y_test, preds)\n",
        "\n",
        "# Creating a dataframe for a array-formatted Confusion matrix,so it will be easy for plotting.\n",
        "cm_df = pd.DataFrame(cm,\n",
        "                     index = ['Covid','Normal','Pneumonia','Other'], \n",
        "                     columns = ['Covid','Normal','Pneumonia','Other'])\n",
        "\n",
        "print(cm_df)"
      ],
      "metadata": {
        "colab": {
          "base_uri": "https://localhost:8080/"
        },
        "id": "4ufdeyKp0NqA",
        "outputId": "00eeefe6-b234-486e-cab9-985b77d7f477"
      },
      "execution_count": null,
      "outputs": [
        {
          "output_type": "stream",
          "name": "stdout",
          "text": [
            "           Covid  Normal  Pneumonia  Other\n",
            "Covid        482       0          0      0\n",
            "Normal         0    1198          0      1\n",
            "Pneumonia      0       0        757     93\n",
            "Other          0       0         95   1506\n"
          ]
        }
      ]
    },
    {
      "cell_type": "code",
      "source": [
        "# Plot confusion matrix in a beautiful manner\n",
        "\n",
        "cm = confusion_matrix(y_test, preds)\n",
        "\n",
        "class_names = ['Covid','Normal','Pneumonia','Other']\n",
        "fig = plt.figure(figsize=(16, 14))\n",
        "ax= plt.subplot()\n",
        "sns.heatmap(cm, annot=True, ax = ax, fmt = 'g'); #annot=True to annotate cells\n",
        "# labels, title and ticks\n",
        "ax.set_xlabel('Predicted', fontsize=20)\n",
        "ax.xaxis.set_label_position('bottom')\n",
        "plt.xticks(rotation=90)\n",
        "ax.xaxis.set_ticklabels(class_names, fontsize = 10)\n",
        "ax.xaxis.tick_bottom()\n",
        "\n",
        "ax.set_ylabel('True', fontsize=20)\n",
        "ax.yaxis.set_ticklabels(class_names, fontsize = 10)\n",
        "plt.yticks(rotation=0)\n",
        "\n",
        "plt.title('Refined Confusion Matrix', fontsize=20)\n",
        "plt.show()"
      ],
      "metadata": {
        "colab": {
          "base_uri": "https://localhost:8080/",
          "height": 899
        },
        "id": "3Sv6U20i05KQ",
        "outputId": "f71cff27-d701-4459-ad84-2c0c92039cfe"
      },
      "execution_count": null,
      "outputs": [
        {
          "output_type": "display_data",
          "data": {
            "text/plain": [
              "<Figure size 1152x1008 with 2 Axes>"
            ],
            "image/png": "[encoded data removed]"
          },
          "metadata": {
            "needs_background": "light"
          }
        }
      ]
    }
  ]
}